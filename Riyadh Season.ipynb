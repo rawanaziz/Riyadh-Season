{
 "cells": [
  {
   "cell_type": "markdown",
   "metadata": {},
   "source": [
    "\n",
    "By Rawan AlNafesah"
   ]
  },
  {
   "cell_type": "markdown",
   "metadata": {
    "extensions": {
     "jupyter_dashboards": {
      "version": 1,
      "views": {
       "default_view": {
        "col": 5,
        "height": 3,
        "row": 0,
        "width": 2
       }
      }
     }
    }
   },
   "source": [
    "# موسم الرياض\n"
   ]
  },
  {
   "cell_type": "markdown",
   "metadata": {},
   "source": [
    "# Project Description "
   ]
  },
  {
   "cell_type": "raw",
   "metadata": {},
   "source": [
    "Here ,an Arabic Sentimen anaylsis with Tweets in hashtag #موسم_الرياض  ,\n",
    "The dataset has been taken from Twitter  platform (I am Tweeter developer ).\n",
    "it has  been taken only 1000 tweets to figure out the Saudi people perceived satisfaction towards the Riyadh Season"
   ]
  },
  {
   "cell_type": "markdown",
   "metadata": {},
   "source": [
    "# Project Contents"
   ]
  },
  {
   "cell_type": "markdown",
   "metadata": {
    "extensions": {
     "jupyter_dashboards": {
      "version": 1,
      "views": {
       "default_view": {
        "col": 4,
        "height": 3,
        "row": 3,
        "width": 4
       }
      }
     }
    }
   },
   "source": [
    "# 1-Removing the Noise\n",
    "# 2-Classifcation based on lexicons \n",
    "# 3-Text Cleaning \n",
    "# 4-Normlization \n",
    "# 5-Toknization \n",
    "# 6-Stopwords\n",
    "# 5-Sentiment Classification \n",
    "# 6-Topic Modling "
   ]
  },
  {
   "cell_type": "markdown",
   "metadata": {},
   "source": [
    "# Data Loading  "
   ]
  },
  {
   "cell_type": "code",
   "execution_count": 1,
   "metadata": {
    "extensions": {
     "jupyter_dashboards": {
      "version": 1,
      "views": {
       "default_view": {
        "hidden": true
       }
      }
     }
    }
   },
   "outputs": [],
   "source": [
    "\n",
    "import pandas as pd\n",
    "import numpy as np\n",
    "df = pd.read_csv('C:/Users/rawan/Desktop/last/tweet_text9.csv')"
   ]
  },
  {
   "cell_type": "markdown",
   "metadata": {},
   "source": [
    "# Data Cleaning and prepartion "
   ]
  },
  {
   "cell_type": "code",
   "execution_count": 2,
   "metadata": {
    "extensions": {
     "jupyter_dashboards": {
      "version": 1,
      "views": {
       "default_view": {
        "hidden": true
       }
      }
     }
    }
   },
   "outputs": [],
   "source": [
    "clean_df = df.dropna()"
   ]
  },
  {
   "cell_type": "code",
   "execution_count": 3,
   "metadata": {
    "extensions": {
     "jupyter_dashboards": {
      "version": 1,
      "views": {
       "default_view": {
        "hidden": true
       }
      }
     }
    }
   },
   "outputs": [],
   "source": [
    "# Remove nosiy tweets\n",
    "noise=[\"كود خصم\",\"خصومات\",\"كوبون\",\"تخفيضات\",\"العقارات\",\"فريق متخص\",\"لملاك\",\"ملاك\",\"عقارات\",\"جلب الحبيب\",\"فك السحر\"]"
   ]
  },
  {
   "cell_type": "code",
   "execution_count": 4,
   "metadata": {
    "extensions": {
     "jupyter_dashboards": {
      "version": 1,
      "views": {
       "default_view": {
        "hidden": true
       }
      }
     }
    }
   },
   "outputs": [],
   "source": [
    "def remove_noise(tweet):\n",
    "    label=\"ok\"\n",
    "    for word in noise:\n",
    "        if word in tweet:\n",
    "            label=\"noise\"\n",
    "    return label"
   ]
  },
  {
   "cell_type": "code",
   "execution_count": 5,
   "metadata": {
    "extensions": {
     "jupyter_dashboards": {
      "version": 1,
      "views": {
       "default_view": {
        "hidden": true
       }
      }
     }
    }
   },
   "outputs": [],
   "source": [
    "# apply the method\n",
    "df[\"is Noise\"] = df['Tweets'].apply(lambda x: remove_noise(str(x)))"
   ]
  },
  {
   "cell_type": "code",
   "execution_count": 6,
   "metadata": {
    "extensions": {
     "jupyter_dashboards": {
      "version": 1,
      "views": {
       "default_view": {
        "hidden": true
       }
      }
     }
    }
   },
   "outputs": [],
   "source": [
    "# remove the noise\n",
    "df=df[df[\"is Noise\"]!=\"noise\"]"
   ]
  },
  {
   "cell_type": "markdown",
   "metadata": {},
   "source": [
    "# classification base on lexican "
   ]
  },
  {
   "cell_type": "raw",
   "metadata": {},
   "source": [
    "I mad here approxmitly 74000 words in negitive and  positive words |(Saudi accent)"
   ]
  },
  {
   "cell_type": "code",
   "execution_count": 7,
   "metadata": {
    "extensions": {
     "jupyter_dashboards": {
      "version": 1,
      "views": {
       "default_view": {
        "hidden": true
       }
      }
     }
    }
   },
   "outputs": [],
   "source": [
    "pos_list=pd.read_csv('C:/Users/rawan/Desktop/last/pos.csv')\n",
    "neg_list=pd.read_csv('C:/Users/rawan/Desktop/last/neg.csv')"
   ]
  },
  {
   "cell_type": "code",
   "execution_count": 8,
   "metadata": {
    "extensions": {
     "jupyter_dashboards": {
      "version": 1,
      "views": {
       "default_view": {
        "hidden": true
       }
      }
     }
    }
   },
   "outputs": [],
   "source": [
    "\n",
    "def pos_sentiment(tweet):\n",
    "    \n",
    "    count=0\n",
    "    # loop through the list of words and see if they are in the tweet text\n",
    "    for word in pos_list:\n",
    "        \n",
    "        if word in tweet:\n",
    "            count+=1\n",
    "    \n",
    "    return count"
   ]
  },
  {
   "cell_type": "code",
   "execution_count": 9,
   "metadata": {
    "extensions": {
     "jupyter_dashboards": {
      "version": 1,
      "views": {
       "default_view": {
        "hidden": true
       }
      }
     }
    }
   },
   "outputs": [],
   "source": [
    "pos_list=pos_list[\"word\"].values.tolist()\n",
    "#apply the method to the data\n",
    "df[\"pos_count\"] = df[\"Tweets\"].apply(lambda x: pos_sentiment(str(x)))"
   ]
  },
  {
   "cell_type": "code",
   "execution_count": 10,
   "metadata": {
    "extensions": {
     "jupyter_dashboards": {
      "version": 1,
      "views": {
       "default_view": {
        "hidden": true
       }
      }
     }
    }
   },
   "outputs": [],
   "source": [
    "neg_list=neg_list[\"word\"].values.tolist()"
   ]
  },
  {
   "cell_type": "code",
   "execution_count": 11,
   "metadata": {
    "extensions": {
     "jupyter_dashboards": {
      "version": 1,
      "views": {
       "default_view": {
        "hidden": true
       }
      }
     }
    }
   },
   "outputs": [],
   "source": [
    "def neg_sentiment(tweet):\n",
    "    \n",
    "    count=0\n",
    "     # loop through the list of words and see if they are in the tweet text\n",
    "    for word in neg_list:\n",
    "        if word in tweet:\n",
    "            count+=1\n",
    "               \n",
    "    return count"
   ]
  },
  {
   "cell_type": "code",
   "execution_count": 12,
   "metadata": {
    "extensions": {
     "jupyter_dashboards": {
      "version": 1,
      "views": {
       "default_view": {
        "hidden": true
       }
      }
     }
    }
   },
   "outputs": [],
   "source": [
    "#apply the method to the data\n",
    "df[\"neg_count\"] = df['Tweets'].apply(lambda x: neg_sentiment(str(x)))"
   ]
  },
  {
   "cell_type": "code",
   "execution_count": 13,
   "metadata": {
    "extensions": {
     "jupyter_dashboards": {
      "version": 1,
      "views": {
       "default_view": {
        "hidden": true
       }
      }
     }
    }
   },
   "outputs": [],
   "source": [
    "def tweet_sentiment(tweet):\n",
    "    range=3\n",
    "    pos_sent=pos_sentiment(tweet)\n",
    "    \n",
    "    neg_sent=neg_sentiment(tweet)\n",
    "    \n",
    "    if pos_sent > neg_sent:\n",
    "        label = \"Positive\"\n",
    "    \n",
    "    elif pos_sent < neg_sent :\n",
    "        label = \"Negative\"\n",
    "    else:\n",
    "        label = \"Neutral\" \n",
    "   \n",
    "   \n",
    "    return label"
   ]
  },
  {
   "cell_type": "code",
   "execution_count": 14,
   "metadata": {
    "extensions": {
     "jupyter_dashboards": {
      "version": 1,
      "views": {
       "default_view": {
        "hidden": true
       }
      }
     }
    }
   },
   "outputs": [],
   "source": [
    "\n",
    "df[\"sentiment\"] = df['Tweets'].apply(lambda x: tweet_sentiment(str(x)))"
   ]
  },
  {
   "cell_type": "code",
   "execution_count": 15,
   "metadata": {
    "extensions": {
     "jupyter_dashboards": {
      "version": 1,
      "views": {
       "default_view": {
        "hidden": true
       }
      }
     }
    }
   },
   "outputs": [],
   "source": [
    "# Q: How many tweets have positive sentiment and how many have negative sentiment\n",
    "tweets_by_sentiment = df['sentiment'].value_counts()"
   ]
  },
  {
   "cell_type": "code",
   "execution_count": 16,
   "metadata": {
    "extensions": {
     "jupyter_dashboards": {
      "version": 1,
      "views": {
       "default_view": {
        "hidden": true
       }
      }
     }
    }
   },
   "outputs": [],
   "source": [
    "import pandas as pd\n",
    "import numpy as np \n",
    "import matplotlib.pyplot as plt\n",
    "\n",
    "import csv\n",
    "import re # for regular expression\n",
    "import string\n",
    "import nltk \n",
    "from nltk.corpus import stopwords\n",
    "from nltk.tokenize import word_tokenize\n",
    "from nltk.tokenize import RegexpTokenizer\n",
    "from collections import Counter \n",
    "\n",
    "%matplotlib inline"
   ]
  },
  {
   "cell_type": "markdown",
   "metadata": {},
   "source": [
    "# Text Cleaning "
   ]
  },
  {
   "cell_type": "code",
   "execution_count": 17,
   "metadata": {
    "extensions": {
     "jupyter_dashboards": {
      "version": 1,
      "views": {
       "default_view": {
        "hidden": true
       }
      }
     }
    }
   },
   "outputs": [],
   "source": [
    "\n",
    "# remove punctuations علامات الترقيم  \n",
    "\n",
    "arabic_punctuations = '''`÷×؛<>_()*&^%][ـ،/:\"؟.,'{}~¦+|!”…“–ـ'''\n",
    "english_punctuations = string.punctuation\n",
    "punctuations_list = arabic_punctuations + english_punctuations\n",
    "\n",
    "def remove_punctuations(text):\n",
    "    translator = str.maketrans('', '', punctuations_list)\n",
    "    return text.translate(translator)"
   ]
  },
  {
   "cell_type": "markdown",
   "metadata": {},
   "source": [
    "# Normlization "
   ]
  },
  {
   "cell_type": "code",
   "execution_count": 18,
   "metadata": {
    "extensions": {
     "jupyter_dashboards": {
      "version": 1,
      "views": {
       "default_view": {
        "hidden": true
       }
      }
     }
    }
   },
   "outputs": [],
   "source": [
    "def normalize_arabic(text):\n",
    "    \n",
    "    text = re.sub(\"[إأآا]\", \"ا\", text)\n",
    "    text = re.sub(\"ى\", \"ي\", text)\n",
    "    text = re.sub(\"ة\", \"ه\", text)\n",
    "    text = re.sub(\"گ\", \"ك\", text)\n",
    "    text = re.sub(\"ؤ\", \"و\", text)\n",
    "\n",
    "    return text"
   ]
  },
  {
   "cell_type": "code",
   "execution_count": 19,
   "metadata": {
    "extensions": {
     "jupyter_dashboards": {
      "version": 1,
      "views": {
       "default_view": {
        "hidden": true
       }
      }
     }
    }
   },
   "outputs": [],
   "source": [
    "def remove_repeating_char(text):\n",
    "    return re.sub(r'(.)\\1+', r'\\1', text)"
   ]
  },
  {
   "cell_type": "code",
   "execution_count": 20,
   "metadata": {
    "extensions": {
     "jupyter_dashboards": {
      "version": 1,
      "views": {
       "default_view": {
        "hidden": true
       }
      }
     }
    }
   },
   "outputs": [],
   "source": [
    "#start processing the tweet \n",
    "def processPost(tweet,stemmer):\n",
    "\n",
    "    #Replace @username with empty string\n",
    "    tweet = re.sub('@[^\\s]+', ' ', tweet)\n",
    "    tweet = re.sub(r'_', ' ', tweet)\n",
    "    tweet = re.sub(r'\\n', ' ', tweet)\n",
    "    tweet = re.sub(r'[a-z,A-Z]', '', tweet)\n",
    "    tweet = re.sub(r'\\d', '', tweet)\n",
    "    #Convert www.* or https?://* to \" \"\n",
    "    tweet = re.sub('((www\\.[^\\s]+)|(https?://[^\\s]+))',' ',tweet)\n",
    "    \n",
    "    #Replace #word with word\n",
    "    tweet = re.sub(r'#([^\\s]+)', r'\\1', tweet)\n",
    "\n",
    "    # remove punctuations\n",
    "    tweet= remove_punctuations(tweet)\n",
    "    # remove repeated letters\n",
    "    tweet=remove_repeating_char(tweet)\n",
    "    # normalize the tweet\n",
    "    #check if the word in the dictionary list (it have two letters as part of the word)\n",
    "    tweet= normalize_arabic(tweet)\n",
    "    tweet = stemmer.stem(tweet)\n",
    "    #remove numbers\n",
    "    tweet = ''.join(i for i in tweet if not i.isdigit())\n",
    "    \n",
    "    #remove english letters\n",
    "    tweet= re.sub(r'[a-z]+',\" \", tweet)\n",
    "    tweet= re.sub(r'[A-Z]+',\" \", tweet)\n",
    "    \n",
    "    return tweet\n",
    "    "
   ]
  },
  {
   "cell_type": "code",
   "execution_count": 21,
   "metadata": {
    "extensions": {
     "jupyter_dashboards": {
      "version": 1,
      "views": {
       "default_view": {
        "hidden": true
       }
      }
     }
    }
   },
   "outputs": [],
   "source": [
    "from nltk.stem.isri import ISRIStemmer\n",
    "stemmer = ISRIStemmer()\n"
   ]
  },
  {
   "cell_type": "code",
   "execution_count": 22,
   "metadata": {
    "extensions": {
     "jupyter_dashboards": {
      "version": 1,
      "views": {
       "default_view": {
        "hidden": true
       }
      }
     }
    }
   },
   "outputs": [],
   "source": [
    "df[\"clean text\"] = df['Tweets'].apply(lambda x: processPost(x,stemmer))"
   ]
  },
  {
   "cell_type": "markdown",
   "metadata": {},
   "source": [
    "# Removing the Emojie "
   ]
  },
  {
   "cell_type": "code",
   "execution_count": 23,
   "metadata": {
    "extensions": {
     "jupyter_dashboards": {
      "version": 1,
      "views": {
       "default_view": {
        "hidden": true
       }
      }
     }
    }
   },
   "outputs": [],
   "source": [
    "# https://stackoverflow.com/a/49146722/330558\n",
    "def remove_emoji(string):\n",
    "    emoji_pattern = re.compile(\"[\"\n",
    "                           u\"\\U0001F600-\\U0001F64F\"  # emoticons\n",
    "                           u\"\\U0001F300-\\U0001F5FF\"  # symbols & pictographs\n",
    "                           u\"\\U0001F680-\\U0001F6FF\"  # transport & map symbols\n",
    "                           u\"\\U0001F1E0-\\U0001F1FF\"  # flags (iOS)\n",
    "                           u\"\\U00002702-\\U000027B0\"\n",
    "                           u\"\\U000024C2-\\U0001F251\"\n",
    "                           u\"\\U00002702-\\U000027B0\"\n",
    "                           u\"\\U000024C2-\\U0001F251\"\n",
    "                           u\"\\U0001f926-\\U0001f937\"\n",
    "                           u\"\\U00010000-\\U0010ffff\"\n",
    "                           u\"\\u2640-\\u2642\"\n",
    "                           u\"\\u2600-\\u2B55\"\n",
    "                           u\"\\u200d\"\n",
    "                           u\"\\u23cf\"\n",
    "                           u\"\\u23e9\"\n",
    "                           u\"\\u231a\"\n",
    "                           u\"\\ufe0f\"\n",
    "                           \"]+\", flags=re.UNICODE)\n",
    "    return emoji_pattern.sub(r'', string)"
   ]
  },
  {
   "cell_type": "code",
   "execution_count": 24,
   "metadata": {
    "extensions": {
     "jupyter_dashboards": {
      "version": 1,
      "views": {
       "default_view": {
        "hidden": true
       }
      }
     }
    }
   },
   "outputs": [],
   "source": [
    "df[\"clean text\"] = df['clean text'].apply(lambda x: remove_emoji(x))"
   ]
  },
  {
   "cell_type": "markdown",
   "metadata": {},
   "source": [
    "# Tokenization "
   ]
  },
  {
   "cell_type": "code",
   "execution_count": 25,
   "metadata": {
    "extensions": {
     "jupyter_dashboards": {
      "version": 1,
      "views": {
       "default_view": {
        "hidden": true
       }
      }
     }
    }
   },
   "outputs": [],
   "source": [
    "tokenizer = RegexpTokenizer(r'\\w+')\n",
    "df[\"tokens\"] = df[\"clean text\"].apply(tokenizer.tokenize)"
   ]
  },
  {
   "cell_type": "code",
   "execution_count": 26,
   "metadata": {
    "extensions": {
     "jupyter_dashboards": {
      "version": 1,
      "views": {
       "default_view": {
        "hidden": true
       }
      }
     }
    }
   },
   "outputs": [],
   "source": [
    "# Q: How many tweets have positive sentiment and how many have negative sentiment\n",
    "tweets_by_sentiment = df['sentiment'].value_counts()"
   ]
  },
  {
   "cell_type": "code",
   "execution_count": 27,
   "metadata": {},
   "outputs": [
    {
     "data": {
      "text/plain": [
       "Positive    805\n",
       "Negative    181\n",
       "Neutral       5\n",
       "Name: sentiment, dtype: int64"
      ]
     },
     "execution_count": 27,
     "metadata": {},
     "output_type": "execute_result"
    }
   ],
   "source": [
    "tweets_by_sentiment"
   ]
  },
  {
   "cell_type": "code",
   "execution_count": 28,
   "metadata": {
    "extensions": {
     "jupyter_dashboards": {
      "version": 1,
      "views": {
       "default_view": {
        "col": 0,
        "height": 12,
        "row": 7,
        "width": 12
       }
      }
     }
    }
   },
   "outputs": [
    {
     "data": {
      "text/html": [
       "<div>\n",
       "<style scoped>\n",
       "    .dataframe tbody tr th:only-of-type {\n",
       "        vertical-align: middle;\n",
       "    }\n",
       "\n",
       "    .dataframe tbody tr th {\n",
       "        vertical-align: top;\n",
       "    }\n",
       "\n",
       "    .dataframe thead th {\n",
       "        text-align: right;\n",
       "    }\n",
       "</style>\n",
       "<table border=\"1\" class=\"dataframe\">\n",
       "  <thead>\n",
       "    <tr style=\"text-align: right;\">\n",
       "      <th></th>\n",
       "      <th>User</th>\n",
       "      <th>Location</th>\n",
       "      <th>Tweets</th>\n",
       "      <th>is Noise</th>\n",
       "      <th>pos_count</th>\n",
       "      <th>neg_count</th>\n",
       "      <th>sentiment</th>\n",
       "      <th>clean text</th>\n",
       "      <th>tokens</th>\n",
       "    </tr>\n",
       "  </thead>\n",
       "  <tbody>\n",
       "    <tr>\n",
       "      <th>849</th>\n",
       "      <td>hafsa03530132</td>\n",
       "      <td>المملكة العربية السعودية</td>\n",
       "      <td>RT @1Cash9999: ترقبونا الليلة في السحب الثانية...</td>\n",
       "      <td>ok</td>\n",
       "      <td>74</td>\n",
       "      <td>60</td>\n",
       "      <td>Positive</td>\n",
       "      <td>ترقبونا اليله في السحب الثانيه  علما بالحساب ...</td>\n",
       "      <td>[ترقبونا, اليله, في, السحب, الثانيه, علما, بال...</td>\n",
       "    </tr>\n",
       "    <tr>\n",
       "      <th>218</th>\n",
       "      <td>Nada_nnn4</td>\n",
       "      <td>Gaza</td>\n",
       "      <td>RT @RTarabic: الفنانة اللبنانية إليسا تتصدر \"ا...</td>\n",
       "      <td>ok</td>\n",
       "      <td>63</td>\n",
       "      <td>42</td>\n",
       "      <td>Positive</td>\n",
       "      <td>الفنانه البنانيه اليسا تصدر الترند في موسم ال...</td>\n",
       "      <td>[الفنانه, البنانيه, اليسا, تصدر, الترند, في, م...</td>\n",
       "    </tr>\n",
       "    <tr>\n",
       "      <th>770</th>\n",
       "      <td>ajoker766</td>\n",
       "      <td>NaN</td>\n",
       "      <td>RT @1Cash9999: ترقبونا الليلة في السحب الثانية...</td>\n",
       "      <td>ok</td>\n",
       "      <td>74</td>\n",
       "      <td>60</td>\n",
       "      <td>Positive</td>\n",
       "      <td>ترقبونا اليله في السحب الثانيه  علما بالحساب ...</td>\n",
       "      <td>[ترقبونا, اليله, في, السحب, الثانيه, علما, بال...</td>\n",
       "    </tr>\n",
       "    <tr>\n",
       "      <th>336</th>\n",
       "      <td>Sa7khs</td>\n",
       "      <td>اللهم ارحم  فيصل بداح السهلي</td>\n",
       "      <td>RT @SaudiFalconClub: نتائج الشوط الخامس\\nمحترف...</td>\n",
       "      <td>ok</td>\n",
       "      <td>74</td>\n",
       "      <td>42</td>\n",
       "      <td>Positive</td>\n",
       "      <td>نتائج الشوط الخامس محترفين سعودين لفئه جير شا...</td>\n",
       "      <td>[نتائج, الشوط, الخامس, محترفين, سعودين, لفئه, ...</td>\n",
       "    </tr>\n",
       "    <tr>\n",
       "      <th>277</th>\n",
       "      <td>Safiah88898i</td>\n",
       "      <td>الرياض, المملكة العربية السعودية</td>\n",
       "      <td>RT @JeweleryMansour: مين يستاهل الذهب🤩؟\\nمنشن ...</td>\n",
       "      <td>ok</td>\n",
       "      <td>90</td>\n",
       "      <td>11</td>\n",
       "      <td>Positive</td>\n",
       "      <td>مين يستاهل الذهب منشن شخص تهديه  الذهب البحري...</td>\n",
       "      <td>[مين, يستاهل, الذهب, منشن, شخص, تهديه, الذهب, ...</td>\n",
       "    </tr>\n",
       "    <tr>\n",
       "      <th>333</th>\n",
       "      <td>leader_1420</td>\n",
       "      <td>NaN</td>\n",
       "      <td>RT @1Cash9999: ترقبونا الليلة في السحب الثانية...</td>\n",
       "      <td>ok</td>\n",
       "      <td>74</td>\n",
       "      <td>60</td>\n",
       "      <td>Positive</td>\n",
       "      <td>ترقبونا اليله في السحب الثانيه  علما بالحساب ...</td>\n",
       "      <td>[ترقبونا, اليله, في, السحب, الثانيه, علما, بال...</td>\n",
       "    </tr>\n",
       "    <tr>\n",
       "      <th>838</th>\n",
       "      <td>ammhmd65924787</td>\n",
       "      <td>NaN</td>\n",
       "      <td>RT @1Cash9999: ترقبونا الليلة في السحب الثانية...</td>\n",
       "      <td>ok</td>\n",
       "      <td>74</td>\n",
       "      <td>60</td>\n",
       "      <td>Positive</td>\n",
       "      <td>ترقبونا اليله في السحب الثانيه  علما بالحساب ...</td>\n",
       "      <td>[ترقبونا, اليله, في, السحب, الثانيه, علما, بال...</td>\n",
       "    </tr>\n",
       "    <tr>\n",
       "      <th>498</th>\n",
       "      <td>kahledjeddah</td>\n",
       "      <td>جدة, المملكة العربية السعودية</td>\n",
       "      <td>جايكم جايكم 😍🔥🔥\\n\\n#موسم_الرياض   #ونترلاند ht...</td>\n",
       "      <td>ok</td>\n",
       "      <td>24</td>\n",
       "      <td>16</td>\n",
       "      <td>Positive</td>\n",
       "      <td>جايكم جايكم  موسم الرياض ونترلاند</td>\n",
       "      <td>[جايكم, جايكم, موسم, الرياض, ونترلاند]</td>\n",
       "    </tr>\n",
       "    <tr>\n",
       "      <th>513</th>\n",
       "      <td>7amoodehkh</td>\n",
       "      <td>Hashemite Kingdom of Jordan</td>\n",
       "      <td>RT @RotanaLive: نجاح مبهر لحفل #اليسا و #الشاب...</td>\n",
       "      <td>ok</td>\n",
       "      <td>92</td>\n",
       "      <td>16</td>\n",
       "      <td>Positive</td>\n",
       "      <td>نجاح مبهر لحفل اليسا و الشاب خالد مع هيئه الت...</td>\n",
       "      <td>[نجاح, مبهر, لحفل, اليسا, و, الشاب, خالد, مع, ...</td>\n",
       "    </tr>\n",
       "    <tr>\n",
       "      <th>667</th>\n",
       "      <td>Dody66625319</td>\n",
       "      <td>NaN</td>\n",
       "      <td>RT @MBCinaWeek: لقاء مع أخطبوط العود \"عبادي ال...</td>\n",
       "      <td>ok</td>\n",
       "      <td>58</td>\n",
       "      <td>12</td>\n",
       "      <td>Positive</td>\n",
       "      <td>لقاء مع اخطبوط العود عبادي الجوهر خلال تواجده...</td>\n",
       "      <td>[لقاء, مع, اخطبوط, العود, عبادي, الجوهر, خلال,...</td>\n",
       "    </tr>\n",
       "  </tbody>\n",
       "</table>\n",
       "</div>"
      ],
      "text/plain": [
       "               User                          Location  \\\n",
       "849   hafsa03530132          المملكة العربية السعودية   \n",
       "218       Nada_nnn4                              Gaza   \n",
       "770       ajoker766                               NaN   \n",
       "336          Sa7khs     اللهم ارحم  فيصل بداح السهلي    \n",
       "277    Safiah88898i  الرياض, المملكة العربية السعودية   \n",
       "333     leader_1420                               NaN   \n",
       "838  ammhmd65924787                               NaN   \n",
       "498    kahledjeddah     جدة, المملكة العربية السعودية   \n",
       "513      7amoodehkh       Hashemite Kingdom of Jordan   \n",
       "667    Dody66625319                               NaN   \n",
       "\n",
       "                                                Tweets is Noise  pos_count  \\\n",
       "849  RT @1Cash9999: ترقبونا الليلة في السحب الثانية...       ok         74   \n",
       "218  RT @RTarabic: الفنانة اللبنانية إليسا تتصدر \"ا...       ok         63   \n",
       "770  RT @1Cash9999: ترقبونا الليلة في السحب الثانية...       ok         74   \n",
       "336  RT @SaudiFalconClub: نتائج الشوط الخامس\\nمحترف...       ok         74   \n",
       "277  RT @JeweleryMansour: مين يستاهل الذهب🤩؟\\nمنشن ...       ok         90   \n",
       "333  RT @1Cash9999: ترقبونا الليلة في السحب الثانية...       ok         74   \n",
       "838  RT @1Cash9999: ترقبونا الليلة في السحب الثانية...       ok         74   \n",
       "498  جايكم جايكم 😍🔥🔥\\n\\n#موسم_الرياض   #ونترلاند ht...       ok         24   \n",
       "513  RT @RotanaLive: نجاح مبهر لحفل #اليسا و #الشاب...       ok         92   \n",
       "667  RT @MBCinaWeek: لقاء مع أخطبوط العود \"عبادي ال...       ok         58   \n",
       "\n",
       "     neg_count sentiment                                         clean text  \\\n",
       "849         60  Positive   ترقبونا اليله في السحب الثانيه  علما بالحساب ...   \n",
       "218         42  Positive   الفنانه البنانيه اليسا تصدر الترند في موسم ال...   \n",
       "770         60  Positive   ترقبونا اليله في السحب الثانيه  علما بالحساب ...   \n",
       "336         42  Positive   نتائج الشوط الخامس محترفين سعودين لفئه جير شا...   \n",
       "277         11  Positive   مين يستاهل الذهب منشن شخص تهديه  الذهب البحري...   \n",
       "333         60  Positive   ترقبونا اليله في السحب الثانيه  علما بالحساب ...   \n",
       "838         60  Positive   ترقبونا اليله في السحب الثانيه  علما بالحساب ...   \n",
       "498         16  Positive                 جايكم جايكم  موسم الرياض ونترلاند    \n",
       "513         16  Positive   نجاح مبهر لحفل اليسا و الشاب خالد مع هيئه الت...   \n",
       "667         12  Positive   لقاء مع اخطبوط العود عبادي الجوهر خلال تواجده...   \n",
       "\n",
       "                                                tokens  \n",
       "849  [ترقبونا, اليله, في, السحب, الثانيه, علما, بال...  \n",
       "218  [الفنانه, البنانيه, اليسا, تصدر, الترند, في, م...  \n",
       "770  [ترقبونا, اليله, في, السحب, الثانيه, علما, بال...  \n",
       "336  [نتائج, الشوط, الخامس, محترفين, سعودين, لفئه, ...  \n",
       "277  [مين, يستاهل, الذهب, منشن, شخص, تهديه, الذهب, ...  \n",
       "333  [ترقبونا, اليله, في, السحب, الثانيه, علما, بال...  \n",
       "838  [ترقبونا, اليله, في, السحب, الثانيه, علما, بال...  \n",
       "498             [جايكم, جايكم, موسم, الرياض, ونترلاند]  \n",
       "513  [نجاح, مبهر, لحفل, اليسا, و, الشاب, خالد, مع, ...  \n",
       "667  [لقاء, مع, اخطبوط, العود, عبادي, الجوهر, خلال,...  "
      ]
     },
     "execution_count": 28,
     "metadata": {},
     "output_type": "execute_result"
    }
   ],
   "source": [
    "df.sample(10)"
   ]
  },
  {
   "cell_type": "code",
   "execution_count": 29,
   "metadata": {
    "extensions": {
     "jupyter_dashboards": {
      "version": 1,
      "views": {
       "default_view": {
        "hidden": true
       }
      }
     }
    }
   },
   "outputs": [
    {
     "data": {
      "text/plain": [
       "<AxesSubplot:title={'center':' The Number of  Riyadh Season tweets Based on Sentiment Analysis '}, xlabel='Sentiment', ylabel='Number of tweets'>"
      ]
     },
     "execution_count": 29,
     "metadata": {},
     "output_type": "execute_result"
    },
    {
     "data": {
      "image/png": "[encoded data removed]",
      "text/plain": [
       "<Figure size 432x288 with 1 Axes>"
      ]
     },
     "metadata": {
      "needs_background": "light"
     },
     "output_type": "display_data"
    }
   ],
   "source": [
    "\n",
    "# visualize the results \n",
    "fig, ax = plt.subplots()\n",
    "color=['#C0E8D5','#B0BF1A','#00FFFF']\n",
    "\n",
    "ax.tick_params(axis='x', labelsize=20)\n",
    "ax.tick_params(axis='y', labelsize=15)\n",
    "\n",
    "ax.set_xlabel('Sentiment', fontsize=2, color = 'black' )\n",
    "ax.set_ylabel('Number of tweets' , fontsize=20 , color = 'black')\n",
    "\n",
    "ax.set_title(' The Number of  Riyadh Season tweets Based on Sentiment Analysis ' ,fontsize=25,color = 'black' )\n",
    "\n",
    "tweets_by_sentiment.plot(ax=ax, kind='bar',color=color)"
   ]
  },
  {
   "cell_type": "code",
   "execution_count": 30,
   "metadata": {
    "extensions": {
     "jupyter_dashboards": {
      "version": 1,
      "views": {
       "default_view": {
        "hidden": true
       }
      }
     }
    }
   },
   "outputs": [
    {
     "data": {
      "image/png": "[encoded data removed]",
      "text/plain": [
       "<Figure size 432x432 with 1 Axes>"
      ]
     },
     "metadata": {},
     "output_type": "display_data"
    }
   ],
   "source": [
    "fig, ax = plt.subplots(figsize=(6, 6))\n",
    "labels=['Positive ','Neagtive ','Netural']\n",
    "color=['#C0E8D5','#B0BF1A','#00FFFF']\n",
    "patches, texts, pcts = ax.pie(\n",
    "    tweets_by_sentiment, labels=labels,autopct='%.1f%%',\n",
    "    wedgeprops={'linewidth': 5.0, 'edgecolor': 'white'},\n",
    "    textprops={'size': 'x-large'},\n",
    "    startangle=90, colors=color)\n",
    "# For each wedge, set the corresponding text label color to the wedge's\n",
    "# face color.\n",
    "for i, patch in enumerate(patches):\n",
    "  texts[i].set_color(patch.get_facecolor())\n",
    "plt.setp(pcts, color='Black')\n",
    "plt.setp(texts, fontweight='bold',color=\"Black\")\n",
    "ax.set_title('Precentage of Tweets', fontsize=25, color=\"Black\")\n",
    "plt.tight_layout()"
   ]
  },
  {
   "cell_type": "markdown",
   "metadata": {},
   "source": [
    "# Removing the Stop words "
   ]
  },
  {
   "cell_type": "raw",
   "metadata": {},
   "source": [
    "Using 3 Stopword datasets "
   ]
  },
  {
   "cell_type": "code",
   "execution_count": 31,
   "metadata": {
    "extensions": {
     "jupyter_dashboards": {
      "version": 1,
      "views": {
       "default_view": {
        "hidden": true
       }
      }
     }
    }
   },
   "outputs": [],
   "source": [
    "# three stop words dataset \n",
    "from nltk.tokenize import word_tokenize\n",
    "file1 = open('C:/Users/rawan/Downloads/stop_words_arabic(1).txt', 'r', encoding='utf-8')\n",
    "file2 = open('C:/Users/rawan/Downloads/arabic-stop-words-master/arabic-stop-words-master/list.txt', 'r', encoding='utf-8')\n",
    "stopwords_arabic = file1.read().splitlines()\n",
    "stopwords_arabic2 = file2.read().splitlines()"
   ]
  },
  {
   "cell_type": "code",
   "execution_count": 32,
   "metadata": {
    "extensions": {
     "jupyter_dashboards": {
      "version": 1,
      "views": {
       "default_view": {
        "hidden": true
       }
      }
     }
    }
   },
   "outputs": [],
   "source": [
    "#3 ed dataset of Stopword\n",
    "stopwords_arabic3 = stopwords.words('arabic')\n",
    "stopwords_arabic4 = ['عبر' , 'بكل','انا']\n",
    "\n"
   ]
  },
  {
   "cell_type": "code",
   "execution_count": 33,
   "metadata": {
    "extensions": {
     "jupyter_dashboards": {
      "version": 1,
      "views": {
       "default_view": {
        "hidden": true
       }
      }
     }
    }
   },
   "outputs": [],
   "source": [
    "stopwords_list=stopwords_arabic3+stopwords_arabic+stopwords_arabic2+stopwords_arabic4\n"
   ]
  },
  {
   "cell_type": "code",
   "execution_count": 34,
   "metadata": {
    "extensions": {
     "jupyter_dashboards": {
      "version": 1,
      "views": {
       "default_view": {
        "hidden": true
       }
      }
     }
    }
   },
   "outputs": [],
   "source": [
    "df[\"stop\"] = df[\"tokens\"].apply(lambda x: [item for item in x if item not in stopwords_list])"
   ]
  },
  {
   "cell_type": "markdown",
   "metadata": {},
   "source": [
    "# Most Frequent Words "
   ]
  },
  {
   "cell_type": "code",
   "execution_count": 35,
   "metadata": {
    "extensions": {
     "jupyter_dashboards": {
      "version": 1,
      "views": {
       "default_view": {
        "hidden": true
       }
      }
     }
    }
   },
   "outputs": [],
   "source": [
    "\n",
    "all_words = [word for tokens in df[\"stop\"] for word in tokens]\n",
    "sentence_lengths = [len(tokens) for tokens in df[\"stop\"]]\n",
    "\n",
    "VOCAB = sorted(list(set(all_words)))\n",
    "# count the number of words\n",
    "word_counter = Counter(all_words)"
   ]
  },
  {
   "cell_type": "code",
   "execution_count": 36,
   "metadata": {},
   "outputs": [
    {
     "data": {
      "text/plain": [
       "Counter({'البوليفارد': 25,\n",
       "         'موسم': 512,\n",
       "         'الرياض': 567,\n",
       "         'فوازير': 44,\n",
       "         'طيران': 56,\n",
       "         'اديل': 57,\n",
       "         'مكان': 45,\n",
       "         'شيء': 33,\n",
       "         'نادر': 30,\n",
       "         'شبيه': 30,\n",
       "         'ماهو': 31,\n",
       "         'شروط': 24,\n",
       "         'المسابقه': 24,\n",
       "         'سيتم': 24,\n",
       "         'اختيار': 24,\n",
       "         'فائز': 24,\n",
       "         'شارك': 347,\n",
       "         'بال': 23,\n",
       "         'سفاري': 21,\n",
       "         'ترقبونا': 323,\n",
       "         'اليله': 338,\n",
       "         'السحب': 334,\n",
       "         'الثانيه': 325,\n",
       "         'علما': 324,\n",
       "         'بالحساب': 323,\n",
       "         'جوالين': 323,\n",
       "         'كاش': 323,\n",
       "         'هدايا': 324,\n",
       "         'مكن': 323,\n",
       "         'نصيبك': 323,\n",
       "         'رتويت': 338,\n",
       "         'تا': 323,\n",
       "         'اوفر': 4,\n",
       "         'شهاده': 4,\n",
       "         'ايلتس': 4,\n",
       "         'جهد': 4,\n",
       "         'وعناء': 4,\n",
       "         'اختبار': 5,\n",
       "         'متوفره': 5,\n",
       "         'بسعر': 9,\n",
       "         'ميز': 17,\n",
       "         'بالدرجه': 4,\n",
       "         'المطلوبه': 4,\n",
       "         'تصلك': 4,\n",
       "         'مكانك': 5,\n",
       "         'التكل': 4,\n",
       "         'مقياس': 2,\n",
       "         'الوزن': 3,\n",
       "         'الالكتروني': 1,\n",
       "         'بلوتوث': 1,\n",
       "         'التطبيق': 1,\n",
       "         'الذكي': 1,\n",
       "         'الياقه': 1,\n",
       "         'البدنيه': 1,\n",
       "         'شحن': 3,\n",
       "         'مجاني': 3,\n",
       "         'تخيضات': 3,\n",
       "         'قويه': 3,\n",
       "         'تقيم': 3,\n",
       "         'عالي': 8,\n",
       "         'جده': 22,\n",
       "         'انشر': 7,\n",
       "         'اعلانك': 8,\n",
       "         'بجميع': 7,\n",
       "         'مواقع': 20,\n",
       "         'التواصل': 23,\n",
       "         'الاجتماعي': 20,\n",
       "         'نشر': 7,\n",
       "         'الكتروني': 15,\n",
       "         'تويتر': 8,\n",
       "         'انستا': 7,\n",
       "         'فيسبوك': 7,\n",
       "         'واتساب': 8,\n",
       "         'تلغرام': 7,\n",
       "         'سناب': 7,\n",
       "         'عندهم': 34,\n",
       "         'ويحسدونا': 28,\n",
       "         'عالمطر': 28,\n",
       "         'جلسه': 7,\n",
       "         'طربيه': 4,\n",
       "         'يمتعنا': 4,\n",
       "         'الفنان': 30,\n",
       "         'محمد': 28,\n",
       "         'العالي': 7,\n",
       "         'باعذب': 4,\n",
       "         'المواويل': 4,\n",
       "         'والاغاني': 5,\n",
       "         'بمطعم': 9,\n",
       "         'دخنه': 7,\n",
       "         'بوليفارد': 74,\n",
       "         'رياض': 70,\n",
       "         'سيتي': 71,\n",
       "         'احجز': 28,\n",
       "         'الحي': 3,\n",
       "         'ياحظ': 1,\n",
       "         'جازان': 1,\n",
       "         'اليسا': 175,\n",
       "         'تحصد': 2,\n",
       "         'نجاح': 24,\n",
       "         'حفلها': 5,\n",
       "         'الباهر': 1,\n",
       "         'تزال': 1,\n",
       "         'الالومبيا': 1,\n",
       "         'وه': 1,\n",
       "         'اله': 16,\n",
       "         'ازاله': 4,\n",
       "         'الشعر': 4,\n",
       "         'باليزر': 2,\n",
       "         'لنزع': 2,\n",
       "         'جورج': 2,\n",
       "         'قرادحي': 1,\n",
       "         'جروفز': 7,\n",
       "         'الصحراء': 6,\n",
       "         'لطبيعه': 6,\n",
       "         'السعوديه': 49,\n",
       "         'مناطق': 9,\n",
       "         'داخل': 12,\n",
       "         'كريستال': 9,\n",
       "         'تعيشكم': 9,\n",
       "         'تجارب': 9,\n",
       "         'ترفيهيه': 9,\n",
       "         'فريده': 9,\n",
       "         'لعبه': 5,\n",
       "         'متاهه': 5,\n",
       "         'الكريستال': 5,\n",
       "         'بنعيشها': 5,\n",
       "         'نذكركم': 1,\n",
       "         'بمسارات': 1,\n",
       "         'الدخول': 8,\n",
       "         'والخروج': 1,\n",
       "         'عشان': 6,\n",
       "         'توصلون': 1,\n",
       "         'باسرع': 1,\n",
       "         'وقت': 2,\n",
       "         'قناه': 2,\n",
       "         'تستعرض': 2,\n",
       "         'حفل': 16,\n",
       "         'النجمه': 1,\n",
       "         'سهره': 1,\n",
       "         'كلها': 4,\n",
       "         'احساس': 1,\n",
       "         'متل': 1,\n",
       "         'العاده': 1,\n",
       "         'الجمهور': 1,\n",
       "         'يطلب': 1,\n",
       "         'تعيد': 1,\n",
       "         'اغانيها': 1,\n",
       "         'اكت': 1,\n",
       "         'تذاكر': 18,\n",
       "         'لقريه': 1,\n",
       "         'زمان': 19,\n",
       "         'لبيع': 3,\n",
       "         'خاص': 17,\n",
       "         'قريه': 23,\n",
       "         'تذكره': 6,\n",
       "         'زم': 4,\n",
       "         'برفقه': 1,\n",
       "         'الشاب': 29,\n",
       "         'خالد': 41,\n",
       "         'انتهاء': 1,\n",
       "         'صاحبه': 3,\n",
       "         'الراي': 3,\n",
       "         'حماس': 7,\n",
       "         'تكفون': 3,\n",
       "         'لاتخلون': 2,\n",
       "         'ذعار': 2,\n",
       "         'خلو': 2,\n",
       "         'امه': 2,\n",
       "         'تفرح': 2,\n",
       "         'بشوفته': 2,\n",
       "         'ويرجع': 2,\n",
       "         'لزوجته': 2,\n",
       "         'عياله': 2,\n",
       "         'واخوانه': 2,\n",
       "         'مليجه': 2,\n",
       "         'تغطيه': 10,\n",
       "         'المكان': 22,\n",
       "         'جميل': 14,\n",
       "         'صدق': 8,\n",
       "         'الخيال': 12,\n",
       "         'يحتاج': 9,\n",
       "         'صراحه': 9,\n",
       "         'بانزل': 7,\n",
       "         'حقت': 4,\n",
       "         'احلام': 12,\n",
       "         'حياتي': 2,\n",
       "         'بشوفتك': 2,\n",
       "         'كنا': 2,\n",
       "         'نقول': 3,\n",
       "         'طلعت': 2,\n",
       "         'حتي': 8,\n",
       "         'روح': 2,\n",
       "         'حنا': 4,\n",
       "         'مركز': 2,\n",
       "         'جابر': 2,\n",
       "         'مو': 7,\n",
       "         'عارفين': 2,\n",
       "         'نديره': 1,\n",
       "         'حلم': 2,\n",
       "         'وتحق': 2,\n",
       "         'ملكه': 21,\n",
       "         'الاحساس': 12,\n",
       "         'تصدر': 24,\n",
       "         'الترند': 31,\n",
       "         'العربي': 13,\n",
       "         'تلفزيون': 12,\n",
       "         'فن': 12,\n",
       "         'انساك': 1,\n",
       "         'وعيش': 2,\n",
       "         'بحريه': 1,\n",
       "         'فلاش': 2,\n",
       "         'باك': 2,\n",
       "         'شاهد': 3,\n",
       "         'بطل': 2,\n",
       "         'كاس': 10,\n",
       "         'وزاره': 2,\n",
       "         'الدفاع': 2,\n",
       "         'الفئه': 3,\n",
       "         'الثالثه': 2,\n",
       "         'الجواد': 2,\n",
       "         'اوكو': 2,\n",
       "         'المالك': 5,\n",
       "         'ابناء': 5,\n",
       "         'هيف': 2,\n",
       "         'عبود': 2,\n",
       "         'القحطا': 1,\n",
       "         'هديتكريال': 8,\n",
       "         'رتوت': 8,\n",
       "         'وتابع': 11,\n",
       "         'موثقمن': 8,\n",
       "         'المثبته': 8,\n",
       "         'اجمل': 9,\n",
       "         'بيت': 14,\n",
       "         'شعر': 8,\n",
       "         'تحفظه': 8,\n",
       "         'العتيبيه': 8,\n",
       "         'واطفالها': 8,\n",
       "         'الثمانيه': 8,\n",
       "         'خدمات': 13,\n",
       "         'لكل': 18,\n",
       "         'متجر': 26,\n",
       "         'رسمي': 13,\n",
       "         'لدعم': 13,\n",
       "         'حساباتكم': 13,\n",
       "         'الشخصيه': 13,\n",
       "         'والتجاريه': 13,\n",
       "         'لايكات': 13,\n",
       "         'متابعين': 13,\n",
       "         'مكتوبه': 4,\n",
       "         'ليك': 4,\n",
       "         'مفضلتي': 1,\n",
       "         'هالاغنيه': 1,\n",
       "         'متوفر': 7,\n",
       "         'عائله': 8,\n",
       "         'تس': 8,\n",
       "         'الخميس': 5,\n",
       "         'والجمعه': 1,\n",
       "         'العد': 2,\n",
       "         'محدود': 1,\n",
       "         'جدابوليفارد': 1,\n",
       "         'البعض': 3,\n",
       "         'يرفض': 1,\n",
       "         'يصدق': 2,\n",
       "         'حاله': 1,\n",
       "         'حرب': 1,\n",
       "         'عدو': 1,\n",
       "         'غاشم': 1,\n",
       "         'حاقد': 1,\n",
       "         'لايرحم': 1,\n",
       "         'طفل': 1,\n",
       "         'ولاشيخ': 1,\n",
       "         'ولاامراءه': 1,\n",
       "         'يعلن': 1,\n",
       "         'عدائه': 1,\n",
       "         'بو': 1,\n",
       "         'يبيهم': 3,\n",
       "         'ضمي': 1,\n",
       "         'قلبي': 1,\n",
       "         'واجحاف': 1,\n",
       "         'السنين': 1,\n",
       "         'مناهل': 1,\n",
       "         'وجهك': 1,\n",
       "         'السمح': 1,\n",
       "         'عيني': 1,\n",
       "         'ترتوي': 1,\n",
       "         'سلمان': 1,\n",
       "         'عبدالعزيز': 1,\n",
       "         'العراق': 1,\n",
       "         'غيم': 1,\n",
       "         'مطر': 7,\n",
       "         'المقطع': 4,\n",
       "         'مليان': 5,\n",
       "         'بهجه': 5,\n",
       "         'وفرح': 5,\n",
       "         'عروسه': 5,\n",
       "         'دائما': 6,\n",
       "         'بجمالها': 5,\n",
       "         'شكرا': 8,\n",
       "         'التغير': 5,\n",
       "         'يسعدنا': 5,\n",
       "         'ويبهجنا': 5,\n",
       "         'بلدنا': 5,\n",
       "         'الر': 4,\n",
       "         'سواء': 2,\n",
       "         'منشات': 1,\n",
       "         'حكوميه': 2,\n",
       "         'خاصه': 15,\n",
       "         'مراكز': 1,\n",
       "         'تجاريه': 3,\n",
       "         'مطاعم': 2,\n",
       "         'فنادق': 1,\n",
       "         'فعاليات': 22,\n",
       "         'جميعها': 1,\n",
       "         'تحتاج': 20,\n",
       "         'حمايه': 3,\n",
       "         'متلكاتها': 1,\n",
       "         'الاخطار': 1,\n",
       "         'متنوعه': 2,\n",
       "         'امسيات': 3,\n",
       "         'وحفلات': 1,\n",
       "         'فعاليه': 13,\n",
       "         'وطرب': 1,\n",
       "         'جد': 1,\n",
       "         'الموسم': 12,\n",
       "         'رائع': 2,\n",
       "         'مراح': 1,\n",
       "         'احبها': 1,\n",
       "         'فريق': 2,\n",
       "         'بحر': 1,\n",
       "         'الاعلانات': 1,\n",
       "         'مكون': 1,\n",
       "         'معلنه': 1,\n",
       "         'لنشر': 1,\n",
       "         'لجميع': 2,\n",
       "         'البرامج': 1,\n",
       "         'وعام': 1,\n",
       "         'لاكثر': 1,\n",
       "         'حساب': 1,\n",
       "         'نس': 1,\n",
       "         'بديت': 1,\n",
       "         'اصدق': 1,\n",
       "         'كلام': 5,\n",
       "         'الوالد': 1,\n",
       "         'لمن': 1,\n",
       "         'يقول': 2,\n",
       "         'مافي': 1,\n",
       "         'امطار': 3,\n",
       "         'لفتره': 3,\n",
       "         'محدوده': 1,\n",
       "         'تذكرتك': 7,\n",
       "         'ذهاب': 1,\n",
       "         'وعوده': 1,\n",
       "         'الكويت': 1,\n",
       "         'الخطوط': 2,\n",
       "         'وخلك': 1,\n",
       "         'سلام': 3,\n",
       "         'عليكم': 1,\n",
       "         'عندي': 4,\n",
       "         'تذكرتين': 3,\n",
       "         'حاب': 1,\n",
       "         'ياخذ': 1,\n",
       "         'اقل': 1,\n",
       "         'يتواصل': 1,\n",
       "         'معي': 4,\n",
       "         'لبوليفارد': 1,\n",
       "         'الاحد': 5,\n",
       "         'محتاجين': 2,\n",
       "         'عد': 3,\n",
       "         'منظمين': 2,\n",
       "         'لمعرض': 2,\n",
       "         'فني': 2,\n",
       "         'الشروط': 2,\n",
       "         'لغه': 2,\n",
       "         'متازه': 2,\n",
       "         'لباقه': 2,\n",
       "         'حسن': 3,\n",
       "         'المظهر': 4,\n",
       "         'احترافيه': 2,\n",
       "         'التعامل': 2,\n",
       "         'الزوار': 3,\n",
       "         'نورتي': 1,\n",
       "         'يام': 2,\n",
       "         'نايف': 3,\n",
       "         'مين': 22,\n",
       "         'يستاهل': 20,\n",
       "         'الذهب': 43,\n",
       "         'منشن': 20,\n",
       "         'شخص': 29,\n",
       "         'تهديه': 20,\n",
       "         'البحريني': 21,\n",
       "         'منصور': 22,\n",
       "         'لمجوهرات': 22,\n",
       "         'طقم': 49,\n",
       "         'بحريني': 21,\n",
       "         'الاجواء': 1,\n",
       "         'الحلوه': 1,\n",
       "         'دخول': 1,\n",
       "         'فصل': 1,\n",
       "         'الشتاءوحلول': 1,\n",
       "         'الاجواءالجميلهينبعث': 1,\n",
       "         'النفس': 1,\n",
       "         'شيءمن': 1,\n",
       "         'الذهوالفرح': 1,\n",
       "         'والسرورتري': 1,\n",
       "         'مسرحيه': 8,\n",
       "         'سوبرماركت': 6,\n",
       "         'بقصتها': 2,\n",
       "         'العجيبه': 2,\n",
       "         'زادت': 3,\n",
       "         'الكل': 2,\n",
       "         'وبنقدم': 2,\n",
       "         'عرض': 16,\n",
       "         'اضافي': 6,\n",
       "         'تلحق': 2,\n",
       "         'عشقنا': 11,\n",
       "         'اليل': 11,\n",
       "         'بالحانه': 11,\n",
       "         'طلال': 19,\n",
       "         'سلامه': 19,\n",
       "         'يسمعنا': 13,\n",
       "         'انغامه': 12,\n",
       "         'لاونج': 19,\n",
       "         'ملك': 19,\n",
       "         'العود': 24,\n",
       "         'طاولتك': 18,\n",
       "         'راي': 1,\n",
       "         'الاكثريه': 2,\n",
       "         'مقدما': 1,\n",
       "         'لكان': 1,\n",
       "         'قوم': 1,\n",
       "         'لوط': 2,\n",
       "         'اولي': 3,\n",
       "         'فرعون': 1,\n",
       "         'موسي': 1,\n",
       "         'وابو': 1,\n",
       "         'جهل': 1,\n",
       "         'معتبره': 1,\n",
       "         'مبهر': 20,\n",
       "         'لحفل': 20,\n",
       "         'هيئه': 21,\n",
       "         'الترفيه': 24,\n",
       "         'وروتانا': 20,\n",
       "         'عرفنا': 8,\n",
       "         'انهم': 8,\n",
       "         'يصيحون': 4,\n",
       "         'يولولون': 4,\n",
       "         'بالامس': 11,\n",
       "         'المكن': 4,\n",
       "         'يكذبون': 4,\n",
       "         'الاخوان': 4,\n",
       "         'المفسدين': 4,\n",
       "         'الوسواس': 4,\n",
       "         'الخ': 4,\n",
       "         'تمت': 1,\n",
       "         'الموافقه': 1,\n",
       "         'الايلتس': 1,\n",
       "         'الغه': 1,\n",
       "         'الانجليزيه': 1,\n",
       "         'الاكثر': 1,\n",
       "         'شعبيه': 2,\n",
       "         'العالم': 6,\n",
       "         'لتعليم': 1,\n",
       "         'والهجره': 1,\n",
       "         'العالميه': 1,\n",
       "         'الزمن': 1,\n",
       "         'يرجع': 2,\n",
       "         'سوال': 1,\n",
       "         'ياكابتن': 1,\n",
       "         'الاعب': 2,\n",
       "         'عمر': 2,\n",
       "         'تراوري': 1,\n",
       "         'لعب': 1,\n",
       "         'نادي': 8,\n",
       "         'ودك': 2,\n",
       "         'يجيبون': 1,\n",
       "         'لاعيبه': 1,\n",
       "         'النصر': 1,\n",
       "         'احدي': 1,\n",
       "         'منطقه': 5,\n",
       "         'خياليه': 9,\n",
       "         'ومتنوعه': 2,\n",
       "         'غني': 1,\n",
       "         'ديو': 1,\n",
       "         'نصاب': 1,\n",
       "         'البرنس': 1,\n",
       "         'ماجد': 1,\n",
       "         'المهندس': 3,\n",
       "         'نجم': 1,\n",
       "         'نجوم': 5,\n",
       "         'الوطن': 2,\n",
       "         'تحميل': 1,\n",
       "         'تطبيق': 2,\n",
       "         'شدو': 1,\n",
       "         'والابداع': 1,\n",
       "         'بموه': 1,\n",
       "         'الجواب': 7,\n",
       "         'تركب': 19,\n",
       "         'برجولات': 19,\n",
       "         'حديد': 19,\n",
       "         'خشبي': 19,\n",
       "         'تقدم': 19,\n",
       "         'شركه': 20,\n",
       "         'ينابيع': 19,\n",
       "         'اعمار': 19,\n",
       "         'فخر': 19,\n",
       "         'صناعه': 19,\n",
       "         'وتركيب': 19,\n",
       "         'البرجولات': 19,\n",
       "         'بكافه': 19,\n",
       "         'انواعها': 19,\n",
       "         'واشكال': 4,\n",
       "         'الكبير': 2,\n",
       "         'يطربنا': 8,\n",
       "         'بكره': 11,\n",
       "         'يفوتكم': 2,\n",
       "         'واحجزوا': 2,\n",
       "         'الحين': 13,\n",
       "         'انهارده': 1,\n",
       "         'اخر': 1,\n",
       "         'المسرحيه': 2,\n",
       "         'المبي': 3,\n",
       "         'الجاهليه': 3,\n",
       "         'قدا': 1,\n",
       "         'مانا': 2,\n",
       "         'مبسوطهاني': 1,\n",
       "         'معاكم': 1,\n",
       "         'بالرياض': 3,\n",
       "         'زعلانه': 2,\n",
       "         'اني': 4,\n",
       "         'هسبكم': 1,\n",
       "         'لح': 1,\n",
       "         'دريك': 1,\n",
       "         'حبيبتي': 1,\n",
       "         'تغضبين': 1,\n",
       "         'فانتي': 1,\n",
       "         'امامي': 1,\n",
       "         'كالسيل': 1,\n",
       "         'الهادر': 1,\n",
       "         'فاما': 1,\n",
       "         'اواجهك': 1,\n",
       "         'واهلك': 1,\n",
       "         'واما': 1,\n",
       "         'اسايرك': 1,\n",
       "         'اصل': 1,\n",
       "         'فرع': 1,\n",
       "         'الامان': 1,\n",
       "         'وانجو': 1,\n",
       "         'زياره': 1,\n",
       "         'وتغطيه': 1,\n",
       "         'اتشرف': 1,\n",
       "         'بمتابعتكم': 1,\n",
       "         'موضوع': 3,\n",
       "         'مدح': 1,\n",
       "         'لازم': 1,\n",
       "         'نتبه': 1,\n",
       "         'لنقطه': 1,\n",
       "         'هامه': 1,\n",
       "         'دولتنا': 1,\n",
       "         'مب': 1,\n",
       "         'قاصرها': 1,\n",
       "         'شي': 3,\n",
       "         'ومقبله': 1,\n",
       "         'احداث': 1,\n",
       "         'عالميه': 3,\n",
       "         'مهمه': 1,\n",
       "         'واولها': 1,\n",
       "         'سعوديه': 3,\n",
       "         'وش': 4,\n",
       "         'بتشوف': 1,\n",
       "         'خريطه': 1,\n",
       "         'تعرفك': 1,\n",
       "         'مناطقها': 1,\n",
       "         'وتفاصيلها': 1,\n",
       "         'موس': 1,\n",
       "         'اجواء': 13,\n",
       "         'مجانا': 5,\n",
       "         'يوجد': 8,\n",
       "         'لحجز': 6,\n",
       "         'قاعد': 1,\n",
       "         'ينقال': 1,\n",
       "         'مجلس': 1,\n",
       "         'التالي': 1,\n",
       "         'طهروا': 1,\n",
       "         'الذنوب': 1,\n",
       "         'بغليل': 1,\n",
       "         'وجاهم': 1,\n",
       "         'نطهر': 1,\n",
       "         'ذنوب': 1,\n",
       "         'بيجينا': 1,\n",
       "         'حفلات': 11,\n",
       "         'وعلي': 9,\n",
       "         'مسرح': 16,\n",
       "         'عبده': 7,\n",
       "         'ارينا': 7,\n",
       "         'اقيم': 7,\n",
       "         'ضخم': 7,\n",
       "         'لفنانه': 7,\n",
       "         'والفنان': 7,\n",
       "         'وسط': 7,\n",
       "         'يبي': 1,\n",
       "         'حق': 2,\n",
       "         'بنفس': 6,\n",
       "         'سعرها': 2,\n",
       "         'تاجلت': 1,\n",
       "         'روحتي': 1,\n",
       "         'لبكره': 1,\n",
       "         'بيكون': 11,\n",
       "         'معزوم': 11,\n",
       "         'المعازيم': 11,\n",
       "         'الصوره': 11,\n",
       "         'بنمر': 1,\n",
       "         'عشنا': 2,\n",
       "         'كومبات': 7,\n",
       "         'فيلد': 7,\n",
       "         'رهيبه': 2,\n",
       "         'مليانه': 2,\n",
       "         'وناسه': 2,\n",
       "         'وجربنا': 2,\n",
       "         'تحديات': 2,\n",
       "         'وحضرنا': 2,\n",
       "         'بطولات': 2,\n",
       "         'جديده': 2,\n",
       "         'صارت': 2,\n",
       "         'عيش': 2,\n",
       "         'الح': 3,\n",
       "         'راس': 1,\n",
       "         'مالي': 1,\n",
       "         'سعودي': 1,\n",
       "         'واني': 1,\n",
       "         'كنت': 1,\n",
       "         'جزء': 1,\n",
       "         'يطول': 1,\n",
       "         'مولاي': 1,\n",
       "         'خادم': 2,\n",
       "         'الحرمين': 3,\n",
       "         'الشريفين': 2,\n",
       "         'وسمو': 1,\n",
       "         'سيد': 1,\n",
       "         'تفوت': 5,\n",
       "         'الحماس': 4,\n",
       "         'واحجز': 8,\n",
       "         'سمعوهم': 1,\n",
       "         'شكلهم': 1,\n",
       "         'فقدوا': 1,\n",
       "         'حاسه': 1,\n",
       "         'الذوق': 1,\n",
       "         'وحتي': 1,\n",
       "         'السمع': 1,\n",
       "         'وشوي': 1,\n",
       "         'يفقدوا': 1,\n",
       "         'العقل': 1,\n",
       "         'حضر': 1,\n",
       "         'ماشاء': 1,\n",
       "         'تبارك': 1,\n",
       "         'تغريده': 9,\n",
       "         'ومازالت': 9,\n",
       "         'طرب': 4,\n",
       "         'العندليب': 6,\n",
       "         'بعيد': 1,\n",
       "         'مغرم': 1,\n",
       "         'فنه': 1,\n",
       "         'ترا': 4,\n",
       "         'الموعد': 1,\n",
       "         'قريب': 1,\n",
       "         'لاول': 4,\n",
       "         'مره': 8,\n",
       "         'مسرحي': 1,\n",
       "         'تامر': 2,\n",
       "         'حسني': 2,\n",
       "         'القطري': 1,\n",
       "         'جاء': 1,\n",
       "         'ويمدح': 1,\n",
       "         'هشتقوه': 1,\n",
       "         'قطر': 1,\n",
       "         'وخونوه': 1,\n",
       "         'رايه': 1,\n",
       "         'بالموسم': 2,\n",
       "         'واكيد': 1,\n",
       "         'ينتظرونه': 1,\n",
       "         'مدري': 1,\n",
       "         'اتعاطف': 1,\n",
       "         'بدات': 1,\n",
       "         'الحرب': 1,\n",
       "         'مواطن': 1,\n",
       "         'قطري': 1,\n",
       "         'غلبان': 1,\n",
       "         'امتدح': 1,\n",
       "         'بام': 2,\n",
       "         'عينه': 1,\n",
       "         'يبدو': 1,\n",
       "         'يمدح': 1,\n",
       "         'فع': 1,\n",
       "         'دحين': 1,\n",
       "         'بكبره': 1,\n",
       "         'حاسدينا': 1,\n",
       "         'ليوم': 3,\n",
       "         'الرائع': 1,\n",
       "         'الفنانه': 21,\n",
       "         'البنانيه': 20,\n",
       "         'مواشرات': 1,\n",
       "         'البحث': 1,\n",
       "         'بحث': 1,\n",
       "         'ترند': 3,\n",
       "         'المل': 1,\n",
       "         'يحجز': 1,\n",
       "         'تخبط': 2,\n",
       "         'الحياه': 2,\n",
       "         'فتثبت': 2,\n",
       "         'صلابه': 2,\n",
       "         'تدرس': 2,\n",
       "         'ثمه': 2,\n",
       "         'نوع': 3,\n",
       "         'الالم': 2,\n",
       "         'يفرخ': 2,\n",
       "         'براعم': 2,\n",
       "         'خضراء': 2,\n",
       "         'رائحه': 2,\n",
       "         'النزيف': 2,\n",
       "         'يترافق': 2,\n",
       "         'تربه': 2,\n",
       "         'باكي': 2,\n",
       "         'يارب': 3,\n",
       "         'ثبتنا': 1,\n",
       "         'دينك': 1,\n",
       "         'وهداك': 1,\n",
       "         'وادحر': 1,\n",
       "         'عنا': 1,\n",
       "         'الفسق': 1,\n",
       "         'والعصيان': 1,\n",
       "         'والفجور': 1,\n",
       "         'والمنكر': 1,\n",
       "         'والفواحش': 1,\n",
       "         'ماظه': 1,\n",
       "         'شرطه': 2,\n",
       "         'الموضه': 2,\n",
       "         'بفستان': 2,\n",
       "         'تصميم': 6,\n",
       "         'ايلي': 2,\n",
       "         'صعب': 2,\n",
       "         'اجرت': 2,\n",
       "         'التعديلات': 2,\n",
       "         'لتفاصيل': 2,\n",
       "         'مشهد': 1,\n",
       "         'الكوميديا': 3,\n",
       "         'بانتظاركم': 3,\n",
       "         'العلي': 4,\n",
       "         'بقي': 1,\n",
       "         'زاره': 1,\n",
       "         'واله': 2,\n",
       "         'يتونس': 1,\n",
       "         'التركي': 1,\n",
       "         'تعليقات': 1,\n",
       "         'الاخونج': 1,\n",
       "         'تحرش': 2,\n",
       "         'الغوا': 2,\n",
       "         'كله': 4,\n",
       "         'الحكومه': 1,\n",
       "         'بالحرم': 1,\n",
       "         'الحج': 1,\n",
       "         'ودولوا': 1,\n",
       "         'عقو': 1,\n",
       "         'سعيد': 10,\n",
       "         'حفله': 6,\n",
       "         'مطعم': 11,\n",
       "         'الصديق': 1,\n",
       "         'المبدع': 1,\n",
       "         'بانز': 1,\n",
       "         'شهر': 1,\n",
       "         'العسل': 1,\n",
       "         'نجيب': 1,\n",
       "         'محفوظ': 1,\n",
       "         'رفوف': 1,\n",
       "         'لكتب': 1,\n",
       "         'كتب': 1,\n",
       "         'نوادر': 1,\n",
       "         'دار': 1,\n",
       "         'المجد': 2,\n",
       "         'مغضوب': 1,\n",
       "         'عليهم': 1,\n",
       "         'وعمايله': 1,\n",
       "         'الصباح': 1,\n",
       "         'مسابقه': 1,\n",
       "         'لصقور': 6,\n",
       "         'نبارك': 2,\n",
       "         'لابن': 1,\n",
       "         'العم': 1,\n",
       "         'سامي': 1,\n",
       "         'العنزي': 1,\n",
       "         'الفوز': 1,\n",
       "         'الجوله': 1,\n",
       "         'انتظار': 3,\n",
       "         'ال': 14,\n",
       "         'اصعب': 1,\n",
       "         'لحظه': 1,\n",
       "         'تروح': 1,\n",
       "         'ياليتها': 1,\n",
       "         'معانا': 2,\n",
       "         'دايما': 1,\n",
       "         'ماقلنا': 1,\n",
       "         'انكم': 1,\n",
       "         'مسوول': 1,\n",
       "         'موقع': 8,\n",
       "         'علاقه': 1,\n",
       "         'بالاطراف': 1,\n",
       "         'الثلاثه': 1,\n",
       "         'الجمال': 1,\n",
       "         'والمتعه': 1,\n",
       "         'البصريه': 1,\n",
       "         'وشفيه': 1,\n",
       "         'معلق': 1,\n",
       "         'واشك': 1,\n",
       "         'فاخر': 1,\n",
       "         'الاصفر': 1,\n",
       "         'السعر': 2,\n",
       "         'الاسعار': 3,\n",
       "         'شامله': 1,\n",
       "         'القيمه': 1,\n",
       "         'المضافه': 1,\n",
       "         'والتوصيل': 1,\n",
       "         'مرتبطه': 1,\n",
       "         'واشكاله': 4,\n",
       "         'وتوجه': 6,\n",
       "         'رساله': 7,\n",
       "         'السعودين': 7,\n",
       "         'فيديوهات': 6,\n",
       "         'واشكالها': 6,\n",
       "         'صوت': 4,\n",
       "         'بيروت': 4,\n",
       "         'انترناشونال': 4,\n",
       "         'احيت': 4,\n",
       "         'حفلا': 5,\n",
       "         'ضخما': 4,\n",
       "         'وعبرت': 4,\n",
       "         'فرحتها': 4,\n",
       "         'بالمشاركه': 4,\n",
       "         'ارت': 4,\n",
       "         'عارضا': 1,\n",
       "         'سيرك': 1,\n",
       "         'دو': 1,\n",
       "         'سوليه': 1,\n",
       "         'يحكون': 1,\n",
       "         'القصه': 1,\n",
       "         'الواقعيه': 1,\n",
       "         'لاعب': 1,\n",
       "         'ليونيل': 2,\n",
       "         'ميسي': 2,\n",
       "         'بعروض': 1,\n",
       "         'سركيه': 1,\n",
       "         'تفوتوا': 1,\n",
       "         'المتعه': 1,\n",
       "         'سحب': 3,\n",
       "         'سريع': 3,\n",
       "         'الرتويت': 3,\n",
       "         'موثق': 3,\n",
       "         'ساعات': 5,\n",
       "         'قتال': 4,\n",
       "         'الروبوتات': 4,\n",
       "         'العالمي': 5,\n",
       "         'يومنا': 4,\n",
       "         'حماسي': 4,\n",
       "         'التحديات': 4,\n",
       "         'مستمره': 4,\n",
       "         'تفوتك': 4,\n",
       "         'والشاب': 11,\n",
       "         'يشعلان': 11,\n",
       "         'ليل': 9,\n",
       "         'ولطلب': 1,\n",
       "         'موقعنا': 3,\n",
       "         'عادي': 1,\n",
       "         'تزوجين': 1,\n",
       "         'مكرش': 1,\n",
       "         'النحيف': 1,\n",
       "         'المواهب': 2,\n",
       "         'رابطه': 1,\n",
       "         'عش': 1,\n",
       "         'لمحبين': 1,\n",
       "         'الون': 1,\n",
       "         'الازرق': 1,\n",
       "         'ايلوبا': 1,\n",
       "         'روز': 1,\n",
       "         'دايم': 1,\n",
       "         'هديه': 2,\n",
       "         'دائم': 1,\n",
       "         'ازرق': 1,\n",
       "         'الهلال': 1,\n",
       "         'اطلب': 5,\n",
       "         'هديتك': 3,\n",
       "         'توصلك': 3,\n",
       "         'جاي': 5,\n",
       "         'الخير': 7,\n",
       "         'حلو': 3,\n",
       "         'بتغريده': 3,\n",
       "         'تريد': 1,\n",
       "         'معرفته': 1,\n",
       "         'جروف': 1,\n",
       "         'ترحالك': 1,\n",
       "         'تخيل': 4,\n",
       "         'اقلكم': 1,\n",
       "         'وسكتنا': 1,\n",
       "         'افقع': 1,\n",
       "         'عينك': 1,\n",
       "         'خلينا': 1,\n",
       "         'نفرج': 1,\n",
       "         'جلست': 7,\n",
       "         'عربي': 7,\n",
       "         'امريكا': 7,\n",
       "         'هوي': 7,\n",
       "         'اخواني': 7,\n",
       "         'لرياض': 10,\n",
       "         'حينما': 7,\n",
       "         'خنقت': 7,\n",
       "         'انفاس': 7,\n",
       "         'حجه': 7,\n",
       "         'فنان': 3,\n",
       "         'تركي': 1,\n",
       "         'العبداله': 1,\n",
       "         'يولع': 1,\n",
       "         'الدنيا': 7,\n",
       "         'سفري': 1,\n",
       "         'يفوز': 1,\n",
       "         'ماجده': 1,\n",
       "         'الرومي': 1,\n",
       "         'متواجده': 1,\n",
       "         'وليش': 1,\n",
       "         'نجي': 2,\n",
       "         'اصلا': 1,\n",
       "         'انت': 4,\n",
       "         'لحالك': 1,\n",
       "         'حميد': 2,\n",
       "         'احلي': 3,\n",
       "         'الاغاني': 8,\n",
       "         'ويطربنا': 1,\n",
       "         'بالانغام': 1,\n",
       "         'ليالي': 10,\n",
       "         'عدن': 9,\n",
       "         'واستمتع': 1,\n",
       "         'با': 1,\n",
       "         'لت': 1,\n",
       "         'جو': 3,\n",
       "         'جديد': 3,\n",
       "         'مختلف': 3,\n",
       "         'زون': 3,\n",
       "         'عشت': 3,\n",
       "         'الجو': 3,\n",
       "         'وقابلت': 3,\n",
       "         'عازف': 3,\n",
       "         'القانون': 3,\n",
       "         'الشهير': 3,\n",
       "         'تش': 3,\n",
       "         'وسالته': 3,\n",
       "         'رشا': 5,\n",
       "         'ابي': 2,\n",
       "         'لحفله': 2,\n",
       "         'الاثنين': 2,\n",
       "         'الثلاثاء': 4,\n",
       "         'المصاريا': 1,\n",
       "         'مسيطرين': 1,\n",
       "         'تفاصيل': 1,\n",
       "         'وحده': 5,\n",
       "         'حجزتها': 1,\n",
       "         'ومقدر': 1,\n",
       "         'احظر': 1,\n",
       "         'الصامل': 2,\n",
       "         'يجي': 6,\n",
       "         'طرق': 2,\n",
       "         'الدفع': 2,\n",
       "         'تحويل': 2,\n",
       "         'تدشين': 3,\n",
       "         'سيارات': 3,\n",
       "         'معرض': 8,\n",
       "         'لسيارات': 8,\n",
       "         'الفتره': 3,\n",
       "         'سباقات': 3,\n",
       "         'الخيل': 3,\n",
       "         'الحفل': 3,\n",
       "         'الشوط': 7,\n",
       "         'الفائز': 3,\n",
       "         'فايقه': 3,\n",
       "         'الوصف': 3,\n",
       "         'ابنه': 3,\n",
       "         'حسين': 3,\n",
       "         'مهدي': 3,\n",
       "         'حيد': 3,\n",
       "         'الدمام': 9,\n",
       "         'البنوك': 7,\n",
       "         'سداد': 22,\n",
       "         'قروض': 8,\n",
       "         'متعثرات': 7,\n",
       "         'سمه': 7,\n",
       "         'ايقاف': 8,\n",
       "         'الخدمات': 8,\n",
       "         'الراجحي': 8,\n",
       "         'راتب': 7,\n",
       "         'لين': 1,\n",
       "         'يطيح': 1,\n",
       "         'براسك': 1,\n",
       "         'ام': 3,\n",
       "         'زين': 1,\n",
       "         'الصدفه': 1,\n",
       "         'جمعتنا': 1,\n",
       "         ...})"
      ]
     },
     "execution_count": 36,
     "metadata": {},
     "output_type": "execute_result"
    }
   ],
   "source": [
    "word_counter"
   ]
  },
  {
   "cell_type": "code",
   "execution_count": 37,
   "metadata": {
    "extensions": {
     "jupyter_dashboards": {
      "version": 1,
      "views": {
       "default_view": {
        "hidden": true
       }
      }
     }
    }
   },
   "outputs": [],
   "source": [
    "from arabic_reshaper import arabic_reshaper\n",
    "from bidi.algorithm import get_display"
   ]
  },
  {
   "cell_type": "code",
   "execution_count": 38,
   "metadata": {
    "extensions": {
     "jupyter_dashboards": {
      "version": 1,
      "views": {
       "default_view": {
        "hidden": true
       }
      }
     }
    }
   },
   "outputs": [],
   "source": [
    "# using list comprehension\n",
    "listToStr = ' '.join([str(elem) for elem in all_words])"
   ]
  },
  {
   "cell_type": "code",
   "execution_count": 39,
   "metadata": {
    "extensions": {
     "jupyter_dashboards": {
      "version": 1,
      "views": {
       "default_view": {
        "hidden": true
       }
      }
     }
    }
   },
   "outputs": [],
   "source": [
    "\n",
    "import pandas as pd\n",
    "\n",
    "from flair.embeddings import TransformerDocumentEmbeddings\n",
    "from gensim.models.coherencemodel import CoherenceModel\n",
    "import gensim.corpora as corpora\n",
    "from gensim.models import LdaMulticore\n"
   ]
  },
  {
   "cell_type": "code",
   "execution_count": 40,
   "metadata": {
    "extensions": {
     "jupyter_dashboards": {
      "version": 1,
      "views": {
       "default_view": {
        "hidden": true
       }
      }
     }
    }
   },
   "outputs": [
    {
     "data": {
      "image/png": "[encoded data removed]",
      "text/plain": [
       "<Figure size 432x288 with 1 Axes>"
      ]
     },
     "metadata": {
      "needs_background": "light"
     },
     "output_type": "display_data"
    }
   ],
   "source": [
    "import arabic_reshaper\n",
    "from bidi.algorithm import get_display\n",
    "from wordcloud import WordCloud\n",
    "#...\n",
    "reshaped_text = arabic_reshaper.reshape(listToStr)\n",
    "data = get_display(reshaped_text) # add this line\n",
    "WordCloud = WordCloud(font_path='arial', background_color='white',\n",
    "                  mode='RGB', max_font_size=50, max_words=100,).generate(data)\n",
    "c=\"سحابة الكلمات \"\n",
    "reshaped_textc = arabic_reshaper.reshape(c)\n",
    "datac = get_display(reshaped_textc) # add this line\n",
    "plt.title(datac,fontsize=25, color='black')\n",
    "plt.imshow(WordCloud)\n",
    "plt.axis(\"off\")\n",
    "plt.show()"
   ]
  },
  {
   "cell_type": "markdown",
   "metadata": {},
   "source": [
    "# Sentiment Classification"
   ]
  },
  {
   "cell_type": "code",
   "execution_count": 41,
   "metadata": {},
   "outputs": [],
   "source": [
    "from sklearn.feature_extraction.text import TfidfVectorizer\n",
    "from sklearn.model_selection import train_test_split\n",
    "from sklearn import svm\n",
    "from sklearn.linear_model import LogisticRegression\n",
    "from sklearn.model_selection import cross_val_score, cross_val_predict, KFold\n",
    "from sklearn.metrics  import confusion_matrix, classification_report\n",
    "from sklearn import metrics\n",
    "from sklearn.discriminant_analysis import LinearDiscriminantAnalysis\n",
    "from sklearn.neighbors import KNeighborsClassifier\n",
    "from sklearn.naive_bayes import GaussianNB\n",
    "from sklearn.tree import DecisionTreeClassifier\n",
    "from sklearn.svm import SVC"
   ]
  },
  {
   "cell_type": "code",
   "execution_count": 42,
   "metadata": {},
   "outputs": [],
   "source": [
    "# remove the \"Neutral\" class\n",
    "df=df[df['sentiment'] != \"Neutral\"]"
   ]
  },
  {
   "cell_type": "code",
   "execution_count": 43,
   "metadata": {},
   "outputs": [],
   "source": [
    "\n",
    "# change values to numeric\n",
    "df['sentiment'] = df['sentiment'].map({'Positive': 1, 'Negative': 0})"
   ]
  },
  {
   "cell_type": "code",
   "execution_count": 44,
   "metadata": {},
   "outputs": [],
   "source": [
    "# idneitfy the data and the labels\n",
    "data= df['clean text']\n",
    "target= df['sentiment']\n"
   ]
  },
  {
   "cell_type": "code",
   "execution_count": 45,
   "metadata": {},
   "outputs": [
    {
     "data": {
      "text/plain": [
       "(986, 2181)"
      ]
     },
     "execution_count": 45,
     "metadata": {},
     "output_type": "execute_result"
    }
   ],
   "source": [
    "# Use TfidfVectorizer for feature extraction (TFIDF to convert textual data to numeric form):\n",
    "tf_vec = TfidfVectorizer()\n",
    "X = tf_vec.fit_transform(data)\n",
    "X.shape\n"
   ]
  },
  {
   "cell_type": "code",
   "execution_count": 46,
   "metadata": {},
   "outputs": [],
   "source": [
    "# Training Phase\n",
    "X_train, X_test, y_train, y_test = train_test_split(X, target, test_size=0.20, random_state=0)"
   ]
  },
  {
   "cell_type": "code",
   "execution_count": 47,
   "metadata": {},
   "outputs": [
    {
     "name": "stdout",
     "output_type": "stream",
     "text": [
      "(788, 2181) (198, 2181) (788,) (198,)\n"
     ]
    }
   ],
   "source": [
    "print(X_train.shape,X_test.shape,y_train.shape,y_test.shape)"
   ]
  },
  {
   "cell_type": "code",
   "execution_count": 48,
   "metadata": {},
   "outputs": [
    {
     "name": "stdout",
     "output_type": "stream",
     "text": [
      "SVM accuracy: 0.94\n",
      "LogisticRegression accuracy: 0.90\n",
      "KNN accuracy: 0.88\n"
     ]
    }
   ],
   "source": [
    "# create the classifer and fit the training data and lables\n",
    "classifier_svm1 = svm.SVC(kernel='linear', C=1, probability=True).fit(X_train,y_train)\n",
    "logreg_clf1 = LogisticRegression().fit(X_train,y_train)\n",
    "KNN_model1 = KNeighborsClassifier(n_neighbors=5).fit(X_train,y_train)\n",
    "#gnb = GaussianNB().fit(X_train, y_train)\n",
    "\n",
    "print(\"SVM accuracy: %.2f\"%classifier_svm1.score(X_test, y_test))\n",
    "print(\"LogisticRegression accuracy: %.2f\"%logreg_clf1.score(X_test, y_test))\n",
    "print(\"KNN accuracy: %.2f\"%KNN_model1.score(X_test, y_test))\n",
    "#print(\"NB accuracy: %.2f\"%gnb.score(X_test, y_test))"
   ]
  },
  {
   "cell_type": "code",
   "execution_count": 49,
   "metadata": {},
   "outputs": [
    {
     "name": "stdout",
     "output_type": "stream",
     "text": [
      "classification_report               precision    recall  f1-score   support\n",
      "\n",
      "           0       1.00      0.69      0.82        39\n",
      "           1       0.93      1.00      0.96       159\n",
      "\n",
      "    accuracy                           0.94       198\n",
      "   macro avg       0.96      0.85      0.89       198\n",
      "weighted avg       0.94      0.94      0.93       198\n",
      "\n",
      "classification_report               precision    recall  f1-score   support\n",
      "\n",
      "           0       1.00      0.49      0.66        39\n",
      "           1       0.89      1.00      0.94       159\n",
      "\n",
      "    accuracy                           0.90       198\n",
      "   macro avg       0.94      0.74      0.80       198\n",
      "weighted avg       0.91      0.90      0.88       198\n",
      "\n",
      "classification_report               precision    recall  f1-score   support\n",
      "\n",
      "           0       0.70      0.67      0.68        39\n",
      "           1       0.92      0.93      0.93       159\n",
      "\n",
      "    accuracy                           0.88       198\n",
      "   macro avg       0.81      0.80      0.80       198\n",
      "weighted avg       0.88      0.88      0.88       198\n",
      "\n"
     ]
    }
   ],
   "source": [
    "from sklearn.metrics import classification_report\n",
    "svm_pred = classifier_svm1.predict(X_test)\n",
    "logreg_clf_pred=logreg_clf1.predict(X_test)\n",
    "KNN_model_pred=KNN_model1.predict(X_test)\n",
    "\n",
    "print (\"classification_report\", metrics.classification_report(y_test, svm_pred))\n",
    "print (\"classification_report\", metrics.classification_report(y_test, logreg_clf_pred))\n",
    "print (\"classification_report\", metrics.classification_report(y_test, KNN_model_pred))"
   ]
  },
  {
   "cell_type": "markdown",
   "metadata": {},
   "source": [
    "# Topic Modling "
   ]
  },
  {
   "cell_type": "code",
   "execution_count": 50,
   "metadata": {
    "extensions": {
     "jupyter_dashboards": {
      "version": 1,
      "views": {
       "default_view": {
        "hidden": true
       }
      }
     }
    }
   },
   "outputs": [],
   "source": [
    "texts = [[word for word in str(document).split()] for document in all_words]\n",
    "id2word = corpora.Dictionary(texts)\n",
    "corpus = [id2word.doc2bow(text) for text in texts]"
   ]
  },
  {
   "cell_type": "code",
   "execution_count": 51,
   "metadata": {
    "extensions": {
     "jupyter_dashboards": {
      "version": 1,
      "views": {
       "default_view": {
        "hidden": true
       }
      }
     }
    }
   },
   "outputs": [],
   "source": [
    "#chang the number of topics here\n",
    "no_topics = 10\n",
    "\n",
    "# run LDA\n",
    "lda = LdaMulticore(corpus, id2word=id2word, num_topics=no_topics ,alpha=0.5, eval_every=5)"
   ]
  },
  {
   "cell_type": "code",
   "execution_count": 52,
   "metadata": {
    "extensions": {
     "jupyter_dashboards": {
      "version": 1,
      "views": {
       "default_view": {
        "hidden": true
       }
      }
     }
    }
   },
   "outputs": [
    {
     "name": "stderr",
     "output_type": "stream",
     "text": [
      "C:\\Users\\rawan\\Anaconda3\\rawan\\lib\\site-packages\\pyLDAvis\\_prepare.py:246: FutureWarning: In a future version of pandas all arguments of DataFrame.drop except for the argument 'labels' will be keyword-only\n",
      "  default_term_info = default_term_info.sort_values(\n"
     ]
    }
   ],
   "source": [
    "import pyLDAvis.gensim_models as gensimvis\n",
    "import pickle\n",
    "import os\n",
    "import pyLDAvis# Visualize the topics\n",
    "import pyLDAvis\n",
    "import pyLDAvis.sklearn\n",
    "\n",
    "#Creating Topic Distance Visualization \n",
    "pyLDAvis.enable_notebook()\n",
    "p = gensimvis.prepare(lda, corpus, id2word)"
   ]
  },
  {
   "cell_type": "markdown",
   "metadata": {
    "extensions": {
     "jupyter_dashboards": {
      "version": 1,
      "views": {
       "default_view": {
        "col": 1,
        "height": 3,
        "row": 33,
        "width": 4
       }
      }
     }
    }
   },
   "source": [
    "# Topic Modeling Using LDA"
   ]
  },
  {
   "cell_type": "code",
   "execution_count": 53,
   "metadata": {
    "extensions": {
     "jupyter_dashboards": {
      "version": 1,
      "views": {
       "default_view": {
        "hidden": true
       }
      }
     }
    }
   },
   "outputs": [
    {
     "name": "stderr",
     "output_type": "stream",
     "text": [
      "C:\\Users\\rawan\\Anaconda3\\rawan\\lib\\site-packages\\ipykernel\\ipkernel.py:287: DeprecationWarning: `should_run_async` will not call `transform_cell` automatically in the future. Please pass the result to `transformed_cell` argument and any exception that happen during thetransform in `preprocessing_exc_tuple` in IPython 7.17 and above.\n",
      "  and should_run_async(code)\n"
     ]
    },
    {
     "data": {
      "text/html": [
       "\n",
       "<link rel=\"stylesheet\" type=\"text/css\" href=\"https://cdn.jsdelivr.net/gh/bmabey/pyLDAvis@3.3.1/pyLDAvis/js/ldavis.v1.0.0.css\">\n",
       "\n",
       "\n",
       "<div id=\"ldavis_el2167615896960708161082806501\"></div>\n",
       "<script type=\"text/javascript\">\n",
       "\n",
       "var ldavis_el2167615896960708161082806501_data = {\"mdsDat\": {\"x\": [-0.005928926393929053, -0.008774298332792642, 0.00750005505500691, -0.005101340658861597, 0.004874629083530563, -0.00034924753018474573, 0.0012966082125459926, 0.006168375157074536, -0.001165436244139384, 0.0014795816517494175], \"y\": [-0.006518903984664816, 0.006647580308422066, 0.003686750161772258, -0.002538361510087836, -0.008292056530746073, 0.0032916393836803733, 0.00267093228285429, 0.0029940689704911153, -0.000600868061502743, -0.0013407810202186274], \"topics\": [1, 2, 3, 4, 5, 6, 7, 8, 9, 10], \"cluster\": [1, 1, 1, 1, 1, 1, 1, 1, 1, 1], \"Freq\": [10.056833962198573, 10.048945519969395, 10.03714692630594, 10.003914851765435, 9.994831502306175, 9.991168925127456, 9.98438391583825, 9.98379124991988, 9.968072462050518, 9.930910684518382]}, \"tinfo\": {\"Term\": [\"\\u0647\\u062f\\u0627\\u064a\\u0627\", \"\\u062c\\u0648\\u0627\\u0644\\u064a\\u0646\", \"\\u0645\\u0648\\u0633\\u0645\", \"\\u0639\\u0644\\u0645\\u0627\", \"\\u0627\\u0644\\u064a\\u0644\\u0647\", \"\\u0627\\u0644\\u0631\\u064a\\u0627\\u0636\", \"\\u0631\\u062a\\u0648\\u064a\\u062a\", \"\\u0645\\u0643\\u0646\", \"\\u0627\\u0644\\u062b\\u0627\\u0646\\u064a\\u0647\", \"\\u0643\\u0627\\u0634\", \"\\u0627\\u0644\\u064a\\u0633\\u0627\", \"\\u0628\\u0627\\u0644\\u062d\\u0633\\u0627\\u0628\", \"\\u062a\\u0631\\u0642\\u0628\\u0648\\u0646\\u0627\", \"\\u0634\\u0627\\u0631\\u0643\", \"\\u062a\\u0627\", \"\\u0627\\u0644\\u0633\\u062d\\u0628\", \"\\u0641\\u0648\\u0627\\u0632\\u064a\\u0631\", \"\\u062e\\u0627\\u0644\\u062f\", \"\\u0646\\u0635\\u064a\\u0628\\u0643\", \"\\u0637\\u064a\\u0631\\u0627\\u0646\", \"\\u0627\\u0644\\u0633\\u0639\\u0648\\u062f\\u064a\\u0647\", \"\\u0631\\u064a\\u0627\\u0636\", \"\\u0637\\u0642\\u0645\", \"\\u0627\\u0644\\u0634\\u0627\\u0628\", \"\\u0627\\u062f\\u064a\\u0644\", \"\\u0627\\u062d\\u062c\\u0632\", \"\\u0633\\u064a\\u062a\\u064a\", \"\\u0645\\u0627\\u0647\\u0648\", \"\\u0645\\u062d\\u0645\\u062f\", \"\\u0627\\u0644\\u062a\\u0648\\u0627\\u0635\\u0644\", \"\\u0647\\u062f\\u0627\\u064a\\u0627\", \"\\u062e\\u064a\\u0627\\u0644\\u064a\\u0647\", \"\\u0628\\u062d\\u0641\\u0644\", \"\\u0645\\u062d\\u0645\\u062f\", \"\\u0627\\u0644\\u0641\\u0646\\u0627\\u0646\", \"\\u0635\\u0627\\u0631\\u062a\", \"\\u0641\\u064a\\u062f\\u064a\\u0648\\u0647\\u0627\\u062a\", \"\\u0627\\u0644\\u064a\\u0633\\u0627\", \"\\u062a\\u0633\\u062a\\u0646\\u0627\\u0646\\u064a\", \"\\u0645\\u062a\\u064a\", \"\\u0644\\u062d\\u062c\\u0632\", \"\\u0627\\u0644\\u0627\\u0644\\u0639\\u0627\\u0628\", \"\\u0644\\u064a\\u0647\", \"\\u0628\\u0639\\u0636\\u0647\\u0646\", \"\\u0627\\u0644\\u0627\\u062c\\u062a\\u0645\\u0627\\u0639\\u064a\", \"\\u0627\\u0644\\u0635\\u062d\\u0631\\u0627\\u0621\", \"\\u062e\\u0627\\u0644\\u062f\", \"\\u062a\\u062d\\u0645\\u064a\\u0644\", \"\\u0645\\u062d\\u062f\\u0648\\u062f\", \"\\u0627\\u0644\\u062d\\u064a\\u0627\\u0647\", \"\\u0639\\u0631\\u0628\\u064a\", \"\\u062a\\u0635\\u0644\\u0643\", \"\\u0644\\u0633\\u0647\", \"\\u0627\\u0633\\u062a\\u062e\\u0631\\u0627\\u062c\", \"\\u063a\\u0627\\u064a\\u062a\\u0646\\u0627\", \"\\u0633\\u0641\\u0627\\u0631\\u064a\", \"\\u0643\\u0627\\u0645\\u0644\", \"\\u0644\\u0641\\u0626\\u0647\", \"\\u0627\\u0644\\u0633\\u0627\\u0647\\u0631\", \"\\u062c\\u0627\\u0644\\u0633\\u064a\\u0646\", \"\\u0634\\u062e\\u0635\", \"\\u0633\\u0645\\u0647\", \"\\u0627\\u0644\\u064a\\u0644\", \"\\u0645\\u0643\\u0646\", \"\\u0637\\u0642\\u0645\", \"\\u0645\\u0646\\u0634\\u0646\", \"\\u0648\\u062a\\u0631\\u0643\\u064a\\u0628\", \"\\u0641\\u0648\\u0627\\u0632\\u064a\\u0631\", \"\\u0627\\u0644\\u0641\\u0646\\u0627\\u0646\\u0647\", \"\\u0634\\u0627\\u0631\\u0643\", \"\\u0627\\u0644\\u0631\\u064a\\u0627\\u0636\", \"\\u0627\\u0644\", \"\\u0627\\u0644\\u0633\\u062d\\u0628\", \"\\u0639\\u0644\\u0645\\u0627\", \"\\u0627\\u0644\\u0633\\u0639\\u0648\\u062f\\u064a\\u0647\", \"\\u0645\\u0648\\u0633\\u0645\", \"\\u0646\\u0635\\u064a\\u0628\\u0643\", \"\\u0643\\u0627\\u0634\", \"\\u0637\\u064a\\u0631\\u0627\\u0646\", \"\\u0628\\u0627\\u0644\\u062d\\u0633\\u0627\\u0628\", \"\\u0634\\u064a\\u0621\", \"\\u0627\\u0644\\u064a\\u0644\\u0647\", \"\\u062c\\u0648\\u0627\\u0644\\u064a\\u0646\", \"\\u0627\\u0644\\u062b\\u0627\\u0646\\u064a\\u0647\", \"\\u062a\\u0627\", \"\\u062a\\u0631\\u0642\\u0628\\u0648\\u0646\\u0627\", \"\\u0627\\u0644\\u0630\\u0647\\u0628\", \"\\u0631\\u062a\\u0648\\u064a\\u062a\", \"\\u0633\\u064a\\u062a\\u064a\", \"\\u0627\\u062f\\u064a\\u0644\", \"\\u0628\\u0648\\u0644\\u064a\\u0641\\u0627\\u0631\\u062f\", \"\\u0631\\u064a\\u0627\\u0636\", \"\\u0639\\u0644\\u0645\\u0627\", \"\\u0642\\u0631\\u0648\\u0636\", \"\\u062a\\u0647\\u062f\\u064a\\u0647\", \"\\u0648\\u0627\\u0644\\u0641\\u0646\\u0627\\u0646\", \"\\u0645\\u0628\\u0647\\u0631\", \"\\u0639\\u0628\\u0648\\u062f\", \"\\u062c\\u0648\\u0627\\u0644\\u064a\\u0646\", \"\\u0627\\u0644\\u0634\\u0627\\u0626\\u0639\\u0647\", \"\\u0627\\u0639\\u0645\\u0627\\u0644\\u0646\\u0627\", \"\\u0627\\u0644\\u062a\\u0631\\u0641\\u064a\\u0647\", \"\\u0645\\u0648\\u0633\\u0645\", \"\\u0633\\u0644\\u0645\\u0627\\u0646\", \"\\u062a\\u062e\\u064a\\u0636\\u0627\\u062a\", \"\\u0642\\u0635\\u0647\", \"\\u062d\\u0627\\u0641\\u0632\", \"\\u062a\\u0631\\u0627\", \"\\u064a\\u0637\\u0631\\u0628\\u0646\\u0627\", \"\\u0642\\u0631\\u0646\\u0627\\u0633\", \"\\u0646\\u0627\\u062d\\u0644\", \"\\u062d\\u062f\\u064a\\u062f\", \"\\u0645\\u0644\\u064a\\u062c\\u0647\", \"\\u064a\\u0641\\u0631\\u062e\", \"\\u0639\\u0631\\u0648\\u0633\\u0647\", \"\\u062a\\u0635\\u062f\\u0631\", \"\\u0644\\u0643\\u0644\", \"\\u062a\\u063a\\u0637\\u064a\\u0647\", \"\\u0627\\u0644\\u062e\\u064a\\u0631\", \"\\u0646\\u0642\\u0648\\u0644\", \"\\u0645\\u0641\\u062a\\u0631\\u0636\", \"\\u0635\\u062f\\u0631\\u0643\", \"\\u0627\\u0644\\u0628\\u0646\\u0627\\u0646\\u064a\\u0647\", \"\\u0645\\u0643\\u0627\\u0646\", \"\\u062a\\u0627\", \"\\u0645\\u0648\\u0627\\u0642\\u0639\", \"\\u0627\\u0644\\u062a\\u0648\\u0627\\u0635\\u0644\", \"\\u0634\\u0627\\u0631\\u0643\", \"\\u0645\\u0627\\u0647\\u0648\", \"\\u062c\\u0645\\u064a\\u0644\", \"\\u0646\\u0635\\u064a\\u0628\\u0643\", \"\\u0639\\u0646\\u062f\\u0647\\u0645\", \"\\u0645\\u0643\\u0646\", \"\\u0627\\u0644\\u0633\\u062d\\u0628\", \"\\u0627\\u0644\\u0631\\u064a\\u0627\\u0636\", \"\\u0628\\u0648\\u0644\\u064a\\u0641\\u0627\\u0631\\u062f\", \"\\u0631\\u062a\\u0648\\u064a\\u062a\", \"\\u0647\\u062f\\u0627\\u064a\\u0627\", \"\\u0627\\u0644\\u062b\\u0627\\u0646\\u064a\\u0647\", \"\\u0628\\u0627\\u0644\\u062d\\u0633\\u0627\\u0628\", \"\\u062a\\u0631\\u0642\\u0628\\u0648\\u0646\\u0627\", \"\\u0627\\u0644\\u064a\\u0633\\u0627\", \"\\u0643\\u0627\\u0634\", \"\\u0627\\u0644\\u064a\\u0644\\u0647\", \"\\u0634\\u062e\\u0635\", \"\\u0637\\u0642\\u0645\", \"\\u0639\\u0627\\u0644\\u0645\\u0637\\u0631\", \"\\u0633\\u064a\\u062a\\u064a\", \"\\u0631\\u064a\\u0627\\u0636\", \"\\u0641\\u0648\\u0627\\u0632\\u064a\\u0631\", \"\\u0627\\u062f\\u064a\\u0644\", \"\\u0628\\u0643\\u064a\", \"\\u0634\\u0627\\u0644\\u064a\\u0647\", \"\\u0627\\u0644\\u062a\\u0648\\u0627\\u0635\\u0644\", \"\\u0639\\u0628\\u062f\\u0647\", \"\\u062e\\u0634\\u0628\\u064a\", \"\\u0627\\u0644\\u062b\\u0627\\u0646\\u064a\\u0647\", \"\\u0648\\u0631\\u0648\\u062a\\u0627\\u0646\\u0627\", \"\\u062d\\u0641\\u0644\\u0627\\u062a\", \"\\u062d\\u0627\\u064a\\u0644\", \"\\u0646\\u0641\\u0630\\u062a\", \"\\u0627\\u0644\\u0631\\u064a\\u0627\\u0636\", \"\\u062e\\u0644\\u064a\", \"\\u0641\\u0627\\u0632\\u062a\", \"\\u0628\\u0627\\u0644\\u062d\\u0627\\u0646\\u0647\", \"\\u062a\\u0631\\u0641\\u064a\\u0647\\u064a\\u0647\", \"\\u062a\\u0639\\u0627\\u0644\", \"\\u0641\\u064a\\u0633\\u0628\\u0648\\u0643\", \"\\u062a\\u0648\\u0641\\u0631\", \"\\u0633\\u062f\\u0627\\u062f\", \"\\u0627\\u0644\\u0645\\u0642\\u0637\\u0639\", \"\\u0628\\u0627\\u0637\\u0644\\u0627\\u0644\\u062a\\u0643\", \"\\u0639\\u0627\\u0644\\u064a\", \"\\u062a\\u0630\\u0643\\u0631\\u0647\", \"\\u064a\\u0648\\u062c\\u062f\", \"\\u0645\\u064a\\u0632\", \"\\u0627\\u0628\\u0648\", \"\\u0628\\u064a\\u062a\", \"\\u0627\\u0644\\u0645\\u0633\\u0627\\u0628\\u0642\\u0647\", \"\\u0628\\u0627\\u0644\\u0645\\u0634\\u0627\\u0631\\u0643\\u0647\", \"\\u0648\\u0642\\u0627\\u0628\\u0644\\u062a\", \"\\u0627\\u0644\\u0634\\u0627\\u0628\", \"\\u0628\\u0627\\u0644\\u062d\\u0633\\u0627\\u0628\", \"\\u0631\\u062a\\u0648\\u064a\\u062a\", \"\\u062a\\u0644\\u0641\\u0632\\u064a\\u0648\\u0646\", \"\\u0639\\u0646\\u062f\\u0647\\u0645\", \"\\u062e\\u0627\\u0644\\u062f\", \"\\u0643\\u0627\\u0634\", \"\\u0645\\u062d\\u0645\\u062f\", \"\\u062a\\u0627\", \"\\u0645\\u0648\\u0633\\u0645\", \"\\u0646\\u0635\\u064a\\u0628\\u0643\", \"\\u0627\\u0644\\u064a\\u0644\\u0647\", \"\\u0637\\u064a\\u0631\\u0627\\u0646\", \"\\u062c\\u0648\\u0627\\u0644\\u064a\\u0646\", \"\\u0645\\u064a\\u0646\", \"\\u0634\\u0627\\u0631\\u0643\", \"\\u0627\\u062f\\u064a\\u0644\", \"\\u062a\\u0631\\u0642\\u0628\\u0648\\u0646\\u0627\", \"\\u0645\\u0643\\u0646\", \"\\u0627\\u0644\\u0633\\u062d\\u0628\", \"\\u0627\\u0644\\u0633\\u0639\\u0648\\u062f\\u064a\\u0647\", \"\\u0639\\u0644\\u0645\\u0627\", \"\\u0627\\u0644\\u064a\\u0633\\u0627\", \"\\u0647\\u062f\\u0627\\u064a\\u0627\", \"\\u0633\\u064a\\u062a\\u064a\", \"\\u0631\\u064a\\u0627\\u0636\", \"\\u0628\\u0648\\u0644\\u064a\\u0641\\u0627\\u0631\\u062f\", \"\\u0627\\u0644\\u0630\\u0647\\u0628\", \"\\u0634\\u064a\\u0621\", \"\\u0627\\u0644\\u0639\\u0645\\u0644\", \"\\u0627\\u062e\\u062a\\u0628\\u0627\\u0631\", \"\\u0627\\u0644\\u062b\\u0642\\u0647\\u0648\\u0644\\u0643\\u0645\", \"\\u064a\\u0633\\u062a\\u0627\\u0647\\u0644\", \"\\u062c\\u0648\\u0627\\u0644\\u064a\\u0646\", \"\\u0627\\u0646\\u0641\\u0627\\u0633\", \"\\u062d\\u064a\\u062f\", \"\\u062c\\u0644\\u0633\\u0647\", \"\\u0627\\u0644\\u062e\\u064a\\u0627\\u0644\", \"\\u0627\\u0644\\u062c\\u064a\\u0644\", \"\\u062c\\u0627\\u0628\\u0647\\u0645\", \"\\u062a\\u0631\\u064a\\u062f\", \"\\u0645\\u0643\\u0646\", \"\\u0627\\u0644\\u0645\\u0643\\u0627\\u0646\", \"\\u0648\\u0627\\u0634\\u0643\\u0627\", \"\\u0639\\u0646\\u062f\\u0647\\u0645\", \"\\u0645\\u0627\\u062c\\u062f\\u0647\", \"\\u062a\\u0641\\u0648\\u062a\", \"\\u0627\\u0645\\u0637\\u0627\\u0631\", \"\\u0648\\u062c\\u0647\\u0643\", \"\\u0644\\u0645\\u0633\\u0631\\u062d\\u064a\\u0647\", \"\\u0641\\u0639\\u0627\\u0644\\u064a\\u0627\\u062a\", \"\\u0627\\u0645\\u0631\\u064a\\u0643\\u0627\", \"\\u0627\\u0644\\u0645\\u0648\\u062b\\u0631\\u0647\", \"\\u0645\\u062a\\u0627\\u0632\\u0647\", \"\\u0627\\u0644\\u0637\\u0644\\u0628\", \"\\u0644\\u062c\\u0645\\u064a\\u0639\", \"\\u064a\\u0627\\u0631\\u0628\\u064a\", \"\\u0627\\u0644\\u0645\\u0639\\u0627\\u0632\\u064a\\u0645\", \"\\u062c\\u0627\\u064a\", \"\\u0637\\u064a\\u0631\\u0627\\u0646\", \"\\u0639\\u0631\\u0636\", \"\\u0627\\u0644\\u0633\\u062d\\u0628\", \"\\u0627\\u0644\\u0627\\u062d\\u0633\\u0627\\u0633\", \"\\u0627\\u0644\\u062e\\u062f\\u0645\\u0627\\u062a\", \"\\u0627\\u0644\\u064a\\u0633\\u0627\", \"\\u0644\\u0627\\u0648\\u0646\\u062c\", \"\\u0637\\u0642\\u0645\", \"\\u0643\\u0627\\u0634\", \"\\u0639\\u0644\\u0645\\u0627\", \"\\u0641\\u0631\\u064a\\u062f\\u0647\", \"\\u0633\\u064a\\u062a\\u0645\", \"\\u0628\\u0648\\u0644\\u064a\\u0641\\u0627\\u0631\\u062f\", \"\\u0646\\u0635\\u064a\\u0628\\u0643\", \"\\u062a\\u0627\", \"\\u0648\\u064a\\u062d\\u0633\\u062f\\u0648\\u0646\\u0627\", \"\\u062a\\u0631\\u0642\\u0628\\u0648\\u0646\\u0627\", \"\\u0627\\u062f\\u064a\\u0644\", \"\\u0628\\u0627\\u0644\\u062d\\u0633\\u0627\\u0628\", \"\\u0627\\u0644\\u0631\\u064a\\u0627\\u0636\", \"\\u0627\\u0644\\u064a\\u0644\\u0647\", \"\\u0627\\u0644\\u062b\\u0627\\u0646\\u064a\\u0647\", \"\\u0645\\u0648\\u0633\\u0645\", \"\\u0631\\u064a\\u0627\\u0636\", \"\\u0647\\u062f\\u0627\\u064a\\u0627\", \"\\u0631\\u062a\\u0648\\u064a\\u062a\", \"\\u0634\\u0627\\u0631\\u0643\", \"\\u0645\\u0643\\u0627\\u0646\", \"\\u0634\\u064a\\u0621\", \"\\u0627\\u0644\\u0630\\u0647\\u0628\", \"\\u0633\\u064a\\u062a\\u064a\", \"\\u0644\\u0635\\u0642\\u0648\\u0631\", \"\\u0648\\u0639\\u0646\\u0627\\u0621\", \"\\u0631\\u0634\\u0627\", \"\\u0641\\u0646\", \"\\u062a\\u0631\", \"\\u0627\\u0644\\u0634\\u0627\\u0628\", \"\\u0648\\u0633\\u0643\\u062a\\u0646\\u0627\", \"\\u0628\\u0643\\u0631\\u0647\", \"\\u0627\\u0644\\u0641\\u0626\\u0647\", \"\\u0627\\u0644\\u0627\\u0639\\u0645\\u0627\\u0644\", \"\\u0633\\u0644\\u0627\\u0645\", \"\\u0648\\u0646\\u0627\\u0633\\u0647\", \"\\u0627\\u0643\\u0628\\u0631\", \"\\u0627\\u0644\\u0639\\u0631\\u0636\", \"\\u0627\\u0644\\u062e\\u0637\\u0648\\u0637\", \"\\u0628\\u0646\\u0639\\u064a\\u0634\\u0647\\u0627\", \"\\u062e\\u062f\\u0645\\u0627\\u062a\", \"\\u0644\\u064a\\u0644\", \"\\u0637\\u0631\\u0628\", \"\\u0627\\u0644\\u0645\\u0637\\u0644\\u0648\\u0628\\u0647\", \"\\u0627\\u0644\\u0635\\u0648\\u0631\\u0647\", \"\\u0641\\u0627\\u0626\\u0632\", \"\\u0646\\u0641\\u0631\\u062c\", \"\\u062a\\u0631\\u0641\\u064a\\u0647\\u064a\", \"\\u062d\\u0641\\u0644\\u0627\\u062a\", \"\\u0648\\u0641\\u0639\\u0627\\u0644\\u064a\\u0627\\u062a\\u0647\\u0627\", \"\\u062a\\u0644\\u063a\\u0631\\u0627\\u0645\", \"\\u0627\\u0644\\u0639\\u0631\\u0628\\u064a\", \"\\u0627\\u0644\\u0628\\u0646\\u0627\\u0646\\u064a\\u0647\", \"\\u0627\\u0644\\u064a\\u0644\\u0647\", \"\\u0628\\u0627\\u0644\\u062d\\u0633\\u0627\\u0628\", \"\\u062a\\u0631\\u0642\\u0628\\u0648\\u0646\\u0627\", \"\\u062e\\u0627\\u0644\\u062f\", \"\\u0647\\u062f\\u0627\\u064a\\u0627\", \"\\u0643\\u0627\\u0634\", \"\\u062a\\u062d\\u062a\\u0627\\u062c\", \"\\u0627\\u0644\\u0633\\u062d\\u0628\", \"\\u0628\\u0631\\u062c\\u0648\\u0644\\u0627\\u062a\", \"\\u062a\\u0630\\u0627\\u0643\\u0631\", \"\\u0646\\u0635\\u064a\\u0628\\u0643\", \"\\u062a\\u0627\", \"\\u0633\\u064a\\u062a\\u064a\", \"\\u0645\\u0643\\u0646\", \"\\u0627\\u0644\\u0631\\u064a\\u0627\\u0636\", \"\\u0627\\u0644\\u062a\\u0648\\u0627\\u0635\\u0644\", \"\\u0634\\u0627\\u0631\\u0643\", \"\\u0627\\u062f\\u064a\\u0644\", \"\\u0627\\u0644\\u062b\\u0627\\u0646\\u064a\\u0647\", \"\\u0628\\u0648\\u0644\\u064a\\u0641\\u0627\\u0631\\u062f\", \"\\u0631\\u062a\\u0648\\u064a\\u062a\", \"\\u062c\\u0648\\u0627\\u0644\\u064a\\u0646\", \"\\u0645\\u0627\\u0647\\u0648\", \"\\u0627\\u0644\\u064a\\u0633\\u0627\", \"\\u0645\\u0648\\u0633\\u0645\", \"\\u0639\\u0644\\u0645\\u0627\", \"\\u0631\\u064a\\u0627\\u0636\", \"\\u0627\\u0644\\u0641\\u0646\\u0627\\u0646\", \"\\u0627\\u0644\\u0630\\u0647\\u0628\", \"\\u0641\\u0648\\u0627\\u0632\\u064a\\u0631\", \"\\u0645\\u0643\\u0627\\u0646\", \"\\u0627\\u0644\\u0633\\u0639\\u0648\\u062f\\u064a\\u0647\", \"\\u0637\\u064a\\u0631\\u0627\\u0646\", \"\\u0628\\u0645\\u0637\\u0639\\u0645\", \"\\u062a\\u0627\\u0628\\u0639\\u0648\\u0627\", \"\\u0627\\u0644\\u0633\\u0639\\u0648\\u062f\\u064a\\u0647\", \"\\u062a\\u0633\\u0648\\u0642\", \"\\u062e\\u0644\\u0635\", \"\\u0627\\u0644\\u0645\\u0644\", \"\\u0627\\u0644\\u0628\\u0648\\u0644\\u064a\\u0641\\u0627\\u0631\\u062f\", \"\\u0645\\u0627\\u0647\\u0648\", \"\\u062d\\u062c\\u0647\", \"\\u0641\\u062e\\u0631\", \"\\u0627\\u0644\\u0635\\u062d\\u0648\\u064a\", \"\\u0627\\u0644\\u0627\\u0646\\u0627\\u0642\\u0647\", \"\\u062e\\u0627\\u0635\", \"\\u0627\\u062e\\u0648\\u0627\\u0646\\u064a\", \"\\u064a\\u0627\\u0631\\u0628\", \"\\u0627\\u0637\\u0644\\u0628\\u0648\\u0647\", \"\\u062d\\u0641\\u0644\\u0647\", \"\\u0648\\u0627\\u0634\\u0643\\u0627\\u0644\\u0647\", \"\\u0645\\u062a\\u0627\\u0628\\u0639\\u064a\\u0646\", \"\\u0642\\u0637\\u0631\", \"\\u0639\\u062f\\u0646\", \"\\u0628\\u0643\\u0627\\u0641\\u0647\", \"\\u0645\\u0642\\u0627\\u0628\\u0644\\u0627\\u062a\\u0647\\u0627\", \"\\u0627\\u0646\\u063a\\u0627\\u0645\\u0647\", \"\\u0627\\u0644\\u0631\", \"\\u0634\\u0628\\u0627\\u0646\\u0647\", \"\\u0648\\u0627\\u062a\\u0633\\u0627\\u0628\", \"\\u0646\\u0643\\u0628\\u0647\", \"\\u0627\\u0648\\u0641\\u0631\", \"\\u0648\\u0645\\u0627\\u0632\\u0627\\u0644\\u062a\", \"\\u0627\\u0644\\u0634\\u062e\\u0635\\u064a\\u0647\", \"\\u0637\\u0627\\u0648\\u0644\\u062a\\u0643\", \"\\u062e\\u0627\\u0644\\u062f\", \"\\u0645\\u0648\\u0633\\u0645\", \"\\u062d\\u062f\\u064a\\u062f\", \"\\u0631\\u062a\\u0648\\u064a\\u062a\", \"\\u0646\\u0635\\u064a\\u0628\\u0643\", \"\\u062a\\u0631\\u0642\\u0628\\u0648\\u0646\\u0627\", \"\\u0639\\u0644\\u0645\\u0627\", \"\\u0637\\u0642\\u0645\", \"\\u0627\\u0644\\u0634\\u0627\\u0628\", \"\\u0634\\u0627\\u0631\\u0643\", \"\\u0628\\u0627\\u0644\", \"\\u062c\\u062f\\u0647\", \"\\u0645\\u0643\\u0646\", \"\\u0627\\u0644\\u0633\\u062d\\u0628\", \"\\u0627\\u0644\\u0631\\u064a\\u0627\\u0636\", \"\\u0643\\u0627\\u0634\", \"\\u0627\\u0644\\u064a\\u0644\\u0647\", \"\\u0628\\u0627\\u0644\\u062d\\u0633\\u0627\\u0628\", \"\\u0627\\u0644\\u062b\\u0627\\u0646\\u064a\\u0647\", \"\\u0647\\u062f\\u0627\\u064a\\u0627\", \"\\u062a\\u0627\", \"\\u062c\\u0648\\u0627\\u0644\\u064a\\u0646\", \"\\u0627\\u0644\\u064a\\u0633\\u0627\", \"\\u0633\\u064a\\u062a\\u064a\", \"\\u0627\\u062f\\u064a\\u0644\", \"\\u0628\\u0648\\u0644\\u064a\\u0641\\u0627\\u0631\\u062f\", \"\\u0645\\u0643\\u0627\\u0646\", \"\\u0646\\u0627\\u062f\\u0631\", \"\\u0631\\u064a\\u0627\\u0636\", \"\\u0639\\u0646\\u062f\\u0647\\u0645\", \"\\u0637\\u064a\\u0631\\u0627\\u0646\", \"\\u0641\\u0648\\u0627\\u0632\\u064a\\u0631\", \"\\u0641\\u0648\\u0627\\u0632\\u064a\\u0631\", \"\\u0645\\u064a\\u0632\", \"\\u0627\\u062d\\u062c\\u0632\", \"\\u0627\\u0644\\u0634\\u0647\\u064a\\u0631\", \"\\u0648\\u0627\\u0644\\u0639\\u064a\\u0627\\u0630\", \"\\u062d\\u0636\\u0648\\u0631\", \"\\u0645\\u0648\\u062f\\u064a\\u0644\", \"\\u0644\\u062a\\u0631\\u0641\\u064a\\u0647\", \"\\u0642\\u062a\\u0627\\u0644\", \"\\u0627\\u0644\\u0634\\u0631\\u064a\\u0641\\u064a\\u0646\", \"\\u0645\\u0644\\u0643\", \"\\u0644\\u0637\\u0628\\u064a\\u0639\\u0647\", \"\\u0627\\u0637\\u0644\\u0628\", \"\\u0639\\u0634\\u0642\\u0646\\u0627\", \"\\u062a\\u062f\\u0634\\u064a\\u0646\", \"\\u0631\\u064a\\u0627\\u0636\\u064a\\u0647\", \"\\u0631\\u0646\\u0627\", \"\\u0644\\u0627\\u062a\\u062e\\u0644\\u0648\\u0646\", \"\\u0627\\u0647\\u0644\", \"\\u0627\\u0644\\u062e\\u064a\\u0631\", \"\\u062d\\u0645\\u0627\\u0633\\u0643\\u0645\", \"\\u0627\\u0644\\u0639\\u0627\\u0644\\u0645\\u064a\", \"\\u062a\\u062c\\u0627\\u0631\\u064a\\u0647\", \"\\u0627\\u0644\\u0643\\u0626\\u064a\\u0628\", \"\\u0645\\u0627\\u062c\\u062f\", \"\\u0634\\u0628\\u064a\\u0647\", \"\\u062a\\u062c\\u0627\\u0631\\u0628\", \"\\u0644\\u0641\\u0639\\u0627\\u0644\\u064a\\u0627\\u062a\", \"\\u062a\\u0648\\u064a\\u062a\\u0631\", \"\\u0644\\u062d\\u0641\\u0644\\u0647\", \"\\u0628\\u0643\\u0627\\u0641\\u0647\", \"\\u0633\\u064a\\u062a\\u0645\", \"\\u0641\\u0639\\u0627\\u0644\\u064a\\u0647\", \"\\u0631\\u062a\\u0648\\u064a\\u062a\", \"\\u0628\\u0648\\u0644\\u064a\\u0641\\u0627\\u0631\\u062f\", \"\\u0627\\u0644\\u0631\\u064a\\u0627\\u0636\", \"\\u0627\\u062e\\u062a\\u064a\\u0627\\u0631\", \"\\u062a\\u0627\", \"\\u0645\\u0648\\u0633\\u0645\", \"\\u0627\\u0644\\u0633\\u062d\\u0628\", \"\\u0646\\u0627\\u062f\\u0631\", \"\\u0627\\u0644\\u062b\\u0627\\u0646\\u064a\\u0647\", \"\\u0647\\u062f\\u0627\\u064a\\u0627\", \"\\u0633\\u064a\\u062a\\u064a\", \"\\u0646\\u0635\\u064a\\u0628\\u0643\", \"\\u0634\\u0627\\u0631\\u0643\", \"\\u0645\\u0643\\u0646\", \"\\u0634\\u062e\\u0635\", \"\\u0643\\u0627\\u0634\", \"\\u0628\\u0627\\u0644\\u062d\\u0633\\u0627\\u0628\", \"\\u062a\\u0631\\u0642\\u0628\\u0648\\u0646\\u0627\", \"\\u0645\\u0646\\u0635\\u0648\\u0631\", \"\\u062c\\u0648\\u0627\\u0644\\u064a\\u0646\", \"\\u0639\\u0644\\u0645\\u0627\", \"\\u0627\\u0644\\u064a\\u0644\\u0647\", \"\\u0641\\u0627\\u0626\\u0632\", \"\\u0631\\u064a\\u0627\\u0636\", \"\\u0627\\u0644\\u064a\\u0633\\u0627\", \"\\u0648\\u064a\\u062d\\u0633\\u062f\\u0648\\u0646\\u0627\", \"\\u0627\\u062f\\u064a\\u0644\", \"\\u0627\\u0644\\u0633\\u0639\\u0648\\u062f\\u064a\\u0647\", \"\\u0637\\u064a\\u0631\\u0627\\u0646\", \"\\u062e\\u0627\\u0644\\u062f\", \"\\u0645\\u0643\\u0627\\u0646\", \"\\u0635\\u0627\\u062d\\u0628\\u0647\", \"\\u0648\\u0633\\u0639\", \"\\u0628\\u0647\\u062c\\u0647\", \"\\u0634\\u0631\\u0643\\u0647\", \"\\u0628\\u0627\\u0644\\u0631\\u064a\\u0627\\u0636\", \"\\u0643\\u0631\\u064a\\u0633\\u062a\\u0627\\u0644\", \"\\u0627\\u0646\\u062a\", \"\\u0627\\u062d\\u0644\\u0627\\u0645\", \"\\u0627\\u0644\\u064a\\u0644\\u0647\", \"\\u062d\\u0645\\u0627\\u0633\", \"\\u0645\\u0643\\u0627\\u0646\\u0643\", \"\\u0648\\u064a\\u0627\\u0647\\u0627\", \"\\u0643\\u0627\\u0634\", \"\\u0634\\u0627\\u0647\\u062f\", \"\\u064a\\u0627\\u0631\\u064a\\u062a\", \"\\u0631\\u064a\\u0627\\u0636\", \"\\u0645\\u0639\\u0631\\u0636\", \"\\u062a\\u062e\\u064a\\u0644\", \"\\u0627\\u0644\\u0645\\u0643\\u0627\\u0646\", \"\\u062a\\u0633\\u062f\\u064a\\u062f\", \"\\u0633\\u0639\\u0631\\u0647\\u0627\", \"\\u0639\\u0627\\u0644\\u0645\\u064a\\u0647\", \"\\u0627\\u0644\\u0639\\u0646\\u062f\\u0644\\u064a\\u0628\", \"\\u0644\\u0627\\u0648\\u0646\\u062c\", \"\\u0635\\u0631\\u0627\\u062d\\u0647\", \"\\u0643\\u0627\\u0633\", \"\\u0627\\u0634\\u062f\\u0639\\u0648\\u0647\", \"\\u0627\\u0644\\u0628\\u0646\\u0648\\u0643\", \"\\u0633\\u0639\\u064a\\u062f\", \"\\u0648\\u062a\\u062d\\u0642\", \"\\u064a\\u0646\\u0627\\u0628\\u064a\\u0639\", \"\\u0627\\u062d\\u062c\\u0632\", \"\\u0631\\u062a\\u0648\\u064a\\u062a\", \"\\u0627\\u0644\\u062a\\u0631\\u0646\\u062f\", \"\\u0634\\u0627\\u0631\\u0643\", \"\\u0627\\u0646\\u0648\\u0627\\u0639\\u0647\\u0627\", \"\\u0637\\u0642\\u0645\", \"\\u0627\\u0644\\u062b\\u0627\\u0646\\u064a\\u0647\", \"\\u0645\\u0648\\u0633\\u0645\", \"\\u0627\\u0644\\u0631\\u064a\\u0627\\u0636\", \"\\u0646\\u0635\\u064a\\u0628\\u0643\", \"\\u062a\\u0627\", \"\\u0627\\u0644\\u0633\\u0639\\u0648\\u062f\\u064a\\u0647\", \"\\u0639\\u0644\\u0645\\u0627\", \"\\u0627\\u0644\\u0633\\u062d\\u0628\", \"\\u062a\\u0631\\u0642\\u0628\\u0648\\u0646\\u0627\", \"\\u0639\\u0627\\u0644\\u0645\\u0637\\u0631\", \"\\u0637\\u064a\\u0631\\u0627\\u0646\", \"\\u062c\\u0648\\u0627\\u0644\\u064a\\u0646\", \"\\u0645\\u0643\\u0646\", \"\\u0633\\u064a\\u062a\\u064a\", \"\\u0628\\u0627\\u0644\\u062d\\u0633\\u0627\\u0628\", \"\\u0647\\u062f\\u0627\\u064a\\u0627\", \"\\u0627\\u0644\\u064a\\u0633\\u0627\", \"\\u0627\\u0644\\u0630\\u0647\\u0628\", \"\\u0645\\u0643\\u0627\\u0646\", \"\\u0628\\u0648\\u0644\\u064a\\u0641\\u0627\\u0631\\u062f\", \"\\u0627\\u062f\\u064a\\u0644\", \"\\u0627\\u0644\\u0641\\u0646\\u0627\\u0646\", \"\\u0627\\u0644\\u0647\", \"\\u0627\\u0644\\u0633\\u0627\\u062f\\u0633\", \"\\u0644\\u062d\\u0641\\u0644\", \"\\u0633\\u0627\\u0631\\u0627\", \"\\u0645\\u0646\\u0637\\u0642\\u0647\", \"\\u0633\\u064a\\u062f\\u062a\\u064a\", \"\\u0627\\u0644\\u0634\\u062a\\u0627\\u0621\", \"\\u0648\\u0647\\u0627\\u0646\\u064a\", \"\\u0627\\u062f\\u064a\\u0644\", \"\\u064a\\u0641\\u064a\\u062f\", \"\\u0639\\u062f\\u0647\", \"\\u0648\\u0627\\u0632\\u0646\", \"\\u0647\\u062f\\u064a\\u062a\\u0643\", \"\\u0627\\u0644\\u062c\\u0648\\u0644\\u0647\", \"\\u0627\\u062e\\u062a\\u064a\\u0627\\u0631\", \"\\u0628\\u0631\\u0627\\u0639\\u0645\", \"\\u0641\\u0639\\u0627\\u0644\\u064a\\u0627\\u062a\", \"\\u0645\\u0643\\u0627\\u0646\", \"\\u064a\\u062f\\u0639\\u0645\\u0648\\u0646\\u0627\", \"\\u0634\\u0641\\u0627\\u0641\", \"\\u0627\\u0644\\u062d\", \"\\u0645\\u0648\\u0642\\u0639\\u0646\\u0627\", \"\\u0644\\u0641\\u0646\\u0627\\u0646\\u0647\", \"\\u0645\\u0646\\u0635\\u0648\\u0631\", \"\\u0627\\u0644\\u0632\\u0645\\u0646\", \"\\u0639\\u0627\\u0644\\u0645\\u0637\\u0631\", \"\\u0648\\u0627\\u0644\\u0627\\u0628\\u062f\\u0627\\u0639\", \"\\u0627\\u0644\\u0634\\u0631\\u0627\\u0639\", \"\\u0627\\u062a\\u0630\\u0643\\u0631\", \"\\u0635\\u0627\\u0631\\u062a\", \"\\u0641\\u062e\\u0631\", \"\\u062a\\u0631\\u0642\\u0628\\u0648\\u0646\\u0627\", \"\\u0631\\u064a\\u0627\\u0636\", \"\\u0627\\u0644\\u064a\\u0633\\u0627\", \"\\u0645\\u0648\\u0633\\u0645\", \"\\u0627\\u0644\\u0633\\u0639\\u0648\\u062f\\u064a\", \"\\u0627\\u0644\\u064a\\u0644\", \"\\u0646\\u0627\\u062f\\u0631\", \"\\u0628\\u0627\\u0644\", \"\\u062a\\u0627\", \"\\u0634\\u0627\\u0631\\u0643\", \"\\u0627\\u0644\\u0630\\u0647\\u0628\", \"\\u0628\\u0627\\u0644\\u062d\\u0633\\u0627\\u0628\", \"\\u0627\\u0644\\u064a\\u0644\\u0647\", \"\\u0646\\u0635\\u064a\\u0628\\u0643\", \"\\u0632\\u0645\\u0627\\u0646\", \"\\u0628\\u0648\\u0644\\u064a\\u0641\\u0627\\u0631\\u062f\", \"\\u0627\\u0644\\u062b\\u0627\\u0646\\u064a\\u0647\", \"\\u0647\\u062f\\u0627\\u064a\\u0627\", \"\\u0645\\u0643\\u0646\", \"\\u062c\\u0648\\u0627\\u0644\\u064a\\u0646\", \"\\u0631\\u062a\\u0648\\u064a\\u062a\", \"\\u0633\\u064a\\u062a\\u064a\", \"\\u0627\\u0644\\u0631\\u064a\\u0627\\u0636\", \"\\u0627\\u0644\\u0633\\u062d\\u0628\", \"\\u0639\\u0644\\u0645\\u0627\", \"\\u0643\\u0627\\u0634\", \"\\u0637\\u0642\\u0645\", \"\\u0637\\u064a\\u0631\\u0627\\u0646\", \"\\u0627\\u0644\\u0633\\u0639\\u0648\\u062f\\u064a\\u0647\", \"\\u0627\\u0644\\u0634\\u0627\\u0628\", \"\\u0645\\u0648\\u062b\\u0642\\u0645\\u0646\", \"\\u0627\\u0644\\u0635\\u0642\\u0648\\u0631\", \"\\u0645\\u0628\", \"\\u062a\\u0639\\u064a\\u062f\", \"\\u0628\\u062a\\u0642\\u0648\\u0644\", \"\\u0627\\u0639\\u0644\\u0627\\u0646\\u0643\", \"\\u062a\\u0642\\u064a\\u0645\", \"\\u062a\\u0631\\u0646\\u062f\", \"\\u0627\\u0644\\u0641\\u0627\\u0646\\u0632\", \"\\u0637\\u064a\\u0631\\u0627\\u0646\", \"\\u064a\\u0648\\u0645\\u0646\\u0627\", \"\\u062e\\u0644\\u0648\", \"\\u0645\\u0643\\u0648\\u0646\", \"\\u064a\\u0633\\u0645\\u0639\\u0646\\u0627\", \"\\u0627\\u0644\\u0632\\u062c\\u0627\\u062c\\u064a\", \"\\u0628\\u0627\\u0644\\u062d\\u0641\\u0644\", \"\\u0627\\u0633\\u062a\\u0636\\u0627\\u0641\\u062a\", \"\\u0627\\u0646\\u064a\", \"\\u062f\\u062e\\u0646\\u0647\", \"\\u0644\\u0648\\u0642\\u0648\", \"\\u0632\\u0648\\u0627\\u0631\", \"\\u0639\\u0637\\u0648\", \"\\u0627\\u0644\\u0639\\u0627\\u0628\", \"\\u0633\\u0647\\u064a\", \"\\u062d\\u0644\\u0645\", \"\\u0627\\u0646\\u0648\\u0627\\u0639\", \"\\u0634\\u0628\\u064a\\u0647\", \"\\u0627\\u0644\\u0635\\u064a\\u0646\\u064a\", \"\\u0633\\u0641\\u0627\\u0631\\u064a\", \"\\u0627\\u0644\\u0635\\u062f\\u0641\\u0647\", \"\\u064a\\u0634\\u0639\\u0644\\u0627\\u0646\", \"\\u0627\\u0644\\u0630\\u0647\\u0628\", \"\\u0645\\u062a\\u062c\\u0631\", \"\\u0648\\u0627\\u0644\\u0641\\u0646\", \"\\u0633\\u064a\\u062a\\u064a\", \"\\u0635\\u062f\\u0642\", \"\\u0637\\u0644\\u0627\\u0644\", \"\\u0633\\u062f\\u0627\\u062f\", \"\\u0648\\u062a\\u0627\\u0628\\u0639\", \"\\u0628\\u0627\\u0644\\u062d\\u0633\\u0627\\u0628\", \"\\u0627\\u0644\\u064a\\u0633\\u0627\", \"\\u062c\\u0648\\u0627\\u0644\\u064a\\u0646\", \"\\u0627\\u0644\\u062b\\u0627\\u0646\\u064a\\u0647\", \"\\u0639\\u0644\\u0645\\u0627\", \"\\u0634\\u0627\\u0631\\u0643\", \"\\u062a\\u0631\\u0642\\u0628\\u0648\\u0646\\u0627\", \"\\u0643\\u0627\\u0634\", \"\\u0634\\u064a\\u0621\", \"\\u0627\\u0644\\u064a\\u0644\\u0647\", \"\\u0627\\u0644\\u0631\\u064a\\u0627\\u0636\", \"\\u062e\\u0627\\u0635\\u0647\", \"\\u0627\\u0644\\u0633\\u062d\\u0628\", \"\\u062a\\u0627\", \"\\u0631\\u062a\\u0648\\u064a\\u062a\", \"\\u0634\\u062e\\u0635\", \"\\u0641\\u0648\\u0627\\u0632\\u064a\\u0631\", \"\\u0648\\u064a\\u062d\\u0633\\u062f\\u0648\\u0646\\u0627\", \"\\u0645\\u0648\\u0633\\u0645\", \"\\u0647\\u062f\\u0627\\u064a\\u0627\", \"\\u0646\\u0635\\u064a\\u0628\\u0643\", \"\\u0645\\u0643\\u0646\", \"\\u0627\\u0644\\u0633\\u0639\\u0648\\u062f\\u064a\\u0647\", \"\\u0631\\u064a\\u0627\\u0636\", \"\\u0627\\u062f\\u064a\\u0644\", \"\\u0628\\u0648\\u0644\\u064a\\u0641\\u0627\\u0631\\u062f\", \"\\u062e\\u0627\\u0644\\u062f\", \"\\u0637\\u0642\\u0645\"], \"Freq\": [279.0, 278.0, 439.0, 278.0, 292.0, 487.0, 290.0, 278.0, 279.0, 279.0, 151.0, 278.0, 279.0, 299.0, 278.0, 288.0, 38.0, 36.0, 278.0, 49.0, 43.0, 61.0, 43.0, 25.0, 49.0, 24.0, 62.0, 27.0, 24.0, 20.0, 60.83800996237984, 1.5772225994645435, 0.6283117876297143, 4.438966673161437, 4.58761904043542, 0.44346951448581684, 0.9961167023480584, 25.003763740836902, 0.9848946035359343, 0.6957158353787077, 0.9476283809682131, 0.4049570304785295, 1.0773756296072545, 0.26816127395127837, 2.809396820675502, 0.9325030779571971, 5.5701229995394925, 0.2643481618283167, 0.26221364997863766, 0.39050513442754387, 1.0377141217239563, 0.6329979015448677, 0.2529759156950438, 0.3789477870156169, 0.2528242398288618, 2.7787693454298723, 0.5051844281186205, 0.5036690690883973, 0.6306659679752432, 0.3776723543069841, 3.7270574685338436, 1.003520827159043, 1.4995993257748206, 37.12471951864272, 5.787397683370103, 2.501957574730812, 2.369810399892478, 4.982996108288774, 2.5474031706844076, 33.39384267647614, 52.199603968977556, 1.7465429582018328, 30.065628352947474, 28.39633636643066, 5.209250239124786, 40.74746111831308, 26.117931780884007, 23.649028789917022, 5.491555048186866, 23.13929651675203, 3.5453537587481536, 23.286206563682676, 22.249672994378063, 22.150952705308256, 21.264975886226896, 20.585024838169222, 4.289814858401919, 17.99290004939078, 5.7660519755547455, 4.564277310633629, 5.09154505241903, 4.924104914569758, 51.309938357374016, 1.3837325469846333, 3.1648909918813457, 1.1973447287079286, 2.930996675253794, 0.4166449166690826, 44.6845746472812, 0.3886557296016087, 0.38644998426133403, 3.1867243118497197, 65.01243163052104, 0.25258088046472066, 0.503467400494029, 0.6281621045226291, 0.2512860222345823, 0.6272267798754775, 1.1237709598867158, 0.49907144089875155, 0.24804352174713432, 2.4743810016933825, 0.37056554839782163, 0.36997827463554106, 0.7381409580421026, 3.0756995759102117, 2.328850463488167, 1.3386932829808293, 0.9680482021771489, 0.48149235017167, 0.2394031226467785, 0.5952304992008352, 2.4664466045095415, 5.265664450264247, 34.18622994430402, 2.3749480495016306, 2.6910238893288643, 34.15981385007486, 3.53128033449943, 1.699577407922848, 30.306001307911554, 3.737394176819168, 28.412884789818243, 28.750487891544843, 45.92594970830658, 7.325800640015838, 27.967422054837858, 26.53902151775516, 24.718861941494538, 24.57256883436318, 23.891909821445825, 14.085982414256424, 19.37554559800908, 17.935763646096667, 3.0860793461504525, 4.018208564516237, 2.869057235048997, 4.349121080807449, 4.276715602912465, 3.446147610669946, 3.551410387580648, 0.5289252523324119, 0.6246762237972262, 3.654003741785905, 1.2017717427728993, 2.9998490593001854, 46.623227014852304, 2.8560192073181088, 1.6286226624780724, 0.6754211824215602, 0.2652873069186815, 74.24483549154401, 0.3896330560249731, 0.2597160249001857, 1.5457464007690984, 1.2820882371858993, 1.022113750559287, 1.016966866298094, 0.38009985827769255, 2.9089390528123484, 0.6297759813434031, 0.2511116682384527, 1.120973908885311, 0.8710922589368739, 1.1064974054632335, 2.1907879087881734, 0.4816515328440106, 1.8068144330418123, 2.9945714553833, 0.5960328490284076, 0.47553513221632954, 3.563596910395683, 37.35829305663928, 38.43343031676172, 1.5457168454813661, 4.0014198263081475, 4.755868392657382, 31.474874556534882, 3.2318613029072267, 29.18742350599608, 42.54813806064939, 27.779660156681164, 28.2291969653395, 5.5797854129713205, 24.697233623456444, 2.535960732267398, 25.387492222005253, 5.480933709516165, 22.38130127434735, 22.162082794297657, 22.467759166397556, 4.778770946866632, 19.33398112946444, 12.050666574148797, 18.934419518578302, 6.126464129633303, 6.0299050930752855, 6.136246488749054, 3.7191709456175244, 3.223102644852139, 0.8372615801565138, 0.949904825007907, 0.6182951020733597, 3.191806354323229, 47.19562149352005, 1.1244149807475872, 0.5623791422059402, 1.1210442297214405, 1.7537097227456178, 0.5401928589518434, 0.2684612854808576, 0.2675097444493353, 43.081743558015354, 3.0492698971052397, 0.527930726213488, 4.5998640251909615, 0.2623773546681488, 0.7832976148806161, 0.5200672770098617, 0.2583923025867861, 1.156866446588636, 2.946929499319656, 1.0256970411571675, 0.6408155293422224, 0.38298678335226977, 0.25560894156554365, 0.38258679977669974, 0.2547643119633072, 1.5144344697299306, 0.7573465691162946, 7.058729000430748, 2.0899412582773853, 37.685622552683384, 1.602808527024657, 1.1210462082057384, 19.722818815804697, 2.3486222180593836, 5.473302996784752, 31.03966927452128, 30.29912875708098, 1.2128596772594702, 2.808354407329351, 7.585742699172134, 28.047401415247244, 27.804463474855666, 3.196767806724932, 27.073142987352625, 5.813355498436246, 24.60871949711633, 39.27526639174384, 25.365866385872923, 23.007398204066163, 32.600241411861965, 6.527741919001498, 20.58083029961499, 21.20805730569007, 21.060372685774407, 4.210659525184983, 3.351566763067258, 3.585629955670168, 4.255898814370074, 1.094476189563567, 0.7748443692056919, 0.9093629574109073, 1.8918408173055408, 0.28698248237381385, 4.205653541260289, 0.2791965467696249, 1.6734127073429739, 0.556959409144723, 0.8356789884512247, 0.5544424631894743, 0.4144078908642961, 0.41132107311580846, 0.8219975995631078, 0.4102741606487843, 0.8147435943265608, 1.9009262604634218, 1.3544044221936054, 0.6763320291679181, 0.6700167310399155, 1.574352239078584, 3.2793594468844303, 0.26164359504672446, 0.26111755813737586, 1.545591869764204, 0.25843499136195053, 1.0310532805726376, 1.7953333512474494, 2.68716045162504, 43.338209873973724, 40.4897880042533, 38.19971632662418, 5.037337497095217, 35.62380445427823, 32.47304714915775, 2.5281682712099296, 33.054752128121805, 2.3884845243771973, 2.275630435279799, 29.509357727655456, 29.404894898218576, 7.472279604119224, 27.36748785738622, 43.09054464686564, 2.620530256741253, 23.54401242100759, 5.375067652002783, 21.673748250015432, 6.5740697053832395, 20.897609809147703, 20.008858142260653, 3.2999328142853575, 11.744456745539386, 25.448246339181512, 18.116520663823906, 5.92260667921084, 3.1254662426583613, 3.5655563239466694, 3.1481539339787052, 3.1496453815855734, 3.2133811197353555, 3.2848739667911526, 1.7639937195036277, 0.3059685291535026, 7.609454263020023, 0.7605376020675745, 0.5998360015473254, 0.29695427504032035, 3.7924088285385276, 4.515769555122541, 1.1273600811015334, 2.7809362270887306, 0.828927821937754, 0.41396289443998696, 2.4511916789945025, 1.078792580928728, 0.5331061399154154, 0.3963509851897702, 0.9221505608750378, 0.6534311579454037, 1.830665509763105, 0.26164960669906134, 1.3028628193521217, 2.602019902076011, 0.259544656668065, 1.6700267009725942, 0.642742439409911, 0.38272232566704817, 1.143540807290258, 0.2534953724134064, 0.6322518295135808, 1.2602215265208199, 1.759253309827565, 2.351369514624968, 4.99216148021846, 54.714454548005115, 2.4056268383548307, 36.00643003012213, 34.226568738056294, 33.4922198978711, 32.87189966794912, 5.656066488962163, 3.5049032085552048, 32.126928047863046, 2.82359771865827, 2.6973517991147573, 27.64451070786527, 27.993493383189332, 41.81370661541263, 25.704574708002884, 25.62044959786189, 24.043751313283153, 23.436280993704244, 20.750677834595606, 20.018689612166167, 18.95766101649511, 11.732923631359249, 5.713260533590551, 4.8911841822100115, 5.60340398734705, 4.108928911426285, 3.2228849124597256, 4.610872240392593, 3.2674421580702186, 3.5988630550704874, 3.3475746509529434, 8.118681759522138, 2.8023455940790307, 4.465612408636087, 0.599103169062271, 0.2957310938855683, 0.29387877079770824, 0.706874763983984, 0.6913596497793209, 0.6768815776090215, 0.39916797377496377, 2.6480574348254526, 0.9132795511220586, 0.7807000896984042, 1.5499438634166245, 0.5105418270833906, 0.2548665000586542, 0.5088443838099364, 0.37851657613480016, 0.49773377288591875, 0.9815327870904865, 0.6143914577472177, 0.7351052714370683, 0.49124300870306753, 0.6121856591013471, 0.24494841434001993, 3.7949899428372897, 1.2184431383533652, 0.3653389751531506, 1.0959104787259528, 0.3640816531041534, 2.3959949340699382, 2.983461694344577, 1.6805625986808086, 38.07391619900196, 8.534131037267139, 59.664732334613745, 2.9024834845560425, 33.63613688692934, 49.30590111854603, 33.122798447090446, 3.470139524072394, 29.883531978302173, 29.410959090387863, 7.33913799363229, 28.48954855927014, 29.103812105415237, 27.268032982771103, 3.2585861669641383, 25.799635288835457, 23.92637638468422, 23.368698766547883, 2.504784738986251, 23.090681400084083, 22.728851144758977, 23.550942010102116, 2.677135274366699, 5.658254628635352, 8.728420935539315, 2.9226573894287617, 4.150979998677479, 3.757420645148942, 3.7014151096355814, 3.342922403695539, 3.2699231280359946, 0.6913580281217621, 0.7384402325859193, 0.8487609874722511, 2.919346341893831, 0.5534005003358834, 1.3711931408917886, 0.6825166360496101, 1.7553530158928703, 45.78402484070761, 1.0733797342113007, 0.797331728674389, 0.3962884513051877, 42.68023726079632, 0.5232017348047424, 0.9130958997632901, 9.260369627026318, 1.1703845043313634, 0.6463691640055398, 2.9765253576005506, 0.5132544739905304, 0.38463799759303996, 0.5120174103983672, 0.8941658869854829, 2.5247950157109087, 1.255395622616908, 1.3775365654668306, 0.25017256372138297, 0.9969533955514136, 1.3681885301831331, 0.3734718825053245, 2.413570595962413, 3.467934755537144, 38.02272589096898, 3.7643959192002114, 36.99997822767317, 2.383978624895447, 5.575132906880834, 31.62560298588647, 46.19607437143525, 49.51199217693633, 26.27872922688076, 26.01484884895785, 5.045126188807391, 24.078697190077413, 24.772370141822368, 23.430816360103936, 3.0321777157316023, 5.180859766433582, 20.293576287310223, 19.947161039050116, 6.020868945831104, 19.056820425319472, 18.599094610413758, 10.464483859288457, 3.714880905885233, 3.688597472950014, 4.658424322173324, 3.443261055623366, 3.005718186252879, 2.7766013390814, 0.44433609228670856, 2.9829796007874174, 0.4231232903028903, 0.8404553501489966, 1.6818904109524528, 0.41638527880151105, 0.408499659444157, 7.904782199855511, 0.27138437819401556, 0.397897748853593, 0.9292067089501678, 0.528099016774022, 0.2634926073518919, 3.2923844627221457, 0.3932899034342331, 3.015382628952671, 5.984199430882818, 0.2611105589602719, 0.2603144984193633, 0.5174056918341225, 0.5154296961982868, 1.0333110055017156, 2.952434941647154, 0.2572652968620359, 3.7151328957810357, 0.2555695497296642, 0.504590816541614, 0.2495627982619769, 0.37244261281844476, 2.4521522453619427, 37.8503607604235, 8.462388118463801, 20.222933530413215, 51.80534004667856, 1.3315741229866052, 1.4386270434068147, 3.515572158536802, 2.728709857964199, 30.332932993092474, 32.09921710214559, 4.717910340370202, 29.52868999174254, 30.36972537031895, 28.336261359024004, 2.2731565240733285, 7.335668587341415, 26.848309118714404, 26.729263687072425, 26.601185466305054, 25.73972934873332, 25.276972972996884, 6.7262479641187225, 37.9687987101274, 23.200125405447338, 21.79998000634865, 18.471235997280907, 4.72025732347327, 4.6163525029619645, 3.7751047977658527, 3.166010111967628, 1.4037196701349715, 0.7450177860553865, 0.2911790496472597, 0.2896447294890723, 0.4239610110776631, 1.2631483742558838, 0.5540754704404683, 0.5498406595129292, 0.4104754334796517, 7.7489746088355025, 0.6746010562182463, 0.40439631043687324, 0.26757179637823564, 1.8713935479917754, 0.7947586379339039, 0.5274420584467433, 0.26364186725053074, 0.6493402942842579, 1.039313449665783, 0.6490664916968255, 0.3889228998668202, 0.5164075741231283, 0.25738185191649365, 0.38599301577667466, 0.3849502163632483, 0.25491170011980524, 3.947347016745946, 0.2543468004270972, 2.7876792897756593, 0.2533500833566938, 1.5135894324203987, 5.400148783118683, 3.2940968156937576, 0.7527724223547069, 8.262304122494788, 1.1126921793854043, 2.3921150040872194, 2.71748864347777, 1.4526571543791627, 32.07914643440787, 17.874769830361306, 31.32355138670775, 29.949813099896623, 29.746276228972075, 31.213352974026463, 28.90821335498031, 28.549191530770884, 3.6993217353956265, 28.988355750582517, 43.64702118495585, 1.8685126559427125, 27.148479179065674, 26.315991286556596, 27.063038805236086, 3.232659996008943, 4.516364368663384, 3.071323930895504, 31.00397342939772, 21.477635947982147, 19.17610901004711, 18.920590965222857, 4.534459198958012, 5.488817175975878, 4.765215713292896, 5.555960204525875, 3.667858879304605, 3.3636147398002088], \"Total\": [279.0, 278.0, 439.0, 278.0, 292.0, 487.0, 290.0, 278.0, 279.0, 279.0, 151.0, 278.0, 279.0, 299.0, 278.0, 288.0, 38.0, 36.0, 278.0, 49.0, 43.0, 61.0, 43.0, 25.0, 49.0, 24.0, 62.0, 27.0, 24.0, 20.0, 279.4837169230583, 8.611256110212986, 3.440715453309596, 24.943894962590893, 26.6527395707719, 2.58259929242192, 6.024101719003462, 151.63122007754774, 6.020277451862633, 4.299074372651725, 6.026453371629159, 2.58161640947873, 6.891831478906027, 1.7235822648474146, 18.085165204725932, 6.027113254336333, 36.130176365835794, 1.7201212611404644, 1.7228642248739412, 2.582441455372157, 6.888378312462925, 4.299458871258483, 1.7208880348864073, 2.578477819100332, 1.7228991066194073, 18.94463125083794, 3.445942136964221, 3.439669008918715, 4.308274618703271, 2.585824404862204, 25.796309950939502, 6.884439242328156, 10.341177260473508, 278.5303996793746, 43.05232136131251, 18.091640574915715, 17.2427192458846, 38.64741832126593, 18.93221922403582, 299.08882231246173, 487.3424512294836, 12.918059117461443, 288.26151664831025, 278.6816095122802, 43.031889472644906, 439.3822620745897, 278.26756928165776, 279.2170401538265, 49.19736949972301, 278.8034504585614, 29.242924109269282, 292.4687410045386, 278.2411603402269, 279.9177262922406, 278.16658733730367, 279.18140438786594, 37.949002059340124, 290.94250343415416, 62.03163516415225, 49.94046770782874, 64.4009927243941, 61.16177599926378, 278.6816095122802, 7.7108708559397, 17.97842596878021, 6.863980842751126, 18.000223589406833, 2.574017523436043, 278.2411603402269, 2.573545334172242, 2.5790436157564685, 21.49324749366431, 439.3822620745897, 1.7160883824483526, 3.4330593050428697, 4.288871775594251, 1.7188080531292589, 4.295738745230912, 7.7299430066924995, 3.4330821489459757, 1.7172576456395925, 17.15595323555464, 2.575384629070171, 2.57544314915602, 5.153876387608779, 21.478736657566262, 16.320283325841082, 9.442830219036132, 6.864471164051555, 3.43766326564151, 1.7181610580080977, 4.293373124285898, 18.068221485050607, 39.49211285331456, 278.16658733730367, 18.02508343777243, 20.585101890209987, 299.08882231246173, 27.484051131665638, 12.89854894222003, 278.26756928165776, 30.045311367541782, 278.5303996793746, 288.26151664831025, 487.3424512294836, 64.4009927243941, 290.94250343415416, 279.4837169230583, 279.9177262922406, 278.8034504585614, 279.18140438786594, 151.63122007754774, 279.2170401538265, 292.4687410045386, 25.796309950939502, 43.05232136131251, 24.92790899794303, 62.03163516415225, 61.16177599926378, 38.64741832126593, 49.94046770782874, 2.57401975878413, 3.434574269842998, 20.585101890209987, 6.869396733153166, 17.15318591492021, 279.9177262922406, 18.025156498403554, 10.30787321447862, 4.294137431046986, 1.7184789638037115, 487.3424512294836, 2.5760652814457483, 1.720251884314319, 10.323469988463287, 8.583266264449552, 6.875884894309581, 6.888821325566602, 2.5785802662962793, 19.788876403707548, 4.298978922067587, 1.7202588851941518, 7.713882723454513, 6.024812264285362, 7.727346047949085, 15.45108703126461, 3.4332408052461956, 12.892623985595632, 21.511130743094228, 4.300165837311443, 3.4368028453721045, 25.778476787767342, 278.8034504585614, 290.94250343415416, 11.181519621186299, 30.045311367541782, 36.130176365835794, 279.2170401538265, 24.943894962590893, 278.16658733730367, 439.3822620745897, 278.26756928165776, 292.4687410045386, 49.19736949972301, 278.2411603402269, 19.770016620679513, 299.08882231246173, 49.94046770782874, 279.18140438786594, 278.5303996793746, 288.26151664831025, 43.031889472644906, 278.6816095122802, 151.63122007754774, 279.4837169230583, 62.03163516415225, 61.16177599926378, 64.4009927243941, 37.949002059340124, 29.242924109269282, 4.308116793699437, 5.164950959300036, 3.449205650609784, 18.07364214488246, 278.2411603402269, 6.895967854018862, 3.449510065579145, 6.8794082008232085, 11.18331232809681, 3.4494938199569303, 1.7217173487050328, 1.7239302483835077, 278.5303996793746, 19.828352441198934, 3.4398134887388014, 30.045311367541782, 1.7227709970475178, 5.160536740295411, 3.444586853557242, 1.7210955418276368, 7.740061666721086, 19.798549494322053, 6.8940162613956275, 4.309557058272099, 2.5837967222526697, 1.7255241346241337, 2.5835341052192664, 1.725277166224755, 10.297719355721126, 5.156717882959603, 49.19736949972301, 14.636516357910057, 288.26151664831025, 11.19592300342961, 7.767655770756739, 151.63122007754774, 17.236659418190172, 43.05232136131251, 279.2170401538265, 278.6816095122802, 8.59379574485478, 21.461014773078983, 64.4009927243941, 278.26756928165776, 278.16658733730367, 25.004018552111543, 279.18140438786594, 49.94046770782874, 278.8034504585614, 487.3424512294836, 292.4687410045386, 279.9177262922406, 439.3822620745897, 61.16177599926378, 279.4837169230583, 290.94250343415416, 299.08882231246173, 39.49211285331456, 29.242924109269282, 37.949002059340124, 62.03163516415225, 6.035266075874008, 4.309169707932131, 5.164080281554544, 11.189972072927628, 1.7214434194399968, 25.778476787767342, 1.7234063153759371, 10.340926349841402, 3.4457709163744896, 5.17999512077177, 3.443124418667337, 2.58554346536427, 2.581105104184702, 5.169098336694485, 2.5845888874974077, 5.16561585163564, 12.052929916783924, 8.605348128439667, 4.30793080853711, 4.315074841665378, 10.321336063292696, 21.56433893829575, 1.723690659613219, 1.7244568754768372, 10.30787321447862, 1.7239362981936524, 6.883530532155448, 12.068172857021331, 18.068221485050607, 292.4687410045386, 278.8034504585614, 279.18140438786594, 36.130176365835794, 279.4837169230583, 279.2170401538265, 18.10368657588453, 288.26151664831025, 17.223041431880816, 16.358070307328962, 278.26756928165776, 278.16658733730367, 62.03163516415225, 278.5303996793746, 487.3424512294836, 20.585101890209987, 299.08882231246173, 49.94046770782874, 279.9177262922406, 64.4009927243941, 290.94250343415416, 278.2411603402269, 27.484051131665638, 151.63122007754774, 439.3822620745897, 278.6816095122802, 61.16177599926378, 26.6527395707719, 37.949002059340124, 38.64741832126593, 39.49211285331456, 43.031889472644906, 49.19736949972301, 8.614699692942043, 1.7222692107282915, 43.031889472644906, 4.3012500727720715, 3.44002637147857, 1.7231594051389596, 22.38947698162425, 27.484051131665638, 6.897323689140912, 17.21165129498813, 5.170437415500468, 2.5831970516429332, 15.466596549817194, 6.88751555447764, 3.439027814324737, 2.5846045044186328, 6.029008866292068, 4.290074015755719, 12.037976686867784, 1.7213222117844282, 8.581340743602425, 17.156537294560927, 1.7214616498696136, 11.169890693012878, 4.3028597908712065, 2.582195944024861, 7.739221483410054, 1.7209713053874478, 4.29883022412478, 8.593514818438608, 12.058894160831295, 16.345978490514415, 36.130176365835794, 439.3822620745897, 17.15595323555464, 290.94250343415416, 278.26756928165776, 279.18140438786594, 278.6816095122802, 43.05232136131251, 25.778476787767342, 299.08882231246173, 20.684242422363667, 19.770773486679303, 278.5303996793746, 288.26151664831025, 487.3424512294836, 279.2170401538265, 292.4687410045386, 278.8034504585614, 279.9177262922406, 279.4837169230583, 278.16658733730367, 278.2411603402269, 151.63122007754774, 62.03163516415225, 49.94046770782874, 64.4009927243941, 39.49211285331456, 26.627195243488888, 61.16177599926378, 30.045311367541782, 49.19736949972301, 38.64741832126593, 38.64741832126593, 15.45108703126461, 24.953990497248338, 3.439795820487308, 1.720490175303558, 1.7203519519435055, 4.297017413583507, 4.301084185456828, 4.293759295585593, 2.581154980091323, 17.177168219886955, 6.022541264535917, 5.165169182322479, 10.3068089888224, 3.436807595034179, 1.7197366262099347, 3.445124878521966, 2.5810333218097465, 3.437978125877461, 6.864471164051555, 4.301275414222148, 5.154387875224789, 3.446065302171837, 4.301799685135732, 1.7213332595847493, 26.696689155728556, 8.588268187236562, 2.5804541846277895, 7.741624994323252, 2.577618314356524, 17.156537294560927, 21.461014773078983, 12.032131024356044, 290.94250343415416, 64.4009927243941, 487.3424512294836, 21.528069397319896, 278.16658733730367, 439.3822620745897, 288.26151664831025, 26.627195243488888, 279.9177262922406, 279.4837169230583, 62.03163516415225, 278.26756928165776, 299.08882231246173, 278.5303996793746, 25.796309950939502, 279.2170401538265, 278.8034504585614, 279.18140438786594, 19.75360079701544, 278.2411603402269, 278.6816095122802, 292.4687410045386, 21.56433893829575, 61.16177599926378, 151.63122007754774, 25.004018552111543, 49.94046770782874, 43.031889472644906, 49.19736949972301, 36.130176365835794, 39.49211285331456, 3.446787520635301, 4.312399170420665, 5.167407040925239, 18.090713221667325, 3.4497775662637125, 8.609984885997656, 4.315608743433118, 11.182623606169638, 292.4687410045386, 6.903836217022914, 5.161498997312768, 2.586075387136418, 279.2170401538265, 3.450109108984689, 6.025579354102746, 61.16177599926378, 7.742264614777102, 4.304565192841909, 19.828352441198934, 3.44513133437866, 2.5842032976973064, 3.4485698396988855, 6.0325343260879105, 17.236659418190172, 8.597087047462779, 9.45804120536787, 1.7220257801552026, 6.888088110688636, 9.461203274671957, 2.5836262598671795, 17.209108322403072, 24.953990497248338, 290.94250343415416, 27.545138943218646, 299.08882231246173, 17.238575244951704, 43.05232136131251, 279.9177262922406, 439.3822620745897, 487.3424512294836, 278.26756928165776, 278.16658733730367, 43.031889472644906, 278.6816095122802, 288.26151664831025, 279.18140438786594, 24.92790899794303, 49.19736949972301, 278.2411603402269, 278.5303996793746, 62.03163516415225, 278.8034504585614, 279.4837169230583, 151.63122007754774, 37.949002059340124, 39.49211285331456, 64.4009927243941, 49.94046770782874, 26.6527395707719, 14.591574456229814, 2.5818222621998617, 18.037048351832112, 2.5844225180699394, 5.161282512693456, 10.33054268928886, 2.5788222686660247, 2.5799979868716107, 49.94046770782874, 1.722317785870422, 2.581298677534292, 6.029284204701977, 3.443281222901298, 1.7209680043193072, 21.528069397319896, 2.5799106625260246, 19.798549494322053, 39.49211285331456, 1.7234834256122777, 1.7218666714896231, 3.444999363678763, 3.4368792282818266, 6.893991164091656, 19.75360079701544, 1.7228968190407907, 24.92790899794303, 1.7221984000465278, 3.439888815546969, 1.7202987999025054, 2.58259929242192, 17.21165129498813, 279.18140438786594, 61.16177599926378, 151.63122007754774, 439.3822620745897, 9.472411171722237, 10.341177260473508, 26.627195243488888, 20.684242422363667, 278.16658733730367, 299.08882231246173, 37.949002059340124, 278.8034504585614, 292.4687410045386, 278.26756928165776, 17.213507018580593, 64.4009927243941, 279.9177262922406, 279.4837169230583, 278.5303996793746, 278.2411603402269, 290.94250343415416, 62.03163516415225, 487.3424512294836, 288.26151664831025, 278.6816095122802, 279.2170401538265, 43.05232136131251, 49.19736949972301, 43.031889472644906, 25.778476787767342, 7.777994876546189, 4.313454023910631, 1.7252032365766163, 1.7257275738203717, 2.584825659134175, 7.764358581115076, 3.453861022163151, 3.448515001966753, 2.5906394390919605, 49.19736949972301, 4.315582000872527, 2.587404136106322, 1.721965602855716, 12.090173236436264, 5.167258034347555, 3.444598348216443, 1.7243081396900302, 4.306594118347795, 6.893113673949861, 4.307072242466116, 2.5856298410992875, 3.4489700295576493, 1.725008658619029, 2.5891365236649118, 2.586936306206962, 1.723898436019331, 26.696689155728556, 1.7253941880397479, 18.94463125083794, 1.7265370092520749, 10.338064270350372, 37.949002059340124, 23.250671425156277, 5.167430766419619, 62.03163516415225, 7.765210671163969, 17.259800395968725, 19.788876403707548, 10.32750760555863, 278.8034504585614, 151.63122007754774, 278.2411603402269, 279.9177262922406, 278.6816095122802, 299.08882231246173, 279.18140438786594, 279.2170401538265, 29.242924109269282, 292.4687410045386, 487.3424512294836, 13.766303878443123, 288.26151664831025, 278.16658733730367, 290.94250343415416, 25.796309950939502, 38.64741832126593, 25.004018552111543, 439.3822620745897, 279.4837169230583, 278.26756928165776, 278.5303996793746, 43.031889472644906, 61.16177599926378, 49.94046770782874, 64.4009927243941, 36.130176365835794, 43.05232136131251], \"Category\": [\"Default\", \"Default\", \"Default\", \"Default\", \"Default\", \"Default\", \"Default\", \"Default\", \"Default\", \"Default\", \"Default\", \"Default\", \"Default\", \"Default\", \"Default\", \"Default\", \"Default\", \"Default\", \"Default\", \"Default\", \"Default\", \"Default\", \"Default\", \"Default\", \"Default\", \"Default\", \"Default\", \"Default\", \"Default\", \"Default\", \"Topic1\", \"Topic1\", \"Topic1\", \"Topic1\", \"Topic1\", \"Topic1\", \"Topic1\", \"Topic1\", \"Topic1\", \"Topic1\", \"Topic1\", \"Topic1\", \"Topic1\", \"Topic1\", \"Topic1\", \"Topic1\", \"Topic1\", \"Topic1\", \"Topic1\", \"Topic1\", \"Topic1\", \"Topic1\", \"Topic1\", \"Topic1\", \"Topic1\", \"Topic1\", \"Topic1\", \"Topic1\", \"Topic1\", \"Topic1\", \"Topic1\", \"Topic1\", \"Topic1\", \"Topic1\", \"Topic1\", \"Topic1\", \"Topic1\", \"Topic1\", \"Topic1\", \"Topic1\", \"Topic1\", \"Topic1\", \"Topic1\", \"Topic1\", \"Topic1\", \"Topic1\", \"Topic1\", \"Topic1\", \"Topic1\", \"Topic1\", \"Topic1\", \"Topic1\", \"Topic1\", \"Topic1\", \"Topic1\", \"Topic1\", \"Topic1\", \"Topic1\", \"Topic1\", \"Topic1\", \"Topic1\", \"Topic1\", \"Topic2\", \"Topic2\", \"Topic2\", \"Topic2\", \"Topic2\", \"Topic2\", \"Topic2\", \"Topic2\", \"Topic2\", \"Topic2\", \"Topic2\", \"Topic2\", \"Topic2\", \"Topic2\", \"Topic2\", \"Topic2\", \"Topic2\", \"Topic2\", \"Topic2\", \"Topic2\", \"Topic2\", \"Topic2\", \"Topic2\", \"Topic2\", \"Topic2\", \"Topic2\", \"Topic2\", \"Topic2\", \"Topic2\", \"Topic2\", \"Topic2\", \"Topic2\", \"Topic2\", \"Topic2\", \"Topic2\", \"Topic2\", \"Topic2\", \"Topic2\", \"Topic2\", \"Topic2\", \"Topic2\", \"Topic2\", \"Topic2\", \"Topic2\", \"Topic2\", \"Topic2\", \"Topic2\", \"Topic2\", \"Topic2\", \"Topic2\", \"Topic2\", \"Topic2\", \"Topic2\", \"Topic2\", \"Topic2\", \"Topic2\", \"Topic2\", \"Topic2\", \"Topic2\", \"Topic3\", \"Topic3\", \"Topic3\", \"Topic3\", \"Topic3\", \"Topic3\", \"Topic3\", \"Topic3\", \"Topic3\", \"Topic3\", \"Topic3\", \"Topic3\", \"Topic3\", \"Topic3\", \"Topic3\", \"Topic3\", \"Topic3\", \"Topic3\", \"Topic3\", \"Topic3\", \"Topic3\", \"Topic3\", \"Topic3\", \"Topic3\", \"Topic3\", \"Topic3\", \"Topic3\", \"Topic3\", \"Topic3\", \"Topic3\", \"Topic3\", \"Topic3\", \"Topic3\", \"Topic3\", \"Topic3\", \"Topic3\", \"Topic3\", \"Topic3\", \"Topic3\", \"Topic3\", \"Topic3\", \"Topic3\", \"Topic3\", \"Topic3\", \"Topic3\", \"Topic3\", \"Topic3\", \"Topic3\", \"Topic3\", \"Topic3\", \"Topic3\", \"Topic3\", \"Topic3\", \"Topic3\", \"Topic3\", \"Topic3\", \"Topic3\", \"Topic3\", \"Topic3\", \"Topic4\", \"Topic4\", \"Topic4\", \"Topic4\", \"Topic4\", \"Topic4\", \"Topic4\", \"Topic4\", \"Topic4\", \"Topic4\", \"Topic4\", \"Topic4\", \"Topic4\", \"Topic4\", \"Topic4\", \"Topic4\", \"Topic4\", \"Topic4\", \"Topic4\", \"Topic4\", \"Topic4\", \"Topic4\", \"Topic4\", \"Topic4\", \"Topic4\", \"Topic4\", \"Topic4\", \"Topic4\", \"Topic4\", \"Topic4\", \"Topic4\", \"Topic4\", \"Topic4\", \"Topic4\", \"Topic4\", \"Topic4\", \"Topic4\", \"Topic4\", \"Topic4\", \"Topic4\", \"Topic4\", \"Topic4\", \"Topic4\", \"Topic4\", \"Topic4\", \"Topic4\", \"Topic4\", \"Topic4\", \"Topic4\", \"Topic4\", \"Topic4\", \"Topic4\", \"Topic4\", \"Topic4\", \"Topic4\", \"Topic4\", \"Topic4\", \"Topic4\", \"Topic4\", \"Topic4\", \"Topic4\", \"Topic5\", \"Topic5\", \"Topic5\", \"Topic5\", \"Topic5\", \"Topic5\", \"Topic5\", \"Topic5\", \"Topic5\", \"Topic5\", \"Topic5\", \"Topic5\", \"Topic5\", \"Topic5\", \"Topic5\", \"Topic5\", \"Topic5\", \"Topic5\", \"Topic5\", \"Topic5\", \"Topic5\", \"Topic5\", \"Topic5\", \"Topic5\", \"Topic5\", \"Topic5\", \"Topic5\", \"Topic5\", \"Topic5\", \"Topic5\", \"Topic5\", \"Topic5\", \"Topic5\", \"Topic5\", \"Topic5\", \"Topic5\", \"Topic5\", \"Topic5\", \"Topic5\", \"Topic5\", \"Topic5\", \"Topic5\", \"Topic5\", \"Topic5\", \"Topic5\", \"Topic5\", \"Topic5\", \"Topic5\", \"Topic5\", \"Topic5\", \"Topic5\", \"Topic5\", \"Topic5\", \"Topic5\", \"Topic5\", \"Topic5\", \"Topic5\", \"Topic5\", \"Topic5\", \"Topic5\", \"Topic5\", \"Topic5\", \"Topic6\", \"Topic6\", \"Topic6\", \"Topic6\", \"Topic6\", \"Topic6\", \"Topic6\", \"Topic6\", \"Topic6\", \"Topic6\", \"Topic6\", \"Topic6\", \"Topic6\", \"Topic6\", \"Topic6\", \"Topic6\", \"Topic6\", \"Topic6\", \"Topic6\", \"Topic6\", \"Topic6\", \"Topic6\", \"Topic6\", \"Topic6\", \"Topic6\", \"Topic6\", \"Topic6\", \"Topic6\", \"Topic6\", \"Topic6\", \"Topic6\", \"Topic6\", \"Topic6\", \"Topic6\", \"Topic6\", \"Topic6\", \"Topic6\", \"Topic6\", \"Topic6\", \"Topic6\", \"Topic6\", \"Topic6\", \"Topic6\", \"Topic6\", \"Topic6\", \"Topic6\", \"Topic6\", \"Topic6\", \"Topic6\", \"Topic6\", \"Topic6\", \"Topic6\", \"Topic6\", \"Topic6\", \"Topic6\", \"Topic6\", \"Topic6\", \"Topic6\", \"Topic6\", \"Topic6\", \"Topic6\", \"Topic6\", \"Topic6\", \"Topic6\", \"Topic7\", \"Topic7\", \"Topic7\", \"Topic7\", \"Topic7\", \"Topic7\", \"Topic7\", \"Topic7\", \"Topic7\", \"Topic7\", \"Topic7\", \"Topic7\", \"Topic7\", \"Topic7\", \"Topic7\", \"Topic7\", \"Topic7\", \"Topic7\", \"Topic7\", \"Topic7\", \"Topic7\", \"Topic7\", \"Topic7\", \"Topic7\", \"Topic7\", \"Topic7\", \"Topic7\", \"Topic7\", \"Topic7\", \"Topic7\", \"Topic7\", \"Topic7\", \"Topic7\", \"Topic7\", \"Topic7\", \"Topic7\", \"Topic7\", \"Topic7\", \"Topic7\", \"Topic7\", \"Topic7\", \"Topic7\", \"Topic7\", \"Topic7\", \"Topic7\", \"Topic7\", \"Topic7\", \"Topic7\", \"Topic7\", \"Topic7\", \"Topic7\", \"Topic7\", \"Topic7\", \"Topic7\", \"Topic7\", \"Topic7\", \"Topic7\", \"Topic7\", \"Topic7\", \"Topic7\", \"Topic7\", \"Topic7\", \"Topic7\", \"Topic7\", \"Topic8\", \"Topic8\", \"Topic8\", \"Topic8\", \"Topic8\", \"Topic8\", \"Topic8\", \"Topic8\", \"Topic8\", \"Topic8\", \"Topic8\", \"Topic8\", \"Topic8\", \"Topic8\", \"Topic8\", \"Topic8\", \"Topic8\", \"Topic8\", \"Topic8\", \"Topic8\", \"Topic8\", \"Topic8\", \"Topic8\", \"Topic8\", \"Topic8\", \"Topic8\", \"Topic8\", \"Topic8\", \"Topic8\", \"Topic8\", \"Topic8\", \"Topic8\", \"Topic8\", \"Topic8\", \"Topic8\", \"Topic8\", \"Topic8\", \"Topic8\", \"Topic8\", \"Topic8\", \"Topic8\", \"Topic8\", \"Topic8\", \"Topic8\", \"Topic8\", \"Topic8\", \"Topic8\", \"Topic8\", \"Topic8\", \"Topic8\", \"Topic8\", \"Topic8\", \"Topic8\", \"Topic8\", \"Topic8\", \"Topic8\", \"Topic8\", \"Topic8\", \"Topic8\", \"Topic9\", \"Topic9\", \"Topic9\", \"Topic9\", \"Topic9\", \"Topic9\", \"Topic9\", \"Topic9\", \"Topic9\", \"Topic9\", \"Topic9\", \"Topic9\", \"Topic9\", \"Topic9\", \"Topic9\", \"Topic9\", \"Topic9\", \"Topic9\", \"Topic9\", \"Topic9\", \"Topic9\", \"Topic9\", \"Topic9\", \"Topic9\", \"Topic9\", \"Topic9\", \"Topic9\", \"Topic9\", \"Topic9\", \"Topic9\", \"Topic9\", \"Topic9\", \"Topic9\", \"Topic9\", \"Topic9\", \"Topic9\", \"Topic9\", \"Topic9\", \"Topic9\", \"Topic9\", \"Topic9\", \"Topic9\", \"Topic9\", \"Topic9\", \"Topic9\", \"Topic9\", \"Topic9\", \"Topic9\", \"Topic9\", \"Topic9\", \"Topic9\", \"Topic9\", \"Topic9\", \"Topic9\", \"Topic9\", \"Topic9\", \"Topic9\", \"Topic9\", \"Topic9\", \"Topic9\", \"Topic9\", \"Topic10\", \"Topic10\", \"Topic10\", \"Topic10\", \"Topic10\", \"Topic10\", \"Topic10\", \"Topic10\", \"Topic10\", \"Topic10\", \"Topic10\", \"Topic10\", \"Topic10\", \"Topic10\", \"Topic10\", \"Topic10\", \"Topic10\", \"Topic10\", \"Topic10\", \"Topic10\", \"Topic10\", \"Topic10\", \"Topic10\", \"Topic10\", \"Topic10\", \"Topic10\", \"Topic10\", \"Topic10\", \"Topic10\", \"Topic10\", \"Topic10\", \"Topic10\", \"Topic10\", \"Topic10\", \"Topic10\", \"Topic10\", \"Topic10\", \"Topic10\", \"Topic10\", \"Topic10\", \"Topic10\", \"Topic10\", \"Topic10\", \"Topic10\", \"Topic10\", \"Topic10\", \"Topic10\", \"Topic10\", \"Topic10\", \"Topic10\", \"Topic10\", \"Topic10\", \"Topic10\", \"Topic10\", \"Topic10\", \"Topic10\", \"Topic10\", \"Topic10\", \"Topic10\", \"Topic10\", \"Topic10\", \"Topic10\", \"Topic10\", \"Topic10\", \"Topic10\", \"Topic10\", \"Topic10\"], \"logprob\": [30.0, 29.0, 28.0, 27.0, 26.0, 25.0, 24.0, 23.0, 22.0, 21.0, 20.0, 19.0, 18.0, 17.0, 16.0, 15.0, 14.0, 13.0, 12.0, 11.0, 10.0, 9.0, 8.0, 7.0, 6.0, 5.0, 4.0, 3.0, 2.0, 1.0, -3.035, -6.6876, -7.608, -5.6528, -5.6199, -7.9564, -7.1472, -3.9242, -7.1585, -7.5061, -7.1971, -8.0472, -7.0687, -8.4594, -6.1103, -7.2131, -5.4258, -8.4738, -8.4819, -8.0836, -7.1062, -7.6006, -8.5177, -8.1136, -8.5183, -6.1213, -7.8261, -7.8291, -7.6042, -8.117, -5.8276, -7.1397, -6.7381, -3.529, -5.3876, -6.2262, -6.2805, -5.5372, -6.2082, -3.6349, -3.1882, -6.5856, -3.7399, -3.797, -5.4928, -3.4359, -3.8806, -3.9799, -5.4401, -4.0017, -5.8776, -3.9954, -4.0409, -4.0454, -4.0862, -4.1187, -5.687, -4.2533, -5.3913, -5.625, -5.5157, -5.5491, -3.2046, -6.8177, -5.9904, -6.9624, -6.0671, -8.018, -3.3429, -8.0875, -8.0932, -5.9835, -2.9679, -8.5185, -7.8287, -7.6074, -8.5236, -7.6089, -7.0258, -7.8375, -8.5366, -6.2365, -8.1352, -8.1368, -7.4461, -6.0189, -6.2971, -6.8508, -7.175, -7.8733, -8.5721, -7.6613, -6.2397, -5.4813, -3.6107, -6.2775, -6.1526, -3.6114, -5.8808, -6.6121, -3.7311, -5.8241, -3.7956, -3.7838, -3.3154, -5.1511, -3.8114, -3.8639, -3.9349, -3.9408, -3.9689, -4.4973, -4.1785, -4.2557, -6.0156, -5.7516, -6.0885, -5.6725, -5.6893, -5.9052, -5.8751, -7.7782, -7.6118, -5.8455, -6.9575, -6.0427, -3.2992, -6.0919, -6.6536, -7.5337, -8.4682, -2.8339, -8.0839, -8.4895, -6.7058, -6.8928, -7.1194, -7.1245, -8.1086, -6.0735, -7.6037, -8.5232, -7.0271, -7.2793, -7.0401, -6.357, -7.8718, -6.5497, -6.0445, -7.6588, -7.8846, -5.8705, -3.5207, -3.4924, -6.7058, -5.7547, -5.5819, -3.6921, -5.9682, -3.7676, -3.3907, -3.817, -3.8009, -5.4222, -3.9346, -6.2107, -3.907, -5.44, -4.0331, -4.0429, -4.0292, -5.5771, -4.1794, -4.6522, -4.2003, -5.3287, -5.3446, -5.3271, -5.8278, -5.971, -7.3156, -7.1894, -7.6188, -5.9774, -3.2837, -7.0207, -7.7136, -7.0237, -6.5763, -7.7538, -8.453, -8.4566, -3.3749, -6.0231, -7.7768, -5.612, -8.476, -7.3822, -7.7918, -8.4913, -6.9923, -6.0572, -7.1126, -7.583, -8.0977, -8.5021, -8.0988, -8.5054, -6.7229, -7.4159, -5.1837, -6.4009, -3.5087, -6.6662, -7.0237, -4.1562, -6.2842, -5.4381, -3.7027, -3.7269, -6.945, -6.1054, -5.1117, -3.8041, -3.8128, -5.9758, -3.8394, -5.3778, -3.9349, -3.4674, -3.9046, -4.0022, -3.6537, -5.2619, -4.1136, -4.0836, -4.0906, -5.7004, -5.9286, -5.8611, -5.6897, -7.0468, -7.3922, -7.2321, -6.4995, -8.3854, -5.7006, -8.4129, -6.6222, -7.7223, -7.3166, -7.7269, -8.018, -8.0255, -7.3331, -8.028, -7.342, -6.4947, -6.8337, -7.5282, -7.5375, -6.6832, -5.9494, -8.4779, -8.4799, -6.7017, -8.4902, -7.1065, -6.5519, -6.1486, -3.368, -3.436, -3.4943, -5.5202, -3.5641, -3.6567, -6.2096, -3.6389, -6.2664, -6.3148, -3.7524, -3.7559, -5.1259, -3.8277, -3.3738, -6.1737, -3.9782, -5.4553, -4.061, -5.2539, -4.0974, -4.1409, -5.9432, -4.6737, -3.9004, -4.2403, -5.3583, -5.9975, -5.8658, -5.9903, -5.9898, -5.9698, -5.9478, -6.5691, -8.321, -5.1073, -7.4104, -7.6478, -8.3509, -5.8037, -5.6291, -7.0168, -6.1139, -7.3243, -8.0187, -6.2401, -7.0609, -7.7657, -8.0622, -7.2178, -7.5622, -6.532, -8.4775, -6.8721, -6.1804, -8.4855, -6.6239, -7.5787, -8.0972, -7.0026, -8.5091, -7.5952, -6.9054, -6.5718, -6.2817, -5.5288, -3.1346, -6.2589, -3.553, -3.6037, -3.6254, -3.6441, -5.404, -5.8825, -3.667, -6.0987, -6.1444, -3.8173, -3.8047, -3.4035, -3.89, -3.8933, -3.9568, -3.9824, -4.1041, -4.14, -4.1945, -4.6743, -5.3939, -5.5493, -5.4133, -5.7236, -5.9664, -5.6083, -5.9527, -5.8561, -5.9285, -5.0419, -6.1056, -5.6396, -7.6484, -8.3543, -8.3606, -7.4829, -7.5051, -7.5263, -8.0544, -6.1622, -7.2267, -7.3836, -6.6978, -7.8083, -8.503, -7.8116, -8.1075, -7.8337, -7.1547, -7.6232, -7.4438, -7.8468, -7.6268, -8.5427, -5.8024, -6.9385, -8.143, -7.0444, -8.1464, -6.2622, -6.0429, -6.6169, -3.4965, -4.992, -3.0473, -6.0705, -3.6204, -3.238, -3.6358, -5.8918, -3.7387, -3.7547, -5.1428, -3.7865, -3.7652, -3.8303, -5.9547, -3.8857, -3.9611, -3.9846, -6.2178, -3.9966, -4.0124, -3.9769, -6.1513, -5.4029, -4.9694, -6.0635, -5.7127, -5.8123, -5.8273, -5.9292, -5.9513, -7.5051, -7.4392, -7.3, -6.0646, -7.7276, -6.8203, -7.5179, -6.5733, -3.312, -7.0652, -7.3625, -8.0616, -3.3822, -7.7838, -7.2269, -4.9102, -6.9786, -7.5724, -6.0452, -7.803, -8.0914, -7.8054, -7.2478, -6.2098, -6.9085, -6.8157, -8.5216, -7.139, -6.8225, -8.1209, -6.2549, -5.8924, -3.4978, -5.8104, -3.5251, -6.2672, -5.4177, -3.682, -3.3031, -3.2338, -3.8672, -3.8773, -5.5176, -3.9546, -3.9262, -3.9819, -6.0267, -5.491, -4.1257, -4.1429, -5.3407, -4.1885, -4.2129, -4.788, -5.8236, -5.8307, -5.5973, -5.8996, -6.0355, -6.1132, -7.9456, -6.0415, -7.9945, -7.3082, -6.6145, -8.0105, -8.0297, -5.0669, -8.4386, -8.056, -7.2078, -7.7729, -8.4681, -5.9428, -8.0676, -6.0307, -5.3453, -8.4772, -8.4803, -7.7933, -7.7972, -7.1016, -6.0518, -8.492, -5.822, -8.4987, -7.8184, -8.5224, -8.1221, -6.2374, -3.5008, -4.9988, -4.1276, -3.1869, -6.848, -6.7707, -5.8772, -6.1306, -3.7222, -3.6656, -5.583, -3.749, -3.721, -3.7903, -6.3132, -5.1416, -3.8442, -3.8486, -3.8534, -3.8864, -3.9045, -5.2284, -3.4976, -3.9902, -4.0525, -4.2182, -5.5825, -5.6048, -5.806, -5.9819, -6.7915, -7.425, -8.3645, -8.3698, -7.9888, -6.8971, -7.7211, -7.7288, -8.0211, -5.0831, -7.5243, -8.036, -8.449, -6.504, -7.3604, -7.7704, -8.4638, -7.5625, -7.0921, -7.5629, -8.075, -7.7915, -8.4879, -8.0826, -8.0853, -8.4975, -5.7576, -8.4997, -6.1055, -8.5036, -6.7162, -5.4442, -5.9385, -7.4147, -5.019, -7.0239, -6.2585, -6.131, -6.7573, -3.6625, -4.2473, -3.6863, -3.7311, -3.738, -3.6898, -3.7665, -3.779, -5.8225, -3.7638, -3.3545, -6.5055, -3.8293, -3.8605, -3.8325, -5.9574, -5.623, -6.0086, -3.6965, -4.0637, -4.177, -4.1904, -5.619, -5.428, -5.5693, -5.4158, -5.8311, -5.9176], \"loglift\": [30.0, 29.0, 28.0, 27.0, 26.0, 25.0, 24.0, 23.0, 22.0, 21.0, 20.0, 19.0, 18.0, 17.0, 16.0, 15.0, 14.0, 13.0, 12.0, 11.0, 10.0, 9.0, 8.0, 7.0, 6.0, 5.0, 4.0, 3.0, 2.0, 1.0, 0.7722, 0.5995, 0.5965, 0.5707, 0.5374, 0.535, 0.4973, 0.4945, 0.4866, 0.4757, 0.447, 0.4445, 0.4411, 0.4363, 0.4348, 0.4308, 0.4272, 0.424, 0.4143, 0.4079, 0.4041, 0.3811, 0.3796, 0.3794, 0.3778, 0.3774, 0.3769, 0.3757, 0.3754, 0.3731, 0.3623, 0.3712, 0.366, 0.2817, 0.2902, 0.3185, 0.3123, 0.2485, 0.2911, 0.1045, 0.063, 0.2959, 0.0364, 0.0131, 0.1854, -0.0811, -0.069, -0.1717, 0.1043, -0.1921, 0.1869, -0.2336, -0.2292, -0.2397, -0.2742, -0.3104, 0.1169, -0.4862, -0.0787, -0.0957, -0.2406, -0.2225, 0.6055, 0.5799, 0.5606, 0.5515, 0.4827, 0.4767, 0.4688, 0.4074, 0.3995, 0.389, 0.3869, 0.3816, 0.378, 0.3767, 0.3749, 0.3736, 0.3693, 0.3692, 0.3628, 0.3613, 0.359, 0.3574, 0.3543, 0.3542, 0.3507, 0.3441, 0.3389, 0.332, 0.3268, 0.3218, 0.3063, 0.2828, 0.2013, 0.2709, 0.2631, 0.128, 0.2458, 0.271, 0.0805, 0.2134, 0.015, -0.0075, -0.0642, 0.124, -0.0444, -0.0566, -0.1292, -0.1312, -0.1606, -0.0786, -0.3703, -0.4939, 0.1744, -0.0739, 0.1357, -0.36, -0.3626, -0.1195, -0.3458, 0.7165, 0.5945, 0.5701, 0.5556, 0.5553, 0.5065, 0.4565, 0.4537, 0.4492, 0.4305, 0.4173, 0.4101, 0.4082, 0.4, 0.3976, 0.3927, 0.3858, 0.3843, 0.3815, 0.3781, 0.3745, 0.3701, 0.365, 0.3553, 0.3455, 0.3348, 0.3338, 0.3271, 0.3228, 0.321, 0.3201, 0.2889, 0.2747, 0.3201, 0.2828, 0.2711, 0.1161, 0.2553, 0.0444, -0.0359, -0.0054, -0.0391, 0.1222, -0.1229, 0.2453, -0.1676, 0.0893, -0.2248, -0.2323, -0.2529, 0.1011, -0.3693, -0.2335, -0.3931, -0.0161, -0.0179, -0.052, -0.0239, 0.0936, 0.6641, 0.6089, 0.5833, 0.5683, 0.528, 0.4885, 0.4884, 0.4879, 0.4495, 0.4481, 0.4438, 0.439, 0.4358, 0.43, 0.428, 0.4255, 0.4203, 0.4169, 0.4116, 0.406, 0.4015, 0.3973, 0.3969, 0.3963, 0.3932, 0.3926, 0.3922, 0.3894, 0.3853, 0.384, 0.3606, 0.3558, 0.2676, 0.3584, 0.3665, 0.2625, 0.309, 0.2397, 0.1055, 0.0832, 0.3441, 0.2686, 0.1633, 0.0075, -0.0008, 0.2453, -0.0311, 0.1515, -0.1252, -0.2162, -0.1428, -0.1965, -0.2989, 0.0647, -0.3064, -0.3166, -0.3512, 0.0637, 0.136, -0.0571, -0.3771, 0.5958, 0.5873, 0.5664, 0.5256, 0.5116, 0.49, 0.483, 0.4819, 0.4807, 0.4788, 0.4769, 0.4723, 0.4665, 0.4644, 0.4626, 0.4562, 0.4561, 0.4541, 0.4516, 0.4405, 0.4227, 0.4197, 0.4179, 0.4154, 0.4056, 0.4054, 0.4046, 0.3977, 0.3974, 0.3938, 0.3736, 0.3141, 0.3329, 0.2432, 0.1515, 0.3345, 0.1374, 0.3275, 0.3306, 0.0592, 0.056, 0.1867, -0.0171, -0.1226, 0.2419, -0.2388, 0.074, -0.2553, 0.0211, -0.3304, -0.3292, 0.1834, -0.255, -0.5456, -0.4301, -0.0316, 0.1598, -0.0618, -0.2046, -0.2257, -0.2915, -0.4034, 0.7176, 0.5756, 0.5709, 0.5708, 0.5569, 0.5451, 0.5279, 0.4974, 0.4922, 0.4807, 0.4729, 0.4725, 0.4614, 0.4496, 0.4392, 0.4284, 0.4258, 0.4216, 0.4201, 0.4196, 0.4184, 0.4174, 0.4115, 0.4031, 0.4022, 0.3944, 0.3913, 0.3882, 0.3867, 0.3837, 0.3786, 0.3645, 0.3242, 0.2202, 0.3389, 0.214, 0.2079, 0.1829, 0.166, 0.2738, 0.3081, 0.0724, 0.3121, 0.3115, -0.0066, -0.0284, -0.1523, -0.0819, -0.1315, -0.1472, -0.1767, -0.2969, -0.3281, -0.3828, -0.2556, -0.0814, -0.0199, -0.1383, 0.0405, 0.1918, -0.2816, 0.0848, -0.3118, -0.1428, 0.7438, 0.5969, 0.5835, 0.5564, 0.5432, 0.537, 0.4993, 0.4762, 0.4567, 0.4375, 0.4344, 0.4179, 0.4146, 0.4096, 0.3973, 0.395, 0.3916, 0.3845, 0.3716, 0.3591, 0.3581, 0.3566, 0.3561, 0.3544, 0.3543, 0.3533, 0.3513, 0.3493, 0.3491, 0.3469, 0.3356, 0.331, 0.3357, 0.2706, 0.2831, 0.2039, 0.3004, 0.1915, 0.1168, 0.1405, 0.2664, 0.067, 0.0526, 0.1697, 0.0251, -0.0257, -0.0197, 0.2352, -0.0775, -0.1514, -0.1763, 0.239, -0.1849, -0.2023, -0.215, 0.2179, -0.0763, -0.5507, 0.1576, -0.1833, -0.1341, -0.283, -0.0761, -0.1872, 0.6977, 0.5395, 0.4979, 0.4802, 0.4742, 0.467, 0.46, 0.4525, 0.4498, 0.4429, 0.4365, 0.4285, 0.426, 0.418, 0.4173, 0.4164, 0.4148, 0.4081, 0.4079, 0.4003, 0.3993, 0.3969, 0.3952, 0.3833, 0.3802, 0.3776, 0.3751, 0.3714, 0.3705, 0.3701, 0.3399, 0.3307, 0.2693, 0.314, 0.2144, 0.3258, 0.2601, 0.1237, 0.0517, 0.0175, -0.0556, -0.0653, 0.1607, -0.1445, -0.1499, -0.1736, 0.1975, 0.0533, -0.314, -0.3322, -0.0282, -0.3789, -0.4056, -0.3693, -0.0197, -0.0666, -0.3222, -0.3702, 0.1218, 0.6466, 0.5461, 0.5063, 0.4962, 0.4908, 0.4906, 0.4823, 0.4627, 0.4624, 0.4579, 0.4359, 0.4357, 0.4309, 0.4292, 0.428, 0.4248, 0.4239, 0.4188, 0.4186, 0.4165, 0.4099, 0.4085, 0.4079, 0.4051, 0.4041, 0.4022, 0.3979, 0.3863, 0.3752, 0.3693, 0.3572, 0.3076, 0.3279, 0.2911, 0.1679, 0.3438, 0.3333, 0.2811, 0.2802, 0.0898, 0.0739, 0.2209, 0.0606, 0.0409, 0.0213, 0.2813, 0.1334, -0.0385, -0.0414, -0.0428, -0.0747, -0.1374, 0.0842, -0.2464, -0.2139, -0.2424, -0.41, 0.0952, -0.0605, -0.1277, 0.2087, 0.5973, 0.5534, 0.5304, 0.5248, 0.5017, 0.4936, 0.4796, 0.4734, 0.4672, 0.4612, 0.4537, 0.4535, 0.4477, 0.4438, 0.4375, 0.433, 0.4315, 0.4176, 0.4176, 0.417, 0.4152, 0.4106, 0.4071, 0.4063, 0.4044, 0.3981, 0.398, 0.395, 0.3932, 0.3904, 0.3882, 0.3597, 0.3553, 0.3832, 0.2936, 0.3666, 0.3333, 0.3241, 0.3481, 0.1472, 0.1715, 0.1254, 0.0745, 0.0722, 0.0496, 0.0418, 0.0292, 0.242, -0.0019, -0.1033, 0.3124, -0.053, -0.0485, -0.0654, 0.2326, 0.1627, 0.2126, -0.3417, -0.2564, -0.3654, -0.3798, 0.0593, -0.1013, -0.04, -0.1407, 0.022, -0.2399]}, \"token.table\": {\"Topic\": [1, 2, 3, 4, 5, 6, 7, 8, 9, 10, 1, 2, 3, 4, 5, 6, 7, 8, 9, 10, 2, 3, 4, 1, 2, 3, 4, 5, 6, 7, 8, 9, 10, 1, 2, 4, 5, 6, 7, 8, 9, 10, 1, 2, 3, 4, 5, 6, 7, 8, 9, 10, 1, 4, 7, 10, 1, 2, 3, 4, 5, 6, 7, 8, 9, 10, 1, 2, 3, 4, 5, 6, 7, 8, 9, 10, 1, 2, 3, 4, 5, 6, 7, 8, 9, 10, 1, 2, 3, 4, 5, 6, 7, 8, 9, 10, 4, 5, 7, 10, 1, 2, 3, 4, 5, 6, 7, 8, 9, 10, 2, 4, 5, 6, 7, 8, 9, 10, 1, 2, 3, 4, 5, 6, 7, 8, 9, 10, 1, 2, 3, 4, 5, 6, 7, 8, 9, 10, 1, 2, 3, 4, 5, 6, 7, 8, 9, 10, 1, 2, 3, 4, 5, 6, 7, 8, 9, 10, 1, 2, 3, 4, 5, 6, 7, 8, 9, 10, 4, 4, 9, 1, 3, 4, 5, 6, 7, 8, 9, 10, 1, 2, 3, 4, 5, 6, 7, 8, 9, 10, 1, 2, 3, 4, 5, 6, 7, 8, 9, 10, 1, 2, 3, 4, 5, 6, 7, 8, 9, 10, 1, 6, 10, 1, 2, 3, 4, 5, 6, 7, 8, 9, 10, 2, 3, 5, 9, 10, 1, 8, 10, 1, 2, 3, 4, 5, 6, 7, 8, 9, 10, 1, 2, 3, 4, 5, 6, 7, 8, 9, 10, 1, 2, 3, 4, 5, 6, 7, 8, 9, 10, 1, 2, 3, 4, 5, 6, 7, 8, 9, 10, 1, 2, 3, 4, 5, 6, 7, 8, 9, 10, 9, 7, 1, 2, 3, 4, 5, 6, 8, 10, 3, 4, 5, 6, 10, 7, 8, 10, 1, 2, 3, 4, 5, 6, 7, 8, 9, 10, 2, 4, 7, 9, 10, 1, 2, 3, 4, 5, 6, 7, 8, 9, 10, 3, 5, 6, 8, 10, 4, 1, 2, 3, 5, 8, 9, 10, 5, 1, 2, 3, 4, 5, 6, 7, 8, 9, 10, 1, 2, 3, 4, 5, 6, 7, 8, 9, 10, 6, 7, 1, 2, 3, 4, 5, 6, 7, 8, 9, 10, 1, 5, 1, 2, 3, 4, 5, 6, 7, 8, 9, 10, 1, 3, 1, 2, 3, 4, 5, 6, 7, 8, 9, 10, 1, 4, 1, 2, 3, 4, 5, 6, 7, 8, 9, 10, 1, 2, 3, 4, 5, 6, 7, 8, 9, 10, 1, 2, 3, 4, 5, 6, 7, 8, 9, 10, 1, 2, 3, 4, 5, 6, 7, 8, 9, 10, 1, 2, 3, 4, 5, 6, 7, 8, 9, 10, 4, 4, 8, 10, 1, 2, 3, 4, 5, 6, 7, 8, 9, 10, 1, 2, 3, 4, 5, 6, 7, 8, 9, 1, 2, 3, 4, 5, 6, 7, 8, 9, 10, 7, 10, 1, 6, 7, 1, 2, 3, 4, 5, 6, 7, 8, 9, 10, 1, 2, 3, 4, 5, 6, 7, 8, 9, 10, 1, 2, 3, 4, 5, 6, 7, 8, 9, 10, 10, 8, 3, 1, 1, 2, 3, 4, 5, 6, 7, 8, 9, 10, 1, 2, 3, 4, 5, 6, 7, 8, 9, 10, 1, 2, 3, 4, 5, 6, 7, 8, 9, 10, 3, 1, 2, 3, 4, 5, 6, 7, 8, 9, 10, 5, 6, 7, 9, 1, 3, 6, 8, 9, 10, 1, 2, 3, 4, 5, 6, 7, 8, 9, 10, 1, 2, 3, 4, 5, 6, 7, 8, 9, 10, 1, 2, 3, 4, 5, 6, 7, 8, 9, 10, 1, 2, 3, 4, 5, 6, 7, 8, 9, 10, 1, 2, 3, 4, 5, 6, 7, 8, 9, 10, 2, 8, 7, 1, 2, 3, 4, 5, 6, 7, 8, 9, 10, 1, 3, 4, 5, 6, 7, 8, 9, 10, 1, 2, 10, 1, 2, 3, 4, 5, 6, 7, 8, 9, 10, 1, 2, 3, 4, 5, 6, 7, 8, 9, 10, 10, 1, 2, 5, 6, 7, 8, 9, 10, 8, 3, 6, 8, 1, 2, 3, 4, 5, 6, 7, 8, 9, 10, 1, 2, 8, 9, 1, 2, 3, 4, 5, 7, 8, 9, 10, 1, 2, 3, 4, 5, 6, 7, 8, 9, 10, 2, 3, 4, 9, 10, 10, 1, 2, 3, 4, 5, 6, 7, 8, 9, 10, 1, 2, 3, 4, 5, 6, 7, 8, 9, 10, 1, 2, 3, 4, 5, 6, 7, 8, 9, 10, 1, 2, 3, 4, 5, 6, 7, 8, 9, 10, 3, 4, 6, 7, 8, 1, 2, 3, 4, 5, 6, 7, 8, 9, 10, 2, 3, 4, 5, 6, 7, 8, 9, 10, 1, 2, 3, 4, 5, 6, 7, 8, 9, 10, 1, 2, 3, 4, 5, 6, 7, 8, 9, 10, 3, 1, 3, 4, 5, 6, 7, 10, 1, 2, 3, 4, 5, 6, 7, 8, 9, 10, 1, 2, 3, 4, 5, 6, 7, 8, 9, 10, 1, 4, 5, 6, 7, 9, 10, 1, 2, 4, 5, 7, 8, 9, 10, 6, 7, 4, 1, 2, 3, 4, 5, 6, 7, 8, 9, 10, 1, 2, 3, 4, 5, 6, 7, 8, 9, 10, 1, 2, 3, 4, 5, 6, 7, 8, 9, 10, 1, 2, 3, 4, 5, 6, 7, 8, 9, 10, 1, 2, 3, 4, 5, 6, 7, 8, 9, 10, 6, 1, 2, 3, 4, 5, 6, 7, 8, 9, 10, 1, 2, 3, 4, 5, 6, 7, 9, 10, 1, 2, 3, 4, 5, 6, 7, 8, 9, 10, 2, 5, 9, 10, 7, 1, 2, 3, 4, 5, 6, 7, 8, 9, 10, 1, 2, 3, 4, 5, 6, 7, 8, 9, 10, 1, 2, 3, 4, 5, 6, 7, 8, 9, 10, 1, 2, 3, 4, 5, 6, 7, 8, 9, 10, 1, 2, 3, 4, 5, 6, 7, 8, 9, 10, 5, 1, 2, 3, 4, 5, 6, 7, 8, 9, 10, 1, 2, 3, 4, 5, 6, 7, 8, 9, 10, 1, 2, 3, 4, 5, 6, 7, 8, 9, 10, 1, 2, 3, 4, 5, 6, 7, 8, 9, 10, 1, 2, 3, 4, 5, 6, 7, 8, 9, 10, 3, 8, 1, 2, 3, 4, 5, 6, 7, 8, 9, 10, 1, 2, 3, 4, 5, 6, 7, 8, 9, 10, 1, 2, 3, 4, 5, 6, 7, 8, 9, 10, 1, 2, 3, 4, 5, 6, 7, 8, 9, 10, 8, 1, 2, 1, 2, 3, 4, 5, 6, 7, 8, 9, 10, 1, 2, 3, 4, 5, 6, 7, 8, 9, 10, 1, 2, 3, 4, 5, 6, 7, 8, 9, 10, 5, 1, 2, 3, 4, 5, 6, 7, 8, 9, 10, 1, 2, 3, 4, 5, 6, 7, 8, 9, 10, 1, 2, 3, 4, 5, 6, 7, 8, 9, 10, 1, 2, 3, 4, 5, 6, 7, 8, 9, 10, 8, 1, 2, 3, 4, 5, 6, 7, 8, 9, 1, 3, 4, 5, 6, 7, 9, 1, 2, 3, 4, 6, 7, 8, 9, 10, 1, 2, 3, 4, 5, 7, 8, 9, 10, 1, 2, 3, 4, 5, 6, 7, 8, 9, 10, 1, 2, 5, 7, 10, 1, 2, 3, 4, 5, 6, 7, 8, 9, 10, 10, 1, 2, 3, 4, 5, 6, 7, 8, 9, 10, 1, 2, 3, 4, 5, 6, 7, 8, 9, 10, 1, 2, 3, 4, 5, 6, 7, 8, 9, 10, 1, 2, 3, 4, 5, 6, 7, 8, 9, 10, 1, 2, 3, 4, 5, 6, 7, 8, 9, 10, 1, 2, 3, 4, 5, 6, 7, 8, 9, 10, 1, 2, 3, 4, 5, 6, 7, 8, 9, 10, 1, 2, 3, 4, 5, 6, 7, 8, 9, 10, 1, 2, 3, 4, 5, 6, 7, 8, 9, 10, 1, 2, 3, 4, 5, 7, 8, 9, 10, 2, 3, 4, 5, 6, 8, 9, 10, 7, 1, 2, 3, 4, 5, 6, 7, 8, 9, 10, 1, 2, 3, 4, 1, 2, 3, 4, 5, 6, 7, 8, 9, 10, 1, 2, 3, 4, 5, 6, 7, 8, 9, 10, 1, 1, 2, 3, 4, 5, 6, 7, 8, 9, 10, 1, 2, 3, 4, 5, 6, 7, 8, 9, 10, 7, 10, 1, 3, 4, 5, 6, 7, 8, 10, 1, 2, 3, 4, 5, 6, 7, 8, 9, 10, 1, 2, 3, 4, 5, 6, 9, 10, 1, 3, 5, 6, 7, 8, 9, 10, 1, 2, 3, 4, 5, 6, 7, 8, 9, 10, 1, 2, 3, 4, 5, 6, 7, 8, 9, 10, 1, 2, 3, 4, 5, 6, 7, 8, 9, 10, 9, 10, 1, 2, 3, 4, 5, 6, 7, 8, 9, 10, 1, 2, 4, 5, 9, 10, 1, 2, 3, 4, 5, 6, 7, 8, 9, 10, 1, 2, 3, 4, 5, 6, 7, 8, 9, 10, 1, 2, 3, 4, 5, 6, 7, 8, 9, 10, 1, 2, 3, 4, 5, 6, 7, 8, 9, 10, 1, 2, 10, 1, 2, 3, 4, 5, 6, 7, 8, 9, 10, 1, 2, 3, 4, 5, 6, 7, 8, 9, 10, 1, 2, 3, 4, 5, 6, 7, 8, 9, 10, 4, 5, 6, 7, 8, 1, 2, 3, 4, 5, 6, 7, 8, 9, 10, 1, 2, 3, 4, 5, 6, 7, 8, 9, 10, 1, 2, 3, 4, 5, 6, 7, 8, 9, 10, 1, 2, 3, 4, 5, 6, 7, 8, 9, 10, 2, 4, 5, 7, 9, 1, 2, 3, 4, 5, 6, 7, 8, 9, 10, 1, 2, 4, 5, 6, 7, 8, 9, 10, 7, 10, 1, 2, 3, 4, 5, 6, 7, 8, 9, 10, 9, 1, 2, 3, 4, 5, 6, 7, 8, 9, 10, 1, 2, 3, 4, 5, 6, 7, 8, 9, 10, 1, 2, 3, 4, 5, 6, 7, 8, 9, 10, 1, 2, 3, 4, 5, 6, 7, 8, 9, 10, 1, 2, 3, 4, 5, 6, 7, 8, 9, 10, 9, 1, 2, 3, 4, 5, 6, 7, 8, 9, 10, 1, 4, 5, 6, 7, 8, 9, 4, 2, 6, 3, 5, 6, 7, 10, 1, 2, 4, 5, 6, 7, 8, 9, 10, 1, 2, 3, 4, 5, 6, 7, 8, 9, 10, 1, 2, 3, 4, 5, 6, 7, 8, 9, 10, 1, 2, 3, 4, 5, 6, 7, 8, 9, 10, 7, 8, 10, 5, 1, 2, 3, 4, 5, 6, 7, 8, 9, 10, 1, 2, 3, 4, 5, 6, 7, 8, 9, 10, 6, 1, 2, 3, 5, 6, 7, 8, 10, 1, 2, 3, 4, 5, 6, 7, 8, 9, 10, 1, 2, 3, 4, 5, 6, 7, 8, 9, 10, 1, 2, 3, 4, 5, 6, 7, 8, 9, 10, 1, 2, 3, 4, 5, 6, 7, 8, 9, 10, 1, 2, 3, 4, 5, 6, 7, 8, 9, 10, 1, 2, 3, 4, 5, 6, 7, 8, 9, 1, 10], \"Freq\": [0.08014750186830995, 0.08014750186830995, 0.08014750186830995, 0.08014750186830995, 0.08014750186830995, 0.08014750186830995, 0.1602950037366199, 0.12022125280246493, 0.08014750186830995, 0.12022125280246493, 0.08942445308167964, 0.08942445308167964, 0.08942445308167964, 0.08942445308167964, 0.08942445308167964, 0.08942445308167964, 0.08942445308167964, 0.17884890616335927, 0.08942445308167964, 0.08942445308167964, 0.19361268052301545, 0.19361268052301545, 0.19361268052301545, 0.09290196733799952, 0.09290196733799952, 0.04645098366899976, 0.09290196733799952, 0.09290196733799952, 0.09290196733799952, 0.13935295100699926, 0.09290196733799952, 0.13935295100699926, 0.13935295100699926, 0.14519023472112383, 0.14519023472112383, 0.14519023472112383, 0.14519023472112383, 0.14519023472112383, 0.14519023472112383, 0.14519023472112383, 0.14519023472112383, 0.14519023472112383, 0.1001192065170866, 0.08009536521366928, 0.1001192065170866, 0.12014304782050392, 0.1001192065170866, 0.1001192065170866, 0.08009536521366928, 0.06007152391025196, 0.16019073042733856, 0.1001192065170866, 0.19360450058876053, 0.19360450058876053, 0.19360450058876053, 0.19360450058876053, 0.12879363949422148, 0.12879363949422148, 0.12879363949422148, 0.12879363949422148, 0.12879363949422148, 0.12879363949422148, 0.12879363949422148, 0.12879363949422148, 0.12879363949422148, 0.12879363949422148, 0.1548220194546551, 0.07741100972732755, 0.07741100972732755, 0.07741100972732755, 0.1548220194546551, 0.1548220194546551, 0.07741100972732755, 0.07741100972732755, 0.07741100972732755, 0.07741100972732755, 0.16588181341114064, 0.11058787560742708, 0.11058787560742708, 0.11058787560742708, 0.11058787560742708, 0.11058787560742708, 0.05529393780371354, 0.05529393780371354, 0.11058787560742708, 0.11058787560742708, 0.08931822768821054, 0.08931822768821054, 0.08931822768821054, 0.1786364553764211, 0.08931822768821054, 0.08931822768821054, 0.08931822768821054, 0.08931822768821054, 0.08931822768821054, 0.08931822768821054, 0.19305037489128166, 0.19305037489128166, 0.19305037489128166, 0.19305037489128166, 0.11069158088718206, 0.11069158088718206, 0.05534579044359103, 0.11069158088718206, 0.1660373713307731, 0.11069158088718206, 0.05534579044359103, 0.11069158088718206, 0.11069158088718206, 0.05534579044359103, 0.1451781661225041, 0.1451781661225041, 0.1451781661225041, 0.1451781661225041, 0.1451781661225041, 0.1451781661225041, 0.1451781661225041, 0.1451781661225041, 0.08932767842864142, 0.08932767842864142, 0.08932767842864142, 0.13399151764296213, 0.08932767842864142, 0.17865535685728284, 0.08932767842864142, 0.08932767842864142, 0.08932767842864142, 0.13399151764296213, 0.09305248081238313, 0.1395787212185747, 0.09305248081238313, 0.1395787212185747, 0.09305248081238313, 0.09305248081238313, 0.04652624040619156, 0.09305248081238313, 0.09305248081238313, 0.09305248081238313, 0.07260809263379596, 0.10891213895069395, 0.07260809263379596, 0.10891213895069395, 0.10891213895069395, 0.10891213895069395, 0.10891213895069395, 0.14521618526759192, 0.10891213895069395, 0.10891213895069395, 0.09715764394400081, 0.1457364659160012, 0.19431528788800162, 0.048578821972000405, 0.1457364659160012, 0.09715764394400081, 0.048578821972000405, 0.048578821972000405, 0.09715764394400081, 0.09715764394400081, 0.07859452236701683, 0.0893119572352464, 0.16790647960226324, 0.08216700065642668, 0.07859452236701683, 0.08216700065642668, 0.10717434868229568, 0.11431930526111539, 0.09645691381406611, 0.10717434868229568, 0.28992182586248816, 0.28989760590801283, 0.290275815590324, 0.12873896958265676, 0.12873896958265676, 0.12873896958265676, 0.12873896958265676, 0.12873896958265676, 0.12873896958265676, 0.12873896958265676, 0.12873896958265676, 0.12873896958265676, 0.08941894589562817, 0.08941894589562817, 0.08941894589562817, 0.17883789179125634, 0.08941894589562817, 0.08941894589562817, 0.08941894589562817, 0.08941894589562817, 0.08941894589562817, 0.08941894589562817, 0.14567764596883803, 0.14567764596883803, 0.14567764596883803, 0.14567764596883803, 0.14567764596883803, 0.14567764596883803, 0.14567764596883803, 0.14567764596883803, 0.14567764596883803, 0.14567764596883803, 0.10540461627278833, 0.07905346220459125, 0.10540461627278833, 0.10540461627278833, 0.10540461627278833, 0.07905346220459125, 0.07905346220459125, 0.10540461627278833, 0.13175577034098543, 0.13175577034098543, 0.2324035754364026, 0.2324035754364026, 0.2324035754364026, 0.10670115002050957, 0.09438947886429694, 0.15184394425995595, 0.08002586251538218, 0.08823364328619061, 0.08618169809348851, 0.12311671156212643, 0.10259725963510537, 0.07797391732268008, 0.09028558847889272, 0.19352623642033104, 0.19352623642033104, 0.19352623642033104, 0.19352623642033104, 0.19352623642033104, 0.23211148046569643, 0.23211148046569643, 0.23211148046569643, 0.10407216457062186, 0.1006030924182678, 0.07631958735178937, 0.13182474178945436, 0.11447938102768405, 0.09713402026591375, 0.11447938102768405, 0.08672680380885156, 0.07978865950414343, 0.09366494811355969, 0.10556974162874982, 0.10556974162874982, 0.10556974162874982, 0.10556974162874982, 0.10556974162874982, 0.10556974162874982, 0.10556974162874982, 0.10556974162874982, 0.10556974162874982, 0.10556974162874982, 0.11619289929572969, 0.06971573957743782, 0.11619289929572969, 0.046477159718291874, 0.06971573957743782, 0.1859086388731675, 0.09295431943658375, 0.11619289929572969, 0.09295431943658375, 0.11619289929572969, 0.07758410306651864, 0.07758410306651864, 0.15516820613303728, 0.07758410306651864, 0.15516820613303728, 0.15516820613303728, 0.07758410306651864, 0.03879205153325932, 0.11637615459977797, 0.07758410306651864, 0.0829263435488237, 0.0829263435488237, 0.0829263435488237, 0.0829263435488237, 0.0829263435488237, 0.1658526870976474, 0.0829263435488237, 0.0829263435488237, 0.0829263435488237, 0.0829263435488237, 0.2907070703798292, 0.29071492966066, 0.16591690877561144, 0.16591690877561144, 0.16591690877561144, 0.16591690877561144, 0.16591690877561144, 0.16591690877561144, 0.16591690877561144, 0.16591690877561144, 0.1934072341736692, 0.1934072341736692, 0.1934072341736692, 0.1934072341736692, 0.1934072341736692, 0.23183277124474544, 0.23183277124474544, 0.23183277124474544, 0.09688668151756524, 0.09688668151756524, 0.09688668151756524, 0.09688668151756524, 0.19377336303513049, 0.09688668151756524, 0.09688668151756524, 0.09688668151756524, 0.09688668151756524, 0.09688668151756524, 0.19400945838915717, 0.19400945838915717, 0.19400945838915717, 0.19400945838915717, 0.19400945838915717, 0.08286258506963583, 0.08286258506963583, 0.08286258506963583, 0.08286258506963583, 0.16572517013927165, 0.08286258506963583, 0.08286258506963583, 0.08286258506963583, 0.08286258506963583, 0.08286258506963583, 0.19345733721124683, 0.19345733721124683, 0.19345733721124683, 0.19345733721124683, 0.19345733721124683, 0.23211998371596765, 0.16576780933934585, 0.16576780933934585, 0.16576780933934585, 0.16576780933934585, 0.16576780933934585, 0.16576780933934585, 0.16576780933934585, 0.29021081907910534, 0.1875979760625858, 0.07503919042503432, 0.11255878563755148, 0.07503919042503432, 0.11255878563755148, 0.07503919042503432, 0.11255878563755148, 0.11255878563755148, 0.07503919042503432, 0.07503919042503432, 0.15846002861573055, 0.1056400190771537, 0.05282000953857685, 0.1056400190771537, 0.1056400190771537, 0.1056400190771537, 0.05282000953857685, 0.1056400190771537, 0.1056400190771537, 0.1056400190771537, 0.2324608473647344, 0.2324608473647344, 0.0929751217583978, 0.0929751217583978, 0.1394626826375967, 0.0929751217583978, 0.0929751217583978, 0.0929751217583978, 0.0464875608791989, 0.0929751217583978, 0.1394626826375967, 0.0929751217583978, 0.23174569079178606, 0.23174569079178606, 0.09710888066146683, 0.09710888066146683, 0.09710888066146683, 0.19421776132293367, 0.09710888066146683, 0.09710888066146683, 0.09710888066146683, 0.09710888066146683, 0.09710888066146683, 0.09710888066146683, 0.2326133759034696, 0.2326133759034696, 0.05043283363887667, 0.10086566727775334, 0.10086566727775334, 0.15129850091663002, 0.10086566727775334, 0.10086566727775334, 0.10086566727775334, 0.15129850091663002, 0.10086566727775334, 0.10086566727775334, 0.23204240864627196, 0.23204240864627196, 0.06853270036072454, 0.13706540072144907, 0.06853270036072454, 0.06853270036072454, 0.06853270036072454, 0.06853270036072454, 0.13706540072144907, 0.06853270036072454, 0.20559810108217363, 0.06853270036072454, 0.16487369808944635, 0.09232927093008995, 0.07913937508293424, 0.13189895847155708, 0.07913937508293424, 0.07913937508293424, 0.059354531312200684, 0.06594947923577854, 0.13189895847155708, 0.11870906262440137, 0.09670078897324805, 0.09670078897324805, 0.09670078897324805, 0.09670078897324805, 0.09670078897324805, 0.09670078897324805, 0.09670078897324805, 0.09670078897324805, 0.09670078897324805, 0.09670078897324805, 0.07864088285470167, 0.06154503875585348, 0.09573672695354986, 0.08547922049424095, 0.14702425925009444, 0.08889838931401058, 0.08206005167447131, 0.15728176570940333, 0.10257506459308913, 0.0991558957733195, 0.14505332770966797, 0.14505332770966797, 0.14505332770966797, 0.14505332770966797, 0.14505332770966797, 0.14505332770966797, 0.14505332770966797, 0.14505332770966797, 0.14505332770966797, 0.14505332770966797, 0.29031057787592, 0.23171702057598673, 0.23171702057598673, 0.23171702057598673, 0.08952639085586861, 0.08952639085586861, 0.08952639085586861, 0.08952639085586861, 0.08952639085586861, 0.17905278171173722, 0.08952639085586861, 0.08952639085586861, 0.08952639085586861, 0.08952639085586861, 0.14501227690863086, 0.14501227690863086, 0.14501227690863086, 0.14501227690863086, 0.14501227690863086, 0.14501227690863086, 0.14501227690863086, 0.14501227690863086, 0.14501227690863086, 0.11601886882071055, 0.11601886882071055, 0.058009434410355276, 0.11601886882071055, 0.11601886882071055, 0.058009434410355276, 0.11601886882071055, 0.11601886882071055, 0.11601886882071055, 0.11601886882071055, 0.2322020539942699, 0.2322020539942699, 0.23262142207618702, 0.23262142207618702, 0.23262142207618702, 0.09669196285562835, 0.09669196285562835, 0.048345981427814176, 0.09669196285562835, 0.09669196285562835, 0.14503794428344255, 0.09669196285562835, 0.09669196285562835, 0.14503794428344255, 0.09669196285562835, 0.09686665444056337, 0.09686665444056337, 0.19373330888112675, 0.09686665444056337, 0.09686665444056337, 0.09686665444056337, 0.09686665444056337, 0.09686665444056337, 0.09686665444056337, 0.09686665444056337, 0.08249539222764568, 0.08966890459526704, 0.13270997880099522, 0.08966890459526704, 0.14347024735242725, 0.08608214841145635, 0.08608214841145635, 0.06814836749240295, 0.10760268551432045, 0.11477619788194181, 0.2903096091066129, 0.28987376165329165, 0.2325491708536575, 0.29063722750979254, 0.11612350860968655, 0.058061754304843276, 0.11612350860968655, 0.058061754304843276, 0.11612350860968655, 0.11612350860968655, 0.11612350860968655, 0.058061754304843276, 0.058061754304843276, 0.11612350860968655, 0.11657363987044475, 0.11657363987044475, 0.058286819935222375, 0.058286819935222375, 0.058286819935222375, 0.17486045980566714, 0.11657363987044475, 0.11657363987044475, 0.11657363987044475, 0.058286819935222375, 0.09670313530618434, 0.09670313530618434, 0.09670313530618434, 0.09670313530618434, 0.19340627061236867, 0.09670313530618434, 0.09670313530618434, 0.09670313530618434, 0.09670313530618434, 0.09670313530618434, 0.3884974062795704, 0.11608065697511107, 0.11608065697511107, 0.11608065697511107, 0.11608065697511107, 0.11608065697511107, 0.23216131395022213, 0.11608065697511107, 0.11608065697511107, 0.11608065697511107, 0.11608065697511107, 0.19358775966342137, 0.19358775966342137, 0.19358775966342137, 0.19358775966342137, 0.1935206559266806, 0.1935206559266806, 0.1935206559266806, 0.1935206559266806, 0.1935206559266806, 0.1935206559266806, 0.07763855475640948, 0.10869397665897328, 0.09316626570769138, 0.12422168761025516, 0.10869397665897328, 0.09316626570769138, 0.13974939856153706, 0.07763855475640948, 0.10869397665897328, 0.09316626570769138, 0.1551274590986686, 0.0775637295493343, 0.1551274590986686, 0.0775637295493343, 0.0775637295493343, 0.0775637295493343, 0.0775637295493343, 0.0775637295493343, 0.0775637295493343, 0.1551274590986686, 0.07549432949880312, 0.12222891442663363, 0.10425407406977574, 0.10065910599840416, 0.10425407406977574, 0.07189936142743154, 0.12222891442663363, 0.093469169855661, 0.10784904214114732, 0.093469169855661, 0.11643791020477773, 0.11643791020477773, 0.11643791020477773, 0.11643791020477773, 0.11643791020477773, 0.11643791020477773, 0.11643791020477773, 0.11643791020477773, 0.11643791020477773, 0.11643791020477773, 0.11047473627079636, 0.05523736813539818, 0.11047473627079636, 0.11047473627079636, 0.16571210440619455, 0.05523736813539818, 0.11047473627079636, 0.11047473627079636, 0.11047473627079636, 0.11047473627079636, 0.291285384593003, 0.23231150074411858, 0.29096769963057967, 0.06113190499933031, 0.06113190499933031, 0.12226380999866061, 0.12226380999866061, 0.12226380999866061, 0.06113190499933031, 0.12226380999866061, 0.12226380999866061, 0.12226380999866061, 0.12226380999866061, 0.16598027558932008, 0.16598027558932008, 0.16598027558932008, 0.16598027558932008, 0.16598027558932008, 0.16598027558932008, 0.16598027558932008, 0.16598027558932008, 0.16598027558932008, 0.23278883081756088, 0.23278883081756088, 0.23278883081756088, 0.1165057647275644, 0.1165057647275644, 0.1165057647275644, 0.1165057647275644, 0.1165057647275644, 0.1165057647275644, 0.1165057647275644, 0.1165057647275644, 0.1165057647275644, 0.1165057647275644, 0.07521990959979827, 0.08596561097119802, 0.07880181005693151, 0.09671131234259778, 0.13611221737106355, 0.11820271508539729, 0.08238371051406478, 0.08238371051406478, 0.13611221737106355, 0.10387511325686427, 0.2899798897292548, 0.16610530129148895, 0.16610530129148895, 0.16610530129148895, 0.16610530129148895, 0.16610530129148895, 0.16610530129148895, 0.16610530129148895, 0.16610530129148895, 0.2902646961586308, 0.23249055113773462, 0.23249055113773462, 0.23249055113773462, 0.0931153462089431, 0.13967301931341466, 0.0931153462089431, 0.0931153462089431, 0.0931153462089431, 0.13967301931341466, 0.0931153462089431, 0.0931153462089431, 0.0931153462089431, 0.0931153462089431, 0.23258740924001275, 0.23258740924001275, 0.23258740924001275, 0.23258740924001275, 0.14543582613309755, 0.14543582613309755, 0.14543582613309755, 0.14543582613309755, 0.14543582613309755, 0.14543582613309755, 0.14543582613309755, 0.14543582613309755, 0.14543582613309755, 0.10590045323319114, 0.10590045323319114, 0.10590045323319114, 0.10590045323319114, 0.10590045323319114, 0.10590045323319114, 0.10590045323319114, 0.10590045323319114, 0.10590045323319114, 0.10590045323319114, 0.19377829290345402, 0.19377829290345402, 0.19377829290345402, 0.19377829290345402, 0.19377829290345402, 0.28953104759661136, 0.1452742884379811, 0.1452742884379811, 0.1452742884379811, 0.1452742884379811, 0.1452742884379811, 0.1452742884379811, 0.1452742884379811, 0.1452742884379811, 0.1452742884379811, 0.1452742884379811, 0.08943328222625839, 0.08943328222625839, 0.17886656445251678, 0.08943328222625839, 0.08943328222625839, 0.08943328222625839, 0.08943328222625839, 0.08943328222625839, 0.08943328222625839, 0.08943328222625839, 0.11124444395037852, 0.1668666659255678, 0.11124444395037852, 0.11124444395037852, 0.11124444395037852, 0.05562222197518926, 0.11124444395037852, 0.05562222197518926, 0.11124444395037852, 0.05562222197518926, 0.12917184709066584, 0.12917184709066584, 0.12917184709066584, 0.12917184709066584, 0.12917184709066584, 0.12917184709066584, 0.12917184709066584, 0.12917184709066584, 0.12917184709066584, 0.12917184709066584, 0.19392179729368256, 0.19392179729368256, 0.19392179729368256, 0.19392179729368256, 0.19392179729368256, 0.10115942106906005, 0.10115942106906005, 0.10115942106906005, 0.10115942106906005, 0.10115942106906005, 0.15173913160359007, 0.10115942106906005, 0.10115942106906005, 0.10115942106906005, 0.050579710534530024, 0.14536134080259075, 0.14536134080259075, 0.14536134080259075, 0.14536134080259075, 0.14536134080259075, 0.14536134080259075, 0.14536134080259075, 0.14536134080259075, 0.14536134080259075, 0.07752810060104988, 0.15505620120209976, 0.07752810060104988, 0.15505620120209976, 0.07752810060104988, 0.07752810060104988, 0.07752810060104988, 0.07752810060104988, 0.07752810060104988, 0.07752810060104988, 0.07906810039571036, 0.16173020535486207, 0.0898501140860345, 0.16891821448174485, 0.07188009126882759, 0.06828608670538622, 0.08266210495915173, 0.07188009126882759, 0.09344411864947587, 0.11141414146668277, 0.23287563941710698, 0.14498377125237596, 0.14498377125237596, 0.14498377125237596, 0.14498377125237596, 0.14498377125237596, 0.14498377125237596, 0.14498377125237596, 0.1165776085152252, 0.1165776085152252, 0.0582888042576126, 0.1165776085152252, 0.0582888042576126, 0.1165776085152252, 0.1165776085152252, 0.1165776085152252, 0.0582888042576126, 0.0582888042576126, 0.09701322272720452, 0.09701322272720452, 0.19402644545440903, 0.09701322272720452, 0.19402644545440903, 0.09701322272720452, 0.09701322272720452, 0.09701322272720452, 0.09701322272720452, 0.09701322272720452, 0.16586474197955778, 0.16586474197955778, 0.16586474197955778, 0.16586474197955778, 0.16586474197955778, 0.16586474197955778, 0.16586474197955778, 0.14484700513814072, 0.14484700513814072, 0.14484700513814072, 0.14484700513814072, 0.14484700513814072, 0.14484700513814072, 0.14484700513814072, 0.14484700513814072, 0.23248918139338498, 0.23248918139338498, 0.2898962406222485, 0.12931093104795824, 0.12931093104795824, 0.12931093104795824, 0.06465546552397912, 0.06465546552397912, 0.12931093104795824, 0.12931093104795824, 0.06465546552397912, 0.06465546552397912, 0.12931093104795824, 0.07264113946851893, 0.14528227893703785, 0.14528227893703785, 0.07264113946851893, 0.14528227893703785, 0.07264113946851893, 0.07264113946851893, 0.07264113946851893, 0.07264113946851893, 0.14528227893703785, 0.1660661697094155, 0.0553553899031385, 0.13838847475784624, 0.0553553899031385, 0.13838847475784624, 0.13838847475784624, 0.08303308485470776, 0.0553553899031385, 0.08303308485470776, 0.110710779806277, 0.08296737862944692, 0.08296737862944692, 0.08296737862944692, 0.08296737862944692, 0.16593475725889384, 0.08296737862944692, 0.08296737862944692, 0.08296737862944692, 0.08296737862944692, 0.08296737862944692, 0.05829820798072144, 0.05829820798072144, 0.17489462394216432, 0.11659641596144288, 0.11659641596144288, 0.11659641596144288, 0.11659641596144288, 0.11659641596144288, 0.11659641596144288, 0.05829820798072144, 0.29069544591025515, 0.23225415368008756, 0.11612707684004378, 0.11612707684004378, 0.11612707684004378, 0.11612707684004378, 0.11612707684004378, 0.11612707684004378, 0.11612707684004378, 0.11612707684004378, 0.11612707684004378, 0.14507232105850135, 0.14507232105850135, 0.14507232105850135, 0.14507232105850135, 0.14507232105850135, 0.14507232105850135, 0.14507232105850135, 0.14507232105850135, 0.14507232105850135, 0.06186789412868905, 0.09623894642240519, 0.13060999871612133, 0.0721792098168039, 0.0721792098168039, 0.1237357882573781, 0.13060999871612133, 0.13060999871612133, 0.08592763073429034, 0.09280184119303357, 0.19364532413871957, 0.19364532413871957, 0.19364532413871957, 0.19364532413871957, 0.2902652400887778, 0.08175040567919718, 0.06540032454335774, 0.09810048681503662, 0.11445056795087606, 0.09810048681503662, 0.08175040567919718, 0.09810048681503662, 0.14715073022255493, 0.1308006490867155, 0.08175040567919718, 0.11618782842108591, 0.058093914210542955, 0.11618782842108591, 0.058093914210542955, 0.11618782842108591, 0.11618782842108591, 0.11618782842108591, 0.11618782842108591, 0.11618782842108591, 0.11618782842108591, 0.10106688016027478, 0.10106688016027478, 0.15160032024041217, 0.10106688016027478, 0.10106688016027478, 0.10106688016027478, 0.10106688016027478, 0.10106688016027478, 0.10106688016027478, 0.15160032024041217, 0.10569480128146516, 0.10569480128146516, 0.10569480128146516, 0.10569480128146516, 0.10569480128146516, 0.10569480128146516, 0.10569480128146516, 0.10569480128146516, 0.10569480128146516, 0.10569480128146516, 0.15835620975031156, 0.1055708065002077, 0.1055708065002077, 0.05278540325010385, 0.1055708065002077, 0.05278540325010385, 0.1055708065002077, 0.1055708065002077, 0.05278540325010385, 0.15835620975031156, 0.2904338845783129, 0.1452551129875065, 0.1452551129875065, 0.1452551129875065, 0.1452551129875065, 0.1452551129875065, 0.1452551129875065, 0.1452551129875065, 0.1452551129875065, 0.1452551129875065, 0.1452551129875065, 0.09319223816521621, 0.09319223816521621, 0.09319223816521621, 0.13978835724782432, 0.046596119082608106, 0.13978835724782432, 0.13978835724782432, 0.09319223816521621, 0.09319223816521621, 0.09319223816521621, 0.09672484022261223, 0.06448322681507482, 0.09672484022261223, 0.06448322681507482, 0.11284564692638092, 0.09672484022261223, 0.11284564692638092, 0.09672484022261223, 0.11284564692638092, 0.12896645363014964, 0.09680033567228195, 0.09680033567228195, 0.09680033567228195, 0.09680033567228195, 0.09680033567228195, 0.09680033567228195, 0.09680033567228195, 0.09680033567228195, 0.1936006713445639, 0.09680033567228195, 0.1103351163204772, 0.11367860469382499, 0.08358720933369485, 0.07021325584030368, 0.08024372096034706, 0.1069916279471294, 0.09696116282708601, 0.12370906981386837, 0.1069916279471294, 0.1036481395737816, 0.29115690080730505, 0.2898459058572451, 0.11237348506027243, 0.07491565670684829, 0.11237348506027243, 0.11237348506027243, 0.07491565670684829, 0.11237348506027243, 0.14983131341369657, 0.07491565670684829, 0.11237348506027243, 0.14983131341369657, 0.15506093730488457, 0.11629570297866343, 0.03876523432622114, 0.11629570297866343, 0.07753046865244229, 0.07753046865244229, 0.11629570297866343, 0.03876523432622114, 0.07753046865244229, 0.11629570297866343, 0.11055396078052862, 0.05527698039026431, 0.11055396078052862, 0.05527698039026431, 0.11055396078052862, 0.05527698039026431, 0.11055396078052862, 0.16583094117079292, 0.11055396078052862, 0.11055396078052862, 0.13678522657493405, 0.10258891993120053, 0.10258891993120053, 0.10258891993120053, 0.06839261328746703, 0.10258891993120053, 0.10258891993120053, 0.06839261328746703, 0.10258891993120053, 0.13678522657493405, 0.2901252235634424, 0.2329170959643361, 0.2329170959643361, 0.12877950674454847, 0.12877950674454847, 0.12877950674454847, 0.12877950674454847, 0.12877950674454847, 0.12877950674454847, 0.12877950674454847, 0.12877950674454847, 0.12877950674454847, 0.12877950674454847, 0.11631846862538466, 0.11631846862538466, 0.11631846862538466, 0.11631846862538466, 0.11631846862538466, 0.11631846862538466, 0.11631846862538466, 0.11631846862538466, 0.11631846862538466, 0.11631846862538466, 0.06117712687437468, 0.12235425374874936, 0.06117712687437468, 0.06117712687437468, 0.12235425374874936, 0.12235425374874936, 0.06117712687437468, 0.12235425374874936, 0.06117712687437468, 0.12235425374874936, 0.23213000497089709, 0.1393653073813505, 0.09291020492090034, 0.06968265369067525, 0.11613775615112541, 0.06968265369067525, 0.1393653073813505, 0.04645510246045017, 0.1393653073813505, 0.11613775615112541, 0.06968265369067525, 0.11587619521180145, 0.057938097605900726, 0.11587619521180145, 0.11587619521180145, 0.11587619521180145, 0.057938097605900726, 0.057938097605900726, 0.11587619521180145, 0.057938097605900726, 0.11587619521180145, 0.10163145003165568, 0.0609788700189934, 0.1219577400379868, 0.14228403004431794, 0.0609788700189934, 0.08130516002532454, 0.08130516002532454, 0.10163145003165568, 0.10163145003165568, 0.16261032005064907, 0.08023135836082494, 0.12034703754123742, 0.08023135836082494, 0.04011567918041247, 0.12034703754123742, 0.08023135836082494, 0.08023135836082494, 0.12034703754123742, 0.16046271672164988, 0.08023135836082494, 0.28997527858891087, 0.12963640177720634, 0.12963640177720634, 0.12963640177720634, 0.12963640177720634, 0.12963640177720634, 0.12963640177720634, 0.12963640177720634, 0.12963640177720634, 0.12963640177720634, 0.1455731906083962, 0.1455731906083962, 0.1455731906083962, 0.1455731906083962, 0.1455731906083962, 0.1455731906083962, 0.1455731906083962, 0.11653190682883927, 0.11653190682883927, 0.11653190682883927, 0.11653190682883927, 0.11653190682883927, 0.11653190682883927, 0.11653190682883927, 0.11653190682883927, 0.11653190682883927, 0.1451720498844745, 0.1451720498844745, 0.1451720498844745, 0.1451720498844745, 0.1451720498844745, 0.1451720498844745, 0.1451720498844745, 0.1451720498844745, 0.1451720498844745, 0.06832226846517114, 0.06832226846517114, 0.06832226846517114, 0.1366445369303423, 0.06832226846517114, 0.06832226846517114, 0.1366445369303423, 0.06832226846517114, 0.1366445369303423, 0.06832226846517114, 0.1940287125248585, 0.1940287125248585, 0.1940287125248585, 0.1940287125248585, 0.1940287125248585, 0.0970232397907526, 0.0970232397907526, 0.0970232397907526, 0.0970232397907526, 0.0970232397907526, 0.0970232397907526, 0.1940464795815052, 0.0970232397907526, 0.0970232397907526, 0.0970232397907526, 0.2899416322641272, 0.10047308126647722, 0.18300454087822637, 0.06817816228796668, 0.10764972992836845, 0.06458983795702107, 0.11841470292120529, 0.08253145961174914, 0.08611978394269476, 0.07894313528080353, 0.10764972992836845, 0.09984918988860694, 0.13313225318480926, 0.13313225318480926, 0.16641531648101157, 0.09984918988860694, 0.09984918988860694, 0.06656612659240463, 0.06656612659240463, 0.06656612659240463, 0.06656612659240463, 0.04637285672709014, 0.09274571345418028, 0.09274571345418028, 0.09274571345418028, 0.1391185701812704, 0.09274571345418028, 0.1391185701812704, 0.09274571345418028, 0.09274571345418028, 0.1391185701812704, 0.058100177772669064, 0.058100177772669064, 0.11620035554533813, 0.058100177772669064, 0.11620035554533813, 0.17430053331800718, 0.058100177772669064, 0.058100177772669064, 0.11620035554533813, 0.11620035554533813, 0.11636301695891635, 0.11636301695891635, 0.11636301695891635, 0.11636301695891635, 0.11636301695891635, 0.11636301695891635, 0.11636301695891635, 0.11636301695891635, 0.11636301695891635, 0.11636301695891635, 0.10101750133632628, 0.10101750133632628, 0.05050875066816314, 0.1515262520044894, 0.05050875066816314, 0.10101750133632628, 0.10101750133632628, 0.10101750133632628, 0.1515262520044894, 0.10101750133632628, 0.16622159415913104, 0.08311079707956552, 0.08311079707956552, 0.08311079707956552, 0.08311079707956552, 0.08311079707956552, 0.16622159415913104, 0.08311079707956552, 0.08311079707956552, 0.08311079707956552, 0.08936572794666238, 0.08936572794666238, 0.08936572794666238, 0.08936572794666238, 0.17873145589332476, 0.08936572794666238, 0.08936572794666238, 0.08936572794666238, 0.08936572794666238, 0.08936572794666238, 0.12937474784049743, 0.07762484870429845, 0.07762484870429845, 0.07762484870429845, 0.07762484870429845, 0.07762484870429845, 0.20699959654479588, 0.05174989913619897, 0.07762484870429845, 0.12937474784049743, 0.1659998530312707, 0.1659998530312707, 0.1659998530312707, 0.1659998530312707, 0.1659998530312707, 0.1659998530312707, 0.1659998530312707, 0.1659998530312707, 0.1659998530312707, 0.14516271401737227, 0.14516271401737227, 0.14516271401737227, 0.14516271401737227, 0.14516271401737227, 0.14516271401737227, 0.14516271401737227, 0.14516271401737227, 0.2328961479112484, 0.12968703777857957, 0.12968703777857957, 0.12968703777857957, 0.12968703777857957, 0.12968703777857957, 0.12968703777857957, 0.12968703777857957, 0.12968703777857957, 0.12968703777857957, 0.12968703777857957, 0.23316155211039002, 0.23316155211039002, 0.23316155211039002, 0.23316155211039002, 0.1057301378040576, 0.1057301378040576, 0.1057301378040576, 0.1057301378040576, 0.1057301378040576, 0.1057301378040576, 0.1057301378040576, 0.1057301378040576, 0.1057301378040576, 0.1057301378040576, 0.08595463939728715, 0.06804742285618566, 0.11102474255482923, 0.11102474255482923, 0.11460618586304953, 0.09311752601372775, 0.09311752601372775, 0.1540020622534728, 0.06446597954796536, 0.10386185593838863, 0.29019639920041496, 0.11614422246272363, 0.11614422246272363, 0.11614422246272363, 0.11614422246272363, 0.11614422246272363, 0.11614422246272363, 0.11614422246272363, 0.11614422246272363, 0.11614422246272363, 0.11614422246272363, 0.05801588206498303, 0.05801588206498303, 0.11603176412996606, 0.11603176412996606, 0.11603176412996606, 0.05801588206498303, 0.05801588206498303, 0.17404764619494908, 0.11603176412996606, 0.11603176412996606, 0.23249951800089858, 0.23249951800089858, 0.16593507629341625, 0.16593507629341625, 0.16593507629341625, 0.16593507629341625, 0.16593507629341625, 0.16593507629341625, 0.16593507629341625, 0.16593507629341625, 0.055441443660510285, 0.11088288732102057, 0.11088288732102057, 0.055441443660510285, 0.11088288732102057, 0.11088288732102057, 0.11088288732102057, 0.055441443660510285, 0.16632433098153088, 0.11088288732102057, 0.16569277765523918, 0.16569277765523918, 0.16569277765523918, 0.16569277765523918, 0.16569277765523918, 0.16569277765523918, 0.16569277765523918, 0.16569277765523918, 0.16604286397978837, 0.16604286397978837, 0.16604286397978837, 0.16604286397978837, 0.16604286397978837, 0.16604286397978837, 0.16604286397978837, 0.16604286397978837, 0.2907256475571053, 0.14505385577060845, 0.14505385577060845, 0.14505385577060845, 0.14505385577060845, 0.14505385577060845, 0.14505385577060845, 0.14505385577060845, 0.14505385577060845, 0.14505385577060845, 0.12254689211389215, 0.12254689211389215, 0.061273446056946075, 0.12254689211389215, 0.12254689211389215, 0.12254689211389215, 0.061273446056946075, 0.061273446056946075, 0.12254689211389215, 0.061273446056946075, 0.12919793705256472, 0.12919793705256472, 0.12919793705256472, 0.12919793705256472, 0.12919793705256472, 0.12919793705256472, 0.12919793705256472, 0.12919793705256472, 0.12919793705256472, 0.12919793705256472, 0.23217627745835678, 0.23217627745835678, 0.11620680361496558, 0.11620680361496558, 0.11620680361496558, 0.11620680361496558, 0.11620680361496558, 0.11620680361496558, 0.11620680361496558, 0.11620680361496558, 0.11620680361496558, 0.11620680361496558, 0.1450993111280682, 0.1450993111280682, 0.1450993111280682, 0.1450993111280682, 0.1450993111280682, 0.1450993111280682, 0.07276947602879796, 0.14553895205759593, 0.10915421404319693, 0.10915421404319693, 0.10915421404319693, 0.18192369007199488, 0.10915421404319693, 0.07276947602879796, 0.07276947602879796, 0.07276947602879796, 0.055554865473365675, 0.166664596420097, 0.055554865473365675, 0.11110973094673135, 0.11110973094673135, 0.11110973094673135, 0.11110973094673135, 0.11110973094673135, 0.11110973094673135, 0.055554865473365675, 0.08307043833129357, 0.08307043833129357, 0.08307043833129357, 0.08307043833129357, 0.08307043833129357, 0.16614087666258714, 0.08307043833129357, 0.08307043833129357, 0.08307043833129357, 0.08307043833129357, 0.08601902127592245, 0.08601902127592245, 0.08601902127592245, 0.08601902127592245, 0.08601902127592245, 0.08601902127592245, 0.08601902127592245, 0.08601902127592245, 0.08601902127592245, 0.1290285319138837, 0.23260821128413908, 0.23260821128413908, 0.23260821128413908, 0.16035987988238887, 0.08017993994119443, 0.12026990991179164, 0.08017993994119443, 0.08017993994119443, 0.08017993994119443, 0.08017993994119443, 0.12026990991179164, 0.08017993994119443, 0.08017993994119443, 0.1291611756709235, 0.1291611756709235, 0.1291611756709235, 0.1291611756709235, 0.1291611756709235, 0.1291611756709235, 0.1291611756709235, 0.1291611756709235, 0.1291611756709235, 0.1291611756709235, 0.10128604703570022, 0.1266075587946253, 0.07596453527677517, 0.10128604703570022, 0.07596453527677517, 0.10128604703570022, 0.07596453527677517, 0.10128604703570022, 0.15192907055355034, 0.07596453527677517, 0.19374216686288812, 0.19374216686288812, 0.19374216686288812, 0.19374216686288812, 0.19374216686288812, 0.1328400779325772, 0.10052762654357193, 0.07898599228423508, 0.15438171219191404, 0.0969373541670158, 0.10052762654357193, 0.0969373541670158, 0.0718054475311228, 0.0969373541670158, 0.06821517515456667, 0.05821681357479196, 0.11643362714958393, 0.11643362714958393, 0.05821681357479196, 0.05821681357479196, 0.11643362714958393, 0.17465044072437588, 0.11643362714958393, 0.11643362714958393, 0.11643362714958393, 0.16582244089900489, 0.05527414696633497, 0.11054829393266993, 0.11054829393266993, 0.11054829393266993, 0.11054829393266993, 0.05527414696633497, 0.11054829393266993, 0.11054829393266993, 0.11054829393266993, 0.10124736348332901, 0.10124736348332901, 0.10124736348332901, 0.10124736348332901, 0.10124736348332901, 0.10124736348332901, 0.1518710452249935, 0.10124736348332901, 0.1518710452249935, 0.050623681741664504, 0.19375029317628695, 0.19375029317628695, 0.19375029317628695, 0.19375029317628695, 0.19375029317628695, 0.11095649054300097, 0.11095649054300097, 0.11095649054300097, 0.055478245271500484, 0.055478245271500484, 0.11095649054300097, 0.11095649054300097, 0.11095649054300097, 0.11095649054300097, 0.11095649054300097, 0.12856783989603873, 0.12856783989603873, 0.12856783989603873, 0.12856783989603873, 0.12856783989603873, 0.12856783989603873, 0.12856783989603873, 0.12856783989603873, 0.12856783989603873, 0.2327195595807576, 0.2327195595807576, 0.09331282470624594, 0.14793496599770697, 0.0978646698138677, 0.07510544427575892, 0.056898063845271914, 0.1251757404595982, 0.11152020513673296, 0.10469243747530033, 0.11834797279816558, 0.07055359916813718, 0.2909616351284833, 0.0647203654976859, 0.0647203654976859, 0.1294407309953718, 0.0647203654976859, 0.0647203654976859, 0.0647203654976859, 0.19416109649305768, 0.0647203654976859, 0.0647203654976859, 0.1294407309953718, 0.05058164690433271, 0.10116329380866541, 0.1517449407129981, 0.10116329380866541, 0.10116329380866541, 0.10116329380866541, 0.10116329380866541, 0.10116329380866541, 0.05058164690433271, 0.10116329380866541, 0.11266676691130606, 0.0751111779408707, 0.0751111779408707, 0.0751111779408707, 0.0751111779408707, 0.11266676691130606, 0.11266676691130606, 0.0751111779408707, 0.1502223558817414, 0.11266676691130606, 0.09343525034957716, 0.1078099042495121, 0.10062257729954463, 0.10062257729954463, 0.1078099042495121, 0.12218455814944706, 0.10062257729954463, 0.09343525034957716, 0.10062257729954463, 0.068279606024691, 0.21825958474995258, 0.09660670144670032, 0.06798249361064097, 0.07513854556965581, 0.1288089352622671, 0.07513854556965581, 0.10376275340571517, 0.06798249361064097, 0.09660670144670032, 0.07513854556965581, 0.2904206584547872, 0.12921196300475693, 0.12921196300475693, 0.12921196300475693, 0.12921196300475693, 0.12921196300475693, 0.12921196300475693, 0.12921196300475693, 0.12921196300475693, 0.12921196300475693, 0.12921196300475693, 0.16585716745947113, 0.16585716745947113, 0.16585716745947113, 0.16585716745947113, 0.16585716745947113, 0.16585716745947113, 0.16585716745947113, 0.2907134364330455, 0.23309621147033863, 0.23309621147033863, 0.1935197674052002, 0.1935197674052002, 0.1935197674052002, 0.1935197674052002, 0.1935197674052002, 0.1456880522992826, 0.1456880522992826, 0.1456880522992826, 0.1456880522992826, 0.1456880522992826, 0.1456880522992826, 0.1456880522992826, 0.1456880522992826, 0.1456880522992826, 0.09682878369043899, 0.09682878369043899, 0.09682878369043899, 0.09682878369043899, 0.09682878369043899, 0.09682878369043899, 0.09682878369043899, 0.09682878369043899, 0.09682878369043899, 0.09682878369043899, 0.11599098561425276, 0.05799549280712638, 0.05799549280712638, 0.11599098561425276, 0.11599098561425276, 0.05799549280712638, 0.11599098561425276, 0.11599098561425276, 0.11599098561425276, 0.11599098561425276, 0.11095604080758663, 0.11095604080758663, 0.16643406121137994, 0.055478020403793314, 0.055478020403793314, 0.055478020403793314, 0.055478020403793314, 0.11095604080758663, 0.11095604080758663, 0.11095604080758663, 0.23188947972607374, 0.23188947972607374, 0.23188947972607374, 0.23206326688857107, 0.11636682092574714, 0.11636682092574714, 0.11636682092574714, 0.11636682092574714, 0.11636682092574714, 0.11636682092574714, 0.11636682092574714, 0.11636682092574714, 0.11636682092574714, 0.11636682092574714, 0.11998071404992841, 0.07998714269995227, 0.07998714269995227, 0.11998071404992841, 0.11998071404992841, 0.07998714269995227, 0.11998071404992841, 0.11998071404992841, 0.07998714269995227, 0.11998071404992841, 0.29077985232764186, 0.16595914537564124, 0.16595914537564124, 0.16595914537564124, 0.16595914537564124, 0.16595914537564124, 0.16595914537564124, 0.16595914537564124, 0.16595914537564124, 0.11065838218813571, 0.05532919109406786, 0.11065838218813571, 0.16598757328220357, 0.11065838218813571, 0.11065838218813571, 0.05532919109406786, 0.11065838218813571, 0.11065838218813571, 0.05532919109406786, 0.08271180076942909, 0.08271180076942909, 0.08271180076942909, 0.08271180076942909, 0.08271180076942909, 0.08271180076942909, 0.08271180076942909, 0.08271180076942909, 0.16542360153885818, 0.16542360153885818, 0.09672990744195756, 0.09672990744195756, 0.09672990744195756, 0.09672990744195756, 0.09672990744195756, 0.09672990744195756, 0.09672990744195756, 0.09672990744195756, 0.09672990744195756, 0.19345981488391512, 0.12936705990383254, 0.12936705990383254, 0.12936705990383254, 0.12936705990383254, 0.12936705990383254, 0.12936705990383254, 0.12936705990383254, 0.12936705990383254, 0.12936705990383254, 0.12936705990383254, 0.1162175263547136, 0.1162175263547136, 0.1162175263547136, 0.1162175263547136, 0.0581087631773568, 0.0581087631773568, 0.0581087631773568, 0.1162175263547136, 0.1162175263547136, 0.1162175263547136, 0.12941053678648312, 0.12941053678648312, 0.12941053678648312, 0.12941053678648312, 0.12941053678648312, 0.12941053678648312, 0.12941053678648312, 0.12941053678648312, 0.12941053678648312, 0.23171845646724346, 0.23171845646724346], \"Term\": [\"\\u0627\\u062d\\u062c\\u0632\", \"\\u0627\\u062d\\u062c\\u0632\", \"\\u0627\\u062d\\u062c\\u0632\", \"\\u0627\\u062d\\u062c\\u0632\", \"\\u0627\\u062d\\u062c\\u0632\", \"\\u0627\\u062d\\u062c\\u0632\", \"\\u0627\\u062d\\u062c\\u0632\", \"\\u0627\\u062d\\u062c\\u0632\", \"\\u0627\\u062d\\u062c\\u0632\", \"\\u0627\\u062d\\u062c\\u0632\", \"\\u0627\\u062d\\u0644\\u0627\\u0645\", \"\\u0627\\u062d\\u0644\\u0627\\u0645\", \"\\u0627\\u062d\\u0644\\u0627\\u0645\", \"\\u0627\\u062d\\u0644\\u0627\\u0645\", \"\\u0627\\u062d\\u0644\\u0627\\u0645\", \"\\u0627\\u062d\\u0644\\u0627\\u0645\", \"\\u0627\\u062d\\u0644\\u0627\\u0645\", \"\\u0627\\u062d\\u0644\\u0627\\u0645\", \"\\u0627\\u062d\\u0644\\u0627\\u0645\", \"\\u0627\\u062d\\u0644\\u0627\\u0645\", \"\\u0627\\u062e\\u062a\\u0628\\u0627\\u0631\", \"\\u0627\\u062e\\u062a\\u0628\\u0627\\u0631\", \"\\u0627\\u062e\\u062a\\u0628\\u0627\\u0631\", \"\\u0627\\u062e\\u062a\\u064a\\u0627\\u0631\", \"\\u0627\\u062e\\u062a\\u064a\\u0627\\u0631\", \"\\u0627\\u062e\\u062a\\u064a\\u0627\\u0631\", \"\\u0627\\u062e\\u062a\\u064a\\u0627\\u0631\", \"\\u0627\\u062e\\u062a\\u064a\\u0627\\u0631\", \"\\u0627\\u062e\\u062a\\u064a\\u0627\\u0631\", \"\\u0627\\u062e\\u062a\\u064a\\u0627\\u0631\", \"\\u0627\\u062e\\u062a\\u064a\\u0627\\u0631\", \"\\u0627\\u062e\\u062a\\u064a\\u0627\\u0631\", \"\\u0627\\u062e\\u062a\\u064a\\u0627\\u0631\", \"\\u0627\\u062e\\u0648\\u0627\\u0646\\u064a\", \"\\u0627\\u062e\\u0648\\u0627\\u0646\\u064a\", \"\\u0627\\u062e\\u0648\\u0627\\u0646\\u064a\", \"\\u0627\\u062e\\u0648\\u0627\\u0646\\u064a\", \"\\u0627\\u062e\\u0648\\u0627\\u0646\\u064a\", \"\\u0627\\u062e\\u0648\\u0627\\u0646\\u064a\", \"\\u0627\\u062e\\u0648\\u0627\\u0646\\u064a\", \"\\u0627\\u062e\\u0648\\u0627\\u0646\\u064a\", \"\\u0627\\u062e\\u0648\\u0627\\u0646\\u064a\", \"\\u0627\\u062f\\u064a\\u0644\", \"\\u0627\\u062f\\u064a\\u0644\", \"\\u0627\\u062f\\u064a\\u0644\", \"\\u0627\\u062f\\u064a\\u0644\", \"\\u0627\\u062f\\u064a\\u0644\", \"\\u0627\\u062f\\u064a\\u0644\", \"\\u0627\\u062f\\u064a\\u0644\", \"\\u0627\\u062f\\u064a\\u0644\", \"\\u0627\\u062f\\u064a\\u0644\", \"\\u0627\\u062f\\u064a\\u0644\", \"\\u0627\\u0637\\u0644\\u0628\", \"\\u0627\\u0637\\u0644\\u0628\", \"\\u0627\\u0637\\u0644\\u0628\", \"\\u0627\\u0637\\u0644\\u0628\", \"\\u0627\\u0639\\u0644\\u0627\\u0646\\u0643\", \"\\u0627\\u0639\\u0644\\u0627\\u0646\\u0643\", \"\\u0627\\u0639\\u0644\\u0627\\u0646\\u0643\", \"\\u0627\\u0639\\u0644\\u0627\\u0646\\u0643\", \"\\u0627\\u0639\\u0644\\u0627\\u0646\\u0643\", \"\\u0627\\u0639\\u0644\\u0627\\u0646\\u0643\", \"\\u0627\\u0639\\u0644\\u0627\\u0646\\u0643\", \"\\u0627\\u0639\\u0644\\u0627\\u0646\\u0643\", \"\\u0627\\u0639\\u0644\\u0627\\u0646\\u0643\", \"\\u0627\\u0639\\u0644\\u0627\\u0646\\u0643\", \"\\u0627\\u0644\", \"\\u0627\\u0644\", \"\\u0627\\u0644\", \"\\u0627\\u0644\", \"\\u0627\\u0644\", \"\\u0627\\u0644\", \"\\u0627\\u0644\", \"\\u0627\\u0644\", \"\\u0627\\u0644\", \"\\u0627\\u0644\", \"\\u0627\\u0644\\u0627\\u062c\\u062a\\u0645\\u0627\\u0639\\u064a\", \"\\u0627\\u0644\\u0627\\u062c\\u062a\\u0645\\u0627\\u0639\\u064a\", \"\\u0627\\u0644\\u0627\\u062c\\u062a\\u0645\\u0627\\u0639\\u064a\", \"\\u0627\\u0644\\u0627\\u062c\\u062a\\u0645\\u0627\\u0639\\u064a\", \"\\u0627\\u0644\\u0627\\u062c\\u062a\\u0645\\u0627\\u0639\\u064a\", \"\\u0627\\u0644\\u0627\\u062c\\u062a\\u0645\\u0627\\u0639\\u064a\", \"\\u0627\\u0644\\u0627\\u062c\\u062a\\u0645\\u0627\\u0639\\u064a\", \"\\u0627\\u0644\\u0627\\u062c\\u062a\\u0645\\u0627\\u0639\\u064a\", \"\\u0627\\u0644\\u0627\\u062c\\u062a\\u0645\\u0627\\u0639\\u064a\", \"\\u0627\\u0644\\u0627\\u062c\\u062a\\u0645\\u0627\\u0639\\u064a\", \"\\u0627\\u0644\\u0627\\u062d\\u0633\\u0627\\u0633\", \"\\u0627\\u0644\\u0627\\u062d\\u0633\\u0627\\u0633\", \"\\u0627\\u0644\\u0627\\u062d\\u0633\\u0627\\u0633\", \"\\u0627\\u0644\\u0627\\u062d\\u0633\\u0627\\u0633\", \"\\u0627\\u0644\\u0627\\u062d\\u0633\\u0627\\u0633\", \"\\u0627\\u0644\\u0627\\u062d\\u0633\\u0627\\u0633\", \"\\u0627\\u0644\\u0627\\u062d\\u0633\\u0627\\u0633\", \"\\u0627\\u0644\\u0627\\u062d\\u0633\\u0627\\u0633\", \"\\u0627\\u0644\\u0627\\u062d\\u0633\\u0627\\u0633\", \"\\u0627\\u0644\\u0627\\u062d\\u0633\\u0627\\u0633\", \"\\u0627\\u0644\\u0627\\u0639\\u0645\\u0627\\u0644\", \"\\u0627\\u0644\\u0627\\u0639\\u0645\\u0627\\u0644\", \"\\u0627\\u0644\\u0627\\u0639\\u0645\\u0627\\u0644\", \"\\u0627\\u0644\\u0627\\u0639\\u0645\\u0627\\u0644\", \"\\u0627\\u0644\\u0628\\u0646\\u0627\\u0646\\u064a\\u0647\", \"\\u0627\\u0644\\u0628\\u0646\\u0627\\u0646\\u064a\\u0647\", \"\\u0627\\u0644\\u0628\\u0646\\u0627\\u0646\\u064a\\u0647\", \"\\u0627\\u0644\\u0628\\u0646\\u0627\\u0646\\u064a\\u0647\", \"\\u0627\\u0644\\u0628\\u0646\\u0627\\u0646\\u064a\\u0647\", \"\\u0627\\u0644\\u0628\\u0646\\u0627\\u0646\\u064a\\u0647\", \"\\u0627\\u0644\\u0628\\u0646\\u0627\\u0646\\u064a\\u0647\", \"\\u0627\\u0644\\u0628\\u0646\\u0627\\u0646\\u064a\\u0647\", \"\\u0627\\u0644\\u0628\\u0646\\u0627\\u0646\\u064a\\u0647\", \"\\u0627\\u0644\\u0628\\u0646\\u0627\\u0646\\u064a\\u0647\", \"\\u0627\\u0644\\u0628\\u0646\\u0648\\u0643\", \"\\u0627\\u0644\\u0628\\u0646\\u0648\\u0643\", \"\\u0627\\u0644\\u0628\\u0646\\u0648\\u0643\", \"\\u0627\\u0644\\u0628\\u0646\\u0648\\u0643\", \"\\u0627\\u0644\\u0628\\u0646\\u0648\\u0643\", \"\\u0627\\u0644\\u0628\\u0646\\u0648\\u0643\", \"\\u0627\\u0644\\u0628\\u0646\\u0648\\u0643\", \"\\u0627\\u0644\\u0628\\u0646\\u0648\\u0643\", \"\\u0627\\u0644\\u0628\\u0648\\u0644\\u064a\\u0641\\u0627\\u0631\\u062f\", \"\\u0627\\u0644\\u0628\\u0648\\u0644\\u064a\\u0641\\u0627\\u0631\\u062f\", \"\\u0627\\u0644\\u0628\\u0648\\u0644\\u064a\\u0641\\u0627\\u0631\\u062f\", \"\\u0627\\u0644\\u0628\\u0648\\u0644\\u064a\\u0641\\u0627\\u0631\\u062f\", \"\\u0627\\u0644\\u0628\\u0648\\u0644\\u064a\\u0641\\u0627\\u0631\\u062f\", \"\\u0627\\u0644\\u0628\\u0648\\u0644\\u064a\\u0641\\u0627\\u0631\\u062f\", \"\\u0627\\u0644\\u0628\\u0648\\u0644\\u064a\\u0641\\u0627\\u0631\\u062f\", \"\\u0627\\u0644\\u0628\\u0648\\u0644\\u064a\\u0641\\u0627\\u0631\\u062f\", \"\\u0627\\u0644\\u0628\\u0648\\u0644\\u064a\\u0641\\u0627\\u0631\\u062f\", \"\\u0627\\u0644\\u0628\\u0648\\u0644\\u064a\\u0641\\u0627\\u0631\\u062f\", \"\\u0627\\u0644\\u062a\\u0631\\u0641\\u064a\\u0647\", \"\\u0627\\u0644\\u062a\\u0631\\u0641\\u064a\\u0647\", \"\\u0627\\u0644\\u062a\\u0631\\u0641\\u064a\\u0647\", \"\\u0627\\u0644\\u062a\\u0631\\u0641\\u064a\\u0647\", \"\\u0627\\u0644\\u062a\\u0631\\u0641\\u064a\\u0647\", \"\\u0627\\u0644\\u062a\\u0631\\u0641\\u064a\\u0647\", \"\\u0627\\u0644\\u062a\\u0631\\u0641\\u064a\\u0647\", \"\\u0627\\u0644\\u062a\\u0631\\u0641\\u064a\\u0647\", \"\\u0627\\u0644\\u062a\\u0631\\u0641\\u064a\\u0647\", \"\\u0627\\u0644\\u062a\\u0631\\u0641\\u064a\\u0647\", \"\\u0627\\u0644\\u062a\\u0631\\u0646\\u062f\", \"\\u0627\\u0644\\u062a\\u0631\\u0646\\u062f\", \"\\u0627\\u0644\\u062a\\u0631\\u0646\\u062f\", \"\\u0627\\u0644\\u062a\\u0631\\u0646\\u062f\", \"\\u0627\\u0644\\u062a\\u0631\\u0646\\u062f\", \"\\u0627\\u0644\\u062a\\u0631\\u0646\\u062f\", \"\\u0627\\u0644\\u062a\\u0631\\u0646\\u062f\", \"\\u0627\\u0644\\u062a\\u0631\\u0646\\u062f\", \"\\u0627\\u0644\\u062a\\u0631\\u0646\\u062f\", \"\\u0627\\u0644\\u062a\\u0631\\u0646\\u062f\", \"\\u0627\\u0644\\u062a\\u0648\\u0627\\u0635\\u0644\", \"\\u0627\\u0644\\u062a\\u0648\\u0627\\u0635\\u0644\", \"\\u0627\\u0644\\u062a\\u0648\\u0627\\u0635\\u0644\", \"\\u0627\\u0644\\u062a\\u0648\\u0627\\u0635\\u0644\", \"\\u0627\\u0644\\u062a\\u0648\\u0627\\u0635\\u0644\", \"\\u0627\\u0644\\u062a\\u0648\\u0627\\u0635\\u0644\", \"\\u0627\\u0644\\u062a\\u0648\\u0627\\u0635\\u0644\", \"\\u0627\\u0644\\u062a\\u0648\\u0627\\u0635\\u0644\", \"\\u0627\\u0644\\u062a\\u0648\\u0627\\u0635\\u0644\", \"\\u0627\\u0644\\u062a\\u0648\\u0627\\u0635\\u0644\", \"\\u0627\\u0644\\u062b\\u0627\\u0646\\u064a\\u0647\", \"\\u0627\\u0644\\u062b\\u0627\\u0646\\u064a\\u0647\", \"\\u0627\\u0644\\u062b\\u0627\\u0646\\u064a\\u0647\", \"\\u0627\\u0644\\u062b\\u0627\\u0646\\u064a\\u0647\", \"\\u0627\\u0644\\u062b\\u0627\\u0646\\u064a\\u0647\", \"\\u0627\\u0644\\u062b\\u0627\\u0646\\u064a\\u0647\", \"\\u0627\\u0644\\u062b\\u0627\\u0646\\u064a\\u0647\", \"\\u0627\\u0644\\u062b\\u0627\\u0646\\u064a\\u0647\", \"\\u0627\\u0644\\u062b\\u0627\\u0646\\u064a\\u0647\", \"\\u0627\\u0644\\u062b\\u0627\\u0646\\u064a\\u0647\", \"\\u0627\\u0644\\u062b\\u0642\\u0647\\u0648\\u0644\\u0643\\u0645\", \"\\u0627\\u0644\\u062c\\u064a\\u0644\", \"\\u0627\\u0644\\u062d\", \"\\u0627\\u0644\\u062e\\u062f\\u0645\\u0627\\u062a\", \"\\u0627\\u0644\\u062e\\u062f\\u0645\\u0627\\u062a\", \"\\u0627\\u0644\\u062e\\u062f\\u0645\\u0627\\u062a\", \"\\u0627\\u0644\\u062e\\u062f\\u0645\\u0627\\u062a\", \"\\u0627\\u0644\\u062e\\u062f\\u0645\\u0627\\u062a\", \"\\u0627\\u0644\\u062e\\u062f\\u0645\\u0627\\u062a\", \"\\u0627\\u0644\\u062e\\u062f\\u0645\\u0627\\u062a\", \"\\u0627\\u0644\\u062e\\u062f\\u0645\\u0627\\u062a\", \"\\u0627\\u0644\\u062e\\u062f\\u0645\\u0627\\u062a\", \"\\u0627\\u0644\\u062e\\u064a\\u0627\\u0644\", \"\\u0627\\u0644\\u062e\\u064a\\u0627\\u0644\", \"\\u0627\\u0644\\u062e\\u064a\\u0627\\u0644\", \"\\u0627\\u0644\\u062e\\u064a\\u0627\\u0644\", \"\\u0627\\u0644\\u062e\\u064a\\u0627\\u0644\", \"\\u0627\\u0644\\u062e\\u064a\\u0627\\u0644\", \"\\u0627\\u0644\\u062e\\u064a\\u0627\\u0644\", \"\\u0627\\u0644\\u062e\\u064a\\u0627\\u0644\", \"\\u0627\\u0644\\u062e\\u064a\\u0627\\u0644\", \"\\u0627\\u0644\\u062e\\u064a\\u0627\\u0644\", \"\\u0627\\u0644\\u062e\\u064a\\u0631\", \"\\u0627\\u0644\\u062e\\u064a\\u0631\", \"\\u0627\\u0644\\u062e\\u064a\\u0631\", \"\\u0627\\u0644\\u062e\\u064a\\u0631\", \"\\u0627\\u0644\\u062e\\u064a\\u0631\", \"\\u0627\\u0644\\u062e\\u064a\\u0631\", \"\\u0627\\u0644\\u062e\\u064a\\u0631\", \"\\u0627\\u0644\\u062e\\u064a\\u0631\", \"\\u0627\\u0644\\u062e\\u064a\\u0631\", \"\\u0627\\u0644\\u062e\\u064a\\u0631\", \"\\u0627\\u0644\\u0630\\u0647\\u0628\", \"\\u0627\\u0644\\u0630\\u0647\\u0628\", \"\\u0627\\u0644\\u0630\\u0647\\u0628\", \"\\u0627\\u0644\\u0630\\u0647\\u0628\", \"\\u0627\\u0644\\u0630\\u0647\\u0628\", \"\\u0627\\u0644\\u0630\\u0647\\u0628\", \"\\u0627\\u0644\\u0630\\u0647\\u0628\", \"\\u0627\\u0644\\u0630\\u0647\\u0628\", \"\\u0627\\u0644\\u0630\\u0647\\u0628\", \"\\u0627\\u0644\\u0630\\u0647\\u0628\", \"\\u0627\\u0644\\u0631\", \"\\u0627\\u0644\\u0631\", \"\\u0627\\u0644\\u0631\", \"\\u0627\\u0644\\u0631\\u064a\\u0627\\u0636\", \"\\u0627\\u0644\\u0631\\u064a\\u0627\\u0636\", \"\\u0627\\u0644\\u0631\\u064a\\u0627\\u0636\", \"\\u0627\\u0644\\u0631\\u064a\\u0627\\u0636\", \"\\u0627\\u0644\\u0631\\u064a\\u0627\\u0636\", \"\\u0627\\u0644\\u0631\\u064a\\u0627\\u0636\", \"\\u0627\\u0644\\u0631\\u064a\\u0627\\u0636\", \"\\u0627\\u0644\\u0631\\u064a\\u0627\\u0636\", \"\\u0627\\u0644\\u0631\\u064a\\u0627\\u0636\", \"\\u0627\\u0644\\u0631\\u064a\\u0627\\u0636\", \"\\u0627\\u0644\\u0632\\u062c\\u0627\\u062c\\u064a\", \"\\u0627\\u0644\\u0632\\u062c\\u0627\\u062c\\u064a\", \"\\u0627\\u0644\\u0632\\u062c\\u0627\\u062c\\u064a\", \"\\u0627\\u0644\\u0632\\u062c\\u0627\\u062c\\u064a\", \"\\u0627\\u0644\\u0632\\u062c\\u0627\\u062c\\u064a\", \"\\u0627\\u0644\\u0633\\u0627\\u0647\\u0631\", \"\\u0627\\u0644\\u0633\\u0627\\u0647\\u0631\", \"\\u0627\\u0644\\u0633\\u0627\\u0647\\u0631\", \"\\u0627\\u0644\\u0633\\u062d\\u0628\", \"\\u0627\\u0644\\u0633\\u062d\\u0628\", \"\\u0627\\u0644\\u0633\\u062d\\u0628\", \"\\u0627\\u0644\\u0633\\u062d\\u0628\", \"\\u0627\\u0644\\u0633\\u062d\\u0628\", \"\\u0627\\u0644\\u0633\\u062d\\u0628\", \"\\u0627\\u0644\\u0633\\u062d\\u0628\", \"\\u0627\\u0644\\u0633\\u062d\\u0628\", \"\\u0627\\u0644\\u0633\\u062d\\u0628\", \"\\u0627\\u0644\\u0633\\u062d\\u0628\", \"\\u0627\\u0644\\u0633\\u0639\\u0648\\u062f\\u064a\", \"\\u0627\\u0644\\u0633\\u0639\\u0648\\u062f\\u064a\", \"\\u0627\\u0644\\u0633\\u0639\\u0648\\u062f\\u064a\", \"\\u0627\\u0644\\u0633\\u0639\\u0648\\u062f\\u064a\", \"\\u0627\\u0644\\u0633\\u0639\\u0648\\u062f\\u064a\", \"\\u0627\\u0644\\u0633\\u0639\\u0648\\u062f\\u064a\", \"\\u0627\\u0644\\u0633\\u0639\\u0648\\u062f\\u064a\", \"\\u0627\\u0644\\u0633\\u0639\\u0648\\u062f\\u064a\", \"\\u0627\\u0644\\u0633\\u0639\\u0648\\u062f\\u064a\", \"\\u0627\\u0644\\u0633\\u0639\\u0648\\u062f\\u064a\", \"\\u0627\\u0644\\u0633\\u0639\\u0648\\u062f\\u064a\\u0647\", \"\\u0627\\u0644\\u0633\\u0639\\u0648\\u062f\\u064a\\u0647\", \"\\u0627\\u0644\\u0633\\u0639\\u0648\\u062f\\u064a\\u0647\", \"\\u0627\\u0644\\u0633\\u0639\\u0648\\u062f\\u064a\\u0647\", \"\\u0627\\u0644\\u0633\\u0639\\u0648\\u062f\\u064a\\u0647\", \"\\u0627\\u0644\\u0633\\u0639\\u0648\\u062f\\u064a\\u0647\", \"\\u0627\\u0644\\u0633\\u0639\\u0648\\u062f\\u064a\\u0647\", \"\\u0627\\u0644\\u0633\\u0639\\u0648\\u062f\\u064a\\u0647\", \"\\u0627\\u0644\\u0633\\u0639\\u0648\\u062f\\u064a\\u0647\", \"\\u0627\\u0644\\u0633\\u0639\\u0648\\u062f\\u064a\\u0647\", \"\\u0627\\u0644\\u0634\\u0627\\u0628\", \"\\u0627\\u0644\\u0634\\u0627\\u0628\", \"\\u0627\\u0644\\u0634\\u0627\\u0628\", \"\\u0627\\u0644\\u0634\\u0627\\u0628\", \"\\u0627\\u0644\\u0634\\u0627\\u0628\", \"\\u0627\\u0644\\u0634\\u0627\\u0628\", \"\\u0627\\u0644\\u0634\\u0627\\u0628\", \"\\u0627\\u0644\\u0634\\u0627\\u0628\", \"\\u0627\\u0644\\u0634\\u0627\\u0628\", \"\\u0627\\u0644\\u0634\\u0627\\u0628\", \"\\u0627\\u0644\\u0634\\u062e\\u0635\\u064a\\u0647\", \"\\u0627\\u0644\\u0634\\u062e\\u0635\\u064a\\u0647\", \"\\u0627\\u0644\\u0634\\u062e\\u0635\\u064a\\u0647\", \"\\u0627\\u0644\\u0634\\u062e\\u0635\\u064a\\u0647\", \"\\u0627\\u0644\\u0634\\u062e\\u0635\\u064a\\u0647\", \"\\u0627\\u0644\\u0634\\u062e\\u0635\\u064a\\u0647\", \"\\u0627\\u0644\\u0634\\u062e\\u0635\\u064a\\u0647\", \"\\u0627\\u0644\\u0634\\u062e\\u0635\\u064a\\u0647\", \"\\u0627\\u0644\\u0634\\u062e\\u0635\\u064a\\u0647\", \"\\u0627\\u0644\\u0634\\u062e\\u0635\\u064a\\u0647\", \"\\u0627\\u0644\\u0634\\u0631\\u0627\\u0639\", \"\\u0627\\u0644\\u0634\\u0647\\u064a\\u0631\", \"\\u0627\\u0644\\u0635\\u062d\\u0631\\u0627\\u0621\", \"\\u0627\\u0644\\u0635\\u062d\\u0631\\u0627\\u0621\", \"\\u0627\\u0644\\u0635\\u062d\\u0631\\u0627\\u0621\", \"\\u0627\\u0644\\u0635\\u062d\\u0631\\u0627\\u0621\", \"\\u0627\\u0644\\u0635\\u062d\\u0631\\u0627\\u0621\", \"\\u0627\\u0644\\u0635\\u062d\\u0631\\u0627\\u0621\", \"\\u0627\\u0644\\u0635\\u062d\\u0631\\u0627\\u0621\", \"\\u0627\\u0644\\u0635\\u062d\\u0631\\u0627\\u0621\", \"\\u0627\\u0644\\u0635\\u062d\\u0648\\u064a\", \"\\u0627\\u0644\\u0635\\u062d\\u0648\\u064a\", \"\\u0627\\u0644\\u0635\\u062d\\u0648\\u064a\", \"\\u0627\\u0644\\u0635\\u062d\\u0648\\u064a\", \"\\u0627\\u0644\\u0635\\u062d\\u0648\\u064a\", \"\\u0627\\u0644\\u0635\\u0642\\u0648\\u0631\", \"\\u0627\\u0644\\u0635\\u0642\\u0648\\u0631\", \"\\u0627\\u0644\\u0635\\u0642\\u0648\\u0631\", \"\\u0627\\u0644\\u0635\\u0648\\u0631\\u0647\", \"\\u0627\\u0644\\u0635\\u0648\\u0631\\u0647\", \"\\u0627\\u0644\\u0635\\u0648\\u0631\\u0647\", \"\\u0627\\u0644\\u0635\\u0648\\u0631\\u0647\", \"\\u0627\\u0644\\u0635\\u0648\\u0631\\u0647\", \"\\u0627\\u0644\\u0635\\u0648\\u0631\\u0647\", \"\\u0627\\u0644\\u0635\\u0648\\u0631\\u0647\", \"\\u0627\\u0644\\u0635\\u0648\\u0631\\u0647\", \"\\u0627\\u0644\\u0635\\u0648\\u0631\\u0647\", \"\\u0627\\u0644\\u0635\\u0648\\u0631\\u0647\", \"\\u0627\\u0644\\u0639\\u0627\\u0644\\u0645\\u064a\", \"\\u0627\\u0644\\u0639\\u0627\\u0644\\u0645\\u064a\", \"\\u0627\\u0644\\u0639\\u0627\\u0644\\u0645\\u064a\", \"\\u0627\\u0644\\u0639\\u0627\\u0644\\u0645\\u064a\", \"\\u0627\\u0644\\u0639\\u0627\\u0644\\u0645\\u064a\", \"\\u0627\\u0644\\u0639\\u0631\\u0628\\u064a\", \"\\u0627\\u0644\\u0639\\u0631\\u0628\\u064a\", \"\\u0627\\u0644\\u0639\\u0631\\u0628\\u064a\", \"\\u0627\\u0644\\u0639\\u0631\\u0628\\u064a\", \"\\u0627\\u0644\\u0639\\u0631\\u0628\\u064a\", \"\\u0627\\u0644\\u0639\\u0631\\u0628\\u064a\", \"\\u0627\\u0644\\u0639\\u0631\\u0628\\u064a\", \"\\u0627\\u0644\\u0639\\u0631\\u0628\\u064a\", \"\\u0627\\u0644\\u0639\\u0631\\u0628\\u064a\", \"\\u0627\\u0644\\u0639\\u0631\\u0628\\u064a\", \"\\u0627\\u0644\\u0639\\u0631\\u0636\", \"\\u0627\\u0644\\u0639\\u0631\\u0636\", \"\\u0627\\u0644\\u0639\\u0631\\u0636\", \"\\u0627\\u0644\\u0639\\u0631\\u0636\", \"\\u0627\\u0644\\u0639\\u0631\\u0636\", \"\\u0627\\u0644\\u0639\\u0645\\u0644\", \"\\u0627\\u0644\\u0639\\u0646\\u062f\\u0644\\u064a\\u0628\", \"\\u0627\\u0644\\u0639\\u0646\\u062f\\u0644\\u064a\\u0628\", \"\\u0627\\u0644\\u0639\\u0646\\u062f\\u0644\\u064a\\u0628\", \"\\u0627\\u0644\\u0639\\u0646\\u062f\\u0644\\u064a\\u0628\", \"\\u0627\\u0644\\u0639\\u0646\\u062f\\u0644\\u064a\\u0628\", \"\\u0627\\u0644\\u0639\\u0646\\u062f\\u0644\\u064a\\u0628\", \"\\u0627\\u0644\\u0639\\u0646\\u062f\\u0644\\u064a\\u0628\", \"\\u0627\\u0644\\u0641\\u0626\\u0647\", \"\\u0627\\u0644\\u0641\\u0646\\u0627\\u0646\", \"\\u0627\\u0644\\u0641\\u0646\\u0627\\u0646\", \"\\u0627\\u0644\\u0641\\u0646\\u0627\\u0646\", \"\\u0627\\u0644\\u0641\\u0646\\u0627\\u0646\", \"\\u0627\\u0644\\u0641\\u0646\\u0627\\u0646\", \"\\u0627\\u0644\\u0641\\u0646\\u0627\\u0646\", \"\\u0627\\u0644\\u0641\\u0646\\u0627\\u0646\", \"\\u0627\\u0644\\u0641\\u0646\\u0627\\u0646\", \"\\u0627\\u0644\\u0641\\u0646\\u0627\\u0646\", \"\\u0627\\u0644\\u0641\\u0646\\u0627\\u0646\", \"\\u0627\\u0644\\u0641\\u0646\\u0627\\u0646\\u0647\", \"\\u0627\\u0644\\u0641\\u0646\\u0627\\u0646\\u0647\", \"\\u0627\\u0644\\u0641\\u0646\\u0627\\u0646\\u0647\", \"\\u0627\\u0644\\u0641\\u0646\\u0627\\u0646\\u0647\", \"\\u0627\\u0644\\u0641\\u0646\\u0627\\u0646\\u0647\", \"\\u0627\\u0644\\u0641\\u0646\\u0627\\u0646\\u0647\", \"\\u0627\\u0644\\u0641\\u0646\\u0627\\u0646\\u0647\", \"\\u0627\\u0644\\u0641\\u0646\\u0627\\u0646\\u0647\", \"\\u0627\\u0644\\u0641\\u0646\\u0627\\u0646\\u0647\", \"\\u0627\\u0644\\u0641\\u0646\\u0627\\u0646\\u0647\", \"\\u0627\\u0644\\u0643\\u0626\\u064a\\u0628\", \"\\u0627\\u0644\\u0643\\u0626\\u064a\\u0628\", \"\\u0627\\u0644\\u0645\\u0633\\u0627\\u0628\\u0642\\u0647\", \"\\u0627\\u0644\\u0645\\u0633\\u0627\\u0628\\u0642\\u0647\", \"\\u0627\\u0644\\u0645\\u0633\\u0627\\u0628\\u0642\\u0647\", \"\\u0627\\u0644\\u0645\\u0633\\u0627\\u0628\\u0642\\u0647\", \"\\u0627\\u0644\\u0645\\u0633\\u0627\\u0628\\u0642\\u0647\", \"\\u0627\\u0644\\u0645\\u0633\\u0627\\u0628\\u0642\\u0647\", \"\\u0627\\u0644\\u0645\\u0633\\u0627\\u0628\\u0642\\u0647\", \"\\u0627\\u0644\\u0645\\u0633\\u0627\\u0628\\u0642\\u0647\", \"\\u0627\\u0644\\u0645\\u0633\\u0627\\u0628\\u0642\\u0647\", \"\\u0627\\u0644\\u0645\\u0633\\u0627\\u0628\\u0642\\u0647\", \"\\u0627\\u0644\\u0645\\u0637\\u0644\\u0648\\u0628\\u0647\", \"\\u0627\\u0644\\u0645\\u0637\\u0644\\u0648\\u0628\\u0647\", \"\\u0627\\u0644\\u0645\\u0639\\u0627\\u0632\\u064a\\u0645\", \"\\u0627\\u0644\\u0645\\u0639\\u0627\\u0632\\u064a\\u0645\", \"\\u0627\\u0644\\u0645\\u0639\\u0627\\u0632\\u064a\\u0645\", \"\\u0627\\u0644\\u0645\\u0639\\u0627\\u0632\\u064a\\u0645\", \"\\u0627\\u0644\\u0645\\u0639\\u0627\\u0632\\u064a\\u0645\", \"\\u0627\\u0644\\u0645\\u0639\\u0627\\u0632\\u064a\\u0645\", \"\\u0627\\u0644\\u0645\\u0639\\u0627\\u0632\\u064a\\u0645\", \"\\u0627\\u0644\\u0645\\u0639\\u0627\\u0632\\u064a\\u0645\", \"\\u0627\\u0644\\u0645\\u0639\\u0627\\u0632\\u064a\\u0645\", \"\\u0627\\u0644\\u0645\\u0639\\u0627\\u0632\\u064a\\u0645\", \"\\u0627\\u0644\\u0645\\u0642\\u0637\\u0639\", \"\\u0627\\u0644\\u0645\\u0642\\u0637\\u0639\", \"\\u0627\\u0644\\u0645\\u0643\\u0627\\u0646\", \"\\u0627\\u0644\\u0645\\u0643\\u0627\\u0646\", \"\\u0627\\u0644\\u0645\\u0643\\u0627\\u0646\", \"\\u0627\\u0644\\u0645\\u0643\\u0627\\u0646\", \"\\u0627\\u0644\\u0645\\u0643\\u0627\\u0646\", \"\\u0627\\u0644\\u0645\\u0643\\u0627\\u0646\", \"\\u0627\\u0644\\u0645\\u0643\\u0627\\u0646\", \"\\u0627\\u0644\\u0645\\u0643\\u0627\\u0646\", \"\\u0627\\u0644\\u0645\\u0643\\u0627\\u0646\", \"\\u0627\\u0644\\u0645\\u0643\\u0627\\u0646\", \"\\u0627\\u0644\\u0645\\u0648\\u062b\\u0631\\u0647\", \"\\u0627\\u0644\\u0645\\u0648\\u062b\\u0631\\u0647\", \"\\u0627\\u0644\\u0647\", \"\\u0627\\u0644\\u0647\", \"\\u0627\\u0644\\u0647\", \"\\u0627\\u0644\\u0647\", \"\\u0627\\u0644\\u0647\", \"\\u0627\\u0644\\u0647\", \"\\u0627\\u0644\\u0647\", \"\\u0627\\u0644\\u0647\", \"\\u0627\\u0644\\u0647\", \"\\u0627\\u0644\\u0647\", \"\\u0627\\u0644\\u064a\\u0633\\u0627\", \"\\u0627\\u0644\\u064a\\u0633\\u0627\", \"\\u0627\\u0644\\u064a\\u0633\\u0627\", \"\\u0627\\u0644\\u064a\\u0633\\u0627\", \"\\u0627\\u0644\\u064a\\u0633\\u0627\", \"\\u0627\\u0644\\u064a\\u0633\\u0627\", \"\\u0627\\u0644\\u064a\\u0633\\u0627\", \"\\u0627\\u0644\\u064a\\u0633\\u0627\", \"\\u0627\\u0644\\u064a\\u0633\\u0627\", \"\\u0627\\u0644\\u064a\\u0633\\u0627\", \"\\u0627\\u0644\\u064a\\u0644\", \"\\u0627\\u0644\\u064a\\u0644\", \"\\u0627\\u0644\\u064a\\u0644\", \"\\u0627\\u0644\\u064a\\u0644\", \"\\u0627\\u0644\\u064a\\u0644\", \"\\u0627\\u0644\\u064a\\u0644\", \"\\u0627\\u0644\\u064a\\u0644\", \"\\u0627\\u0644\\u064a\\u0644\", \"\\u0627\\u0644\\u064a\\u0644\", \"\\u0627\\u0644\\u064a\\u0644\", \"\\u0627\\u0644\\u064a\\u0644\\u0647\", \"\\u0627\\u0644\\u064a\\u0644\\u0647\", \"\\u0627\\u0644\\u064a\\u0644\\u0647\", \"\\u0627\\u0644\\u064a\\u0644\\u0647\", \"\\u0627\\u0644\\u064a\\u0644\\u0647\", \"\\u0627\\u0644\\u064a\\u0644\\u0647\", \"\\u0627\\u0644\\u064a\\u0644\\u0647\", \"\\u0627\\u0644\\u064a\\u0644\\u0647\", \"\\u0627\\u0644\\u064a\\u0644\\u0647\", \"\\u0627\\u0644\\u064a\\u0644\\u0647\", \"\\u0627\\u0645\\u0631\\u064a\\u0643\\u0627\", \"\\u0627\\u0645\\u0631\\u064a\\u0643\\u0627\", \"\\u0627\\u0645\\u0631\\u064a\\u0643\\u0627\", \"\\u0627\\u0645\\u0631\\u064a\\u0643\\u0627\", \"\\u0627\\u0645\\u0631\\u064a\\u0643\\u0627\", \"\\u0627\\u0645\\u0631\\u064a\\u0643\\u0627\", \"\\u0627\\u0645\\u0631\\u064a\\u0643\\u0627\", \"\\u0627\\u0645\\u0631\\u064a\\u0643\\u0627\", \"\\u0627\\u0645\\u0631\\u064a\\u0643\\u0627\", \"\\u0627\\u0645\\u0631\\u064a\\u0643\\u0627\", \"\\u0627\\u0645\\u0637\\u0627\\u0631\", \"\\u0627\\u0646\\u062a\", \"\\u0627\\u0646\\u062a\", \"\\u0627\\u0646\\u062a\", \"\\u0627\\u0646\\u063a\\u0627\\u0645\\u0647\", \"\\u0627\\u0646\\u063a\\u0627\\u0645\\u0647\", \"\\u0627\\u0646\\u063a\\u0627\\u0645\\u0647\", \"\\u0627\\u0646\\u063a\\u0627\\u0645\\u0647\", \"\\u0627\\u0646\\u063a\\u0627\\u0645\\u0647\", \"\\u0627\\u0646\\u063a\\u0627\\u0645\\u0647\", \"\\u0627\\u0646\\u063a\\u0627\\u0645\\u0647\", \"\\u0627\\u0646\\u063a\\u0627\\u0645\\u0647\", \"\\u0627\\u0646\\u063a\\u0627\\u0645\\u0647\", \"\\u0627\\u0646\\u063a\\u0627\\u0645\\u0647\", \"\\u0627\\u0646\\u0641\\u0627\\u0633\", \"\\u0627\\u0646\\u0641\\u0627\\u0633\", \"\\u0627\\u0646\\u0641\\u0627\\u0633\", \"\\u0627\\u0646\\u0641\\u0627\\u0633\", \"\\u0627\\u0646\\u0641\\u0627\\u0633\", \"\\u0627\\u0646\\u0641\\u0627\\u0633\", \"\\u0627\\u0646\\u0641\\u0627\\u0633\", \"\\u0627\\u0646\\u0641\\u0627\\u0633\", \"\\u0627\\u0646\\u0641\\u0627\\u0633\", \"\\u0627\\u0646\\u0648\\u0627\\u0639\\u0647\\u0627\", \"\\u0627\\u0646\\u0648\\u0627\\u0639\\u0647\\u0627\", \"\\u0627\\u0646\\u0648\\u0627\\u0639\\u0647\\u0627\", \"\\u0627\\u0646\\u0648\\u0627\\u0639\\u0647\\u0627\", \"\\u0627\\u0646\\u0648\\u0627\\u0639\\u0647\\u0627\", \"\\u0627\\u0646\\u0648\\u0627\\u0639\\u0647\\u0627\", \"\\u0627\\u0646\\u0648\\u0627\\u0639\\u0647\\u0627\", \"\\u0627\\u0646\\u0648\\u0627\\u0639\\u0647\\u0627\", \"\\u0627\\u0646\\u0648\\u0627\\u0639\\u0647\\u0627\", \"\\u0627\\u0646\\u0648\\u0627\\u0639\\u0647\\u0627\", \"\\u0627\\u0646\\u064a\", \"\\u0627\\u0646\\u064a\", \"\\u0627\\u0648\\u0641\\u0631\", \"\\u0627\\u0648\\u0641\\u0631\", \"\\u0627\\u0648\\u0641\\u0631\", \"\\u0628\\u0627\\u0644\", \"\\u0628\\u0627\\u0644\", \"\\u0628\\u0627\\u0644\", \"\\u0628\\u0627\\u0644\", \"\\u0628\\u0627\\u0644\", \"\\u0628\\u0627\\u0644\", \"\\u0628\\u0627\\u0644\", \"\\u0628\\u0627\\u0644\", \"\\u0628\\u0627\\u0644\", \"\\u0628\\u0627\\u0644\", \"\\u0628\\u0627\\u0644\\u062d\\u0627\\u0646\\u0647\", \"\\u0628\\u0627\\u0644\\u062d\\u0627\\u0646\\u0647\", \"\\u0628\\u0627\\u0644\\u062d\\u0627\\u0646\\u0647\", \"\\u0628\\u0627\\u0644\\u062d\\u0627\\u0646\\u0647\", \"\\u0628\\u0627\\u0644\\u062d\\u0627\\u0646\\u0647\", \"\\u0628\\u0627\\u0644\\u062d\\u0627\\u0646\\u0647\", \"\\u0628\\u0627\\u0644\\u062d\\u0627\\u0646\\u0647\", \"\\u0628\\u0627\\u0644\\u062d\\u0627\\u0646\\u0647\", \"\\u0628\\u0627\\u0644\\u062d\\u0627\\u0646\\u0647\", \"\\u0628\\u0627\\u0644\\u062d\\u0627\\u0646\\u0647\", \"\\u0628\\u0627\\u0644\\u062d\\u0633\\u0627\\u0628\", \"\\u0628\\u0627\\u0644\\u062d\\u0633\\u0627\\u0628\", \"\\u0628\\u0627\\u0644\\u062d\\u0633\\u0627\\u0628\", \"\\u0628\\u0627\\u0644\\u062d\\u0633\\u0627\\u0628\", \"\\u0628\\u0627\\u0644\\u062d\\u0633\\u0627\\u0628\", \"\\u0628\\u0627\\u0644\\u062d\\u0633\\u0627\\u0628\", \"\\u0628\\u0627\\u0644\\u062d\\u0633\\u0627\\u0628\", \"\\u0628\\u0627\\u0644\\u062d\\u0633\\u0627\\u0628\", \"\\u0628\\u0627\\u0644\\u062d\\u0633\\u0627\\u0628\", \"\\u0628\\u0627\\u0644\\u062d\\u0633\\u0627\\u0628\", \"\\u0628\\u0627\\u0644\\u062d\\u0641\\u0644\", \"\\u0628\\u0627\\u0644\\u0631\\u064a\\u0627\\u0636\", \"\\u0628\\u0627\\u0644\\u0645\\u0634\\u0627\\u0631\\u0643\\u0647\", \"\\u0628\\u062d\\u0641\\u0644\", \"\\u0628\\u0631\\u062c\\u0648\\u0644\\u0627\\u062a\", \"\\u0628\\u0631\\u062c\\u0648\\u0644\\u0627\\u062a\", \"\\u0628\\u0631\\u062c\\u0648\\u0644\\u0627\\u062a\", \"\\u0628\\u0631\\u062c\\u0648\\u0644\\u0627\\u062a\", \"\\u0628\\u0631\\u062c\\u0648\\u0644\\u0627\\u062a\", \"\\u0628\\u0631\\u062c\\u0648\\u0644\\u0627\\u062a\", \"\\u0628\\u0631\\u062c\\u0648\\u0644\\u0627\\u062a\", \"\\u0628\\u0631\\u062c\\u0648\\u0644\\u0627\\u062a\", \"\\u0628\\u0631\\u062c\\u0648\\u0644\\u0627\\u062a\", \"\\u0628\\u0631\\u062c\\u0648\\u0644\\u0627\\u062a\", \"\\u0628\\u0643\\u0627\\u0641\\u0647\", \"\\u0628\\u0643\\u0627\\u0641\\u0647\", \"\\u0628\\u0643\\u0627\\u0641\\u0647\", \"\\u0628\\u0643\\u0627\\u0641\\u0647\", \"\\u0628\\u0643\\u0627\\u0641\\u0647\", \"\\u0628\\u0643\\u0627\\u0641\\u0647\", \"\\u0628\\u0643\\u0627\\u0641\\u0647\", \"\\u0628\\u0643\\u0627\\u0641\\u0647\", \"\\u0628\\u0643\\u0627\\u0641\\u0647\", \"\\u0628\\u0643\\u0627\\u0641\\u0647\", \"\\u0628\\u0643\\u0631\\u0647\", \"\\u0628\\u0643\\u0631\\u0647\", \"\\u0628\\u0643\\u0631\\u0647\", \"\\u0628\\u0643\\u0631\\u0647\", \"\\u0628\\u0643\\u0631\\u0647\", \"\\u0628\\u0643\\u0631\\u0647\", \"\\u0628\\u0643\\u0631\\u0647\", \"\\u0628\\u0643\\u0631\\u0647\", \"\\u0628\\u0643\\u0631\\u0647\", \"\\u0628\\u0643\\u0631\\u0647\", \"\\u0628\\u0643\\u064a\", \"\\u0628\\u0645\\u0637\\u0639\\u0645\", \"\\u0628\\u0645\\u0637\\u0639\\u0645\", \"\\u0628\\u0645\\u0637\\u0639\\u0645\", \"\\u0628\\u0645\\u0637\\u0639\\u0645\", \"\\u0628\\u0645\\u0637\\u0639\\u0645\", \"\\u0628\\u0645\\u0637\\u0639\\u0645\", \"\\u0628\\u0645\\u0637\\u0639\\u0645\", \"\\u0628\\u0645\\u0637\\u0639\\u0645\", \"\\u0628\\u0645\\u0637\\u0639\\u0645\", \"\\u0628\\u0645\\u0637\\u0639\\u0645\", \"\\u0628\\u0646\\u0639\\u064a\\u0634\\u0647\\u0627\", \"\\u0628\\u0646\\u0639\\u064a\\u0634\\u0647\\u0627\", \"\\u0628\\u0646\\u0639\\u064a\\u0634\\u0647\\u0627\", \"\\u0628\\u0646\\u0639\\u064a\\u0634\\u0647\\u0627\", \"\\u0628\\u0647\\u062c\\u0647\", \"\\u0628\\u0647\\u062c\\u0647\", \"\\u0628\\u0647\\u062c\\u0647\", \"\\u0628\\u0647\\u062c\\u0647\", \"\\u0628\\u0647\\u062c\\u0647\", \"\\u0628\\u0647\\u062c\\u0647\", \"\\u0628\\u0648\\u0644\\u064a\\u0641\\u0627\\u0631\\u062f\", \"\\u0628\\u0648\\u0644\\u064a\\u0641\\u0627\\u0631\\u062f\", \"\\u0628\\u0648\\u0644\\u064a\\u0641\\u0627\\u0631\\u062f\", \"\\u0628\\u0648\\u0644\\u064a\\u0641\\u0627\\u0631\\u062f\", \"\\u0628\\u0648\\u0644\\u064a\\u0641\\u0627\\u0631\\u062f\", \"\\u0628\\u0648\\u0644\\u064a\\u0641\\u0627\\u0631\\u062f\", \"\\u0628\\u0648\\u0644\\u064a\\u0641\\u0627\\u0631\\u062f\", \"\\u0628\\u0648\\u0644\\u064a\\u0641\\u0627\\u0631\\u062f\", \"\\u0628\\u0648\\u0644\\u064a\\u0641\\u0627\\u0631\\u062f\", \"\\u0628\\u0648\\u0644\\u064a\\u0641\\u0627\\u0631\\u062f\", \"\\u0628\\u064a\\u062a\", \"\\u0628\\u064a\\u062a\", \"\\u0628\\u064a\\u062a\", \"\\u0628\\u064a\\u062a\", \"\\u0628\\u064a\\u062a\", \"\\u0628\\u064a\\u062a\", \"\\u0628\\u064a\\u062a\", \"\\u0628\\u064a\\u062a\", \"\\u0628\\u064a\\u062a\", \"\\u0628\\u064a\\u062a\", \"\\u062a\\u0627\", \"\\u062a\\u0627\", \"\\u062a\\u0627\", \"\\u062a\\u0627\", \"\\u062a\\u0627\", \"\\u062a\\u0627\", \"\\u062a\\u0627\", \"\\u062a\\u0627\", \"\\u062a\\u0627\", \"\\u062a\\u0627\", \"\\u062a\\u062c\\u0627\\u0631\\u0628\", \"\\u062a\\u062c\\u0627\\u0631\\u0628\", \"\\u062a\\u062c\\u0627\\u0631\\u0628\", \"\\u062a\\u062c\\u0627\\u0631\\u0628\", \"\\u062a\\u062c\\u0627\\u0631\\u0628\", \"\\u062a\\u062c\\u0627\\u0631\\u0628\", \"\\u062a\\u062c\\u0627\\u0631\\u0628\", \"\\u062a\\u062c\\u0627\\u0631\\u0628\", \"\\u062a\\u062c\\u0627\\u0631\\u0628\", \"\\u062a\\u062c\\u0627\\u0631\\u0628\", \"\\u062a\\u062d\\u062a\\u0627\\u062c\", \"\\u062a\\u062d\\u062a\\u0627\\u062c\", \"\\u062a\\u062d\\u062a\\u0627\\u062c\", \"\\u062a\\u062d\\u062a\\u0627\\u062c\", \"\\u062a\\u062d\\u062a\\u0627\\u062c\", \"\\u062a\\u062d\\u062a\\u0627\\u062c\", \"\\u062a\\u062d\\u062a\\u0627\\u062c\", \"\\u062a\\u062d\\u062a\\u0627\\u062c\", \"\\u062a\\u062d\\u062a\\u0627\\u062c\", \"\\u062a\\u062d\\u062a\\u0627\\u062c\", \"\\u062a\\u062e\\u064a\\u0636\\u0627\\u062a\", \"\\u062a\\u062e\\u064a\\u0644\", \"\\u062a\\u062f\\u0634\\u064a\\u0646\", \"\\u062a\\u0630\\u0627\\u0643\\u0631\", \"\\u062a\\u0630\\u0627\\u0643\\u0631\", \"\\u062a\\u0630\\u0627\\u0643\\u0631\", \"\\u062a\\u0630\\u0627\\u0643\\u0631\", \"\\u062a\\u0630\\u0627\\u0643\\u0631\", \"\\u062a\\u0630\\u0627\\u0643\\u0631\", \"\\u062a\\u0630\\u0627\\u0643\\u0631\", \"\\u062a\\u0630\\u0627\\u0643\\u0631\", \"\\u062a\\u0630\\u0627\\u0643\\u0631\", \"\\u062a\\u0630\\u0627\\u0643\\u0631\", \"\\u062a\\u0630\\u0643\\u0631\\u0647\", \"\\u062a\\u0630\\u0643\\u0631\\u0647\", \"\\u062a\\u0630\\u0643\\u0631\\u0647\", \"\\u062a\\u0630\\u0643\\u0631\\u0647\", \"\\u062a\\u0630\\u0643\\u0631\\u0647\", \"\\u062a\\u0630\\u0643\\u0631\\u0647\", \"\\u062a\\u0630\\u0643\\u0631\\u0647\", \"\\u062a\\u0630\\u0643\\u0631\\u0647\", \"\\u062a\\u0630\\u0643\\u0631\\u0647\", \"\\u062a\\u0631\\u0627\", \"\\u062a\\u0631\\u0627\", \"\\u062a\\u0631\\u0627\", \"\\u062a\\u0631\\u0641\\u064a\\u0647\\u064a\\u0647\", \"\\u062a\\u0631\\u0641\\u064a\\u0647\\u064a\\u0647\", \"\\u062a\\u0631\\u0641\\u064a\\u0647\\u064a\\u0647\", \"\\u062a\\u0631\\u0641\\u064a\\u0647\\u064a\\u0647\", \"\\u062a\\u0631\\u0641\\u064a\\u0647\\u064a\\u0647\", \"\\u062a\\u0631\\u0641\\u064a\\u0647\\u064a\\u0647\", \"\\u062a\\u0631\\u0641\\u064a\\u0647\\u064a\\u0647\", \"\\u062a\\u0631\\u0641\\u064a\\u0647\\u064a\\u0647\", \"\\u062a\\u0631\\u0641\\u064a\\u0647\\u064a\\u0647\", \"\\u062a\\u0631\\u0641\\u064a\\u0647\\u064a\\u0647\", \"\\u062a\\u0631\\u0642\\u0628\\u0648\\u0646\\u0627\", \"\\u062a\\u0631\\u0642\\u0628\\u0648\\u0646\\u0627\", \"\\u062a\\u0631\\u0642\\u0628\\u0648\\u0646\\u0627\", \"\\u062a\\u0631\\u0642\\u0628\\u0648\\u0646\\u0627\", \"\\u062a\\u0631\\u0642\\u0628\\u0648\\u0646\\u0627\", \"\\u062a\\u0631\\u0642\\u0628\\u0648\\u0646\\u0627\", \"\\u062a\\u0631\\u0642\\u0628\\u0648\\u0646\\u0627\", \"\\u062a\\u0631\\u0642\\u0628\\u0648\\u0646\\u0627\", \"\\u062a\\u0631\\u0642\\u0628\\u0648\\u0646\\u0627\", \"\\u062a\\u0631\\u0642\\u0628\\u0648\\u0646\\u0627\", \"\\u062a\\u0631\\u0646\\u062f\", \"\\u062a\\u0633\\u062a\\u0646\\u0627\\u0646\\u064a\", \"\\u062a\\u0633\\u062a\\u0646\\u0627\\u0646\\u064a\", \"\\u062a\\u0633\\u062a\\u0646\\u0627\\u0646\\u064a\", \"\\u062a\\u0633\\u062a\\u0646\\u0627\\u0646\\u064a\", \"\\u062a\\u0633\\u062a\\u0646\\u0627\\u0646\\u064a\", \"\\u062a\\u0633\\u062a\\u0646\\u0627\\u0646\\u064a\", \"\\u062a\\u0633\\u062a\\u0646\\u0627\\u0646\\u064a\", \"\\u062a\\u0633\\u062a\\u0646\\u0627\\u0646\\u064a\", \"\\u062a\\u0633\\u062f\\u064a\\u062f\", \"\\u062a\\u0633\\u0648\\u0642\", \"\\u062a\\u0633\\u0648\\u0642\", \"\\u062a\\u0633\\u0648\\u0642\", \"\\u062a\\u0635\\u062f\\u0631\", \"\\u062a\\u0635\\u062f\\u0631\", \"\\u062a\\u0635\\u062f\\u0631\", \"\\u062a\\u0635\\u062f\\u0631\", \"\\u062a\\u0635\\u062f\\u0631\", \"\\u062a\\u0635\\u062f\\u0631\", \"\\u062a\\u0635\\u062f\\u0631\", \"\\u062a\\u0635\\u062f\\u0631\", \"\\u062a\\u0635\\u062f\\u0631\", \"\\u062a\\u0635\\u062f\\u0631\", \"\\u062a\\u0635\\u0644\\u0643\", \"\\u062a\\u0635\\u0644\\u0643\", \"\\u062a\\u0635\\u0644\\u0643\", \"\\u062a\\u0635\\u0644\\u0643\", \"\\u062a\\u0639\\u0627\\u0644\", \"\\u062a\\u0639\\u0627\\u0644\", \"\\u062a\\u0639\\u0627\\u0644\", \"\\u062a\\u0639\\u0627\\u0644\", \"\\u062a\\u0639\\u0627\\u0644\", \"\\u062a\\u0639\\u0627\\u0644\", \"\\u062a\\u0639\\u0627\\u0644\", \"\\u062a\\u0639\\u0627\\u0644\", \"\\u062a\\u0639\\u0627\\u0644\", \"\\u062a\\u063a\\u0637\\u064a\\u0647\", \"\\u062a\\u063a\\u0637\\u064a\\u0647\", \"\\u062a\\u063a\\u0637\\u064a\\u0647\", \"\\u062a\\u063a\\u0637\\u064a\\u0647\", \"\\u062a\\u063a\\u0637\\u064a\\u0647\", \"\\u062a\\u063a\\u0637\\u064a\\u0647\", \"\\u062a\\u063a\\u0637\\u064a\\u0647\", \"\\u062a\\u063a\\u0637\\u064a\\u0647\", \"\\u062a\\u063a\\u0637\\u064a\\u0647\", \"\\u062a\\u063a\\u0637\\u064a\\u0647\", \"\\u062a\\u0641\\u0648\\u062a\", \"\\u062a\\u0641\\u0648\\u062a\", \"\\u062a\\u0641\\u0648\\u062a\", \"\\u062a\\u0641\\u0648\\u062a\", \"\\u062a\\u0641\\u0648\\u062a\", \"\\u062a\\u0642\\u064a\\u0645\", \"\\u062a\\u0644\\u063a\\u0631\\u0627\\u0645\", \"\\u062a\\u0644\\u063a\\u0631\\u0627\\u0645\", \"\\u062a\\u0644\\u063a\\u0631\\u0627\\u0645\", \"\\u062a\\u0644\\u063a\\u0631\\u0627\\u0645\", \"\\u062a\\u0644\\u063a\\u0631\\u0627\\u0645\", \"\\u062a\\u0644\\u063a\\u0631\\u0627\\u0645\", \"\\u062a\\u0644\\u063a\\u0631\\u0627\\u0645\", \"\\u062a\\u0644\\u063a\\u0631\\u0627\\u0645\", \"\\u062a\\u0644\\u063a\\u0631\\u0627\\u0645\", \"\\u062a\\u0644\\u063a\\u0631\\u0627\\u0645\", \"\\u062a\\u0644\\u0641\\u0632\\u064a\\u0648\\u0646\", \"\\u062a\\u0644\\u0641\\u0632\\u064a\\u0648\\u0646\", \"\\u062a\\u0644\\u0641\\u0632\\u064a\\u0648\\u0646\", \"\\u062a\\u0644\\u0641\\u0632\\u064a\\u0648\\u0646\", \"\\u062a\\u0644\\u0641\\u0632\\u064a\\u0648\\u0646\", \"\\u062a\\u0644\\u0641\\u0632\\u064a\\u0648\\u0646\", \"\\u062a\\u0644\\u0641\\u0632\\u064a\\u0648\\u0646\", \"\\u062a\\u0644\\u0641\\u0632\\u064a\\u0648\\u0646\", \"\\u062a\\u0644\\u0641\\u0632\\u064a\\u0648\\u0646\", \"\\u062a\\u0644\\u0641\\u0632\\u064a\\u0648\\u0646\", \"\\u062a\\u0647\\u062f\\u064a\\u0647\", \"\\u062a\\u0647\\u062f\\u064a\\u0647\", \"\\u062a\\u0647\\u062f\\u064a\\u0647\", \"\\u062a\\u0647\\u062f\\u064a\\u0647\", \"\\u062a\\u0647\\u062f\\u064a\\u0647\", \"\\u062a\\u0647\\u062f\\u064a\\u0647\", \"\\u062a\\u0647\\u062f\\u064a\\u0647\", \"\\u062a\\u0647\\u062f\\u064a\\u0647\", \"\\u062a\\u0647\\u062f\\u064a\\u0647\", \"\\u062a\\u0647\\u062f\\u064a\\u0647\", \"\\u062a\\u0648\\u064a\\u062a\\u0631\", \"\\u062a\\u0648\\u064a\\u062a\\u0631\", \"\\u062a\\u0648\\u064a\\u062a\\u0631\", \"\\u062a\\u0648\\u064a\\u062a\\u0631\", \"\\u062a\\u0648\\u064a\\u062a\\u0631\", \"\\u062a\\u0648\\u064a\\u062a\\u0631\", \"\\u062a\\u0648\\u064a\\u062a\\u0631\", \"\\u062a\\u0648\\u064a\\u062a\\u0631\", \"\\u062a\\u0648\\u064a\\u062a\\u0631\", \"\\u062a\\u0648\\u064a\\u062a\\u0631\", \"\\u062c\\u0627\\u064a\", \"\\u062c\\u0627\\u064a\", \"\\u062c\\u0627\\u064a\", \"\\u062c\\u0627\\u064a\", \"\\u062c\\u0627\\u064a\", \"\\u062c\\u062f\\u0647\", \"\\u062c\\u062f\\u0647\", \"\\u062c\\u062f\\u0647\", \"\\u062c\\u062f\\u0647\", \"\\u062c\\u062f\\u0647\", \"\\u062c\\u062f\\u0647\", \"\\u062c\\u062f\\u0647\", \"\\u062c\\u062f\\u0647\", \"\\u062c\\u062f\\u0647\", \"\\u062c\\u062f\\u0647\", \"\\u062c\\u0644\\u0633\\u0647\", \"\\u062c\\u0644\\u0633\\u0647\", \"\\u062c\\u0644\\u0633\\u0647\", \"\\u062c\\u0644\\u0633\\u0647\", \"\\u062c\\u0644\\u0633\\u0647\", \"\\u062c\\u0644\\u0633\\u0647\", \"\\u062c\\u0644\\u0633\\u0647\", \"\\u062c\\u0644\\u0633\\u0647\", \"\\u062c\\u0644\\u0633\\u0647\", \"\\u062c\\u0645\\u064a\\u0644\", \"\\u062c\\u0645\\u064a\\u0644\", \"\\u062c\\u0645\\u064a\\u0644\", \"\\u062c\\u0645\\u064a\\u0644\", \"\\u062c\\u0645\\u064a\\u0644\", \"\\u062c\\u0645\\u064a\\u0644\", \"\\u062c\\u0645\\u064a\\u0644\", \"\\u062c\\u0645\\u064a\\u0644\", \"\\u062c\\u0645\\u064a\\u0644\", \"\\u062c\\u0645\\u064a\\u0644\", \"\\u062c\\u0648\\u0627\\u0644\\u064a\\u0646\", \"\\u062c\\u0648\\u0627\\u0644\\u064a\\u0646\", \"\\u062c\\u0648\\u0627\\u0644\\u064a\\u0646\", \"\\u062c\\u0648\\u0627\\u0644\\u064a\\u0646\", \"\\u062c\\u0648\\u0627\\u0644\\u064a\\u0646\", \"\\u062c\\u0648\\u0627\\u0644\\u064a\\u0646\", \"\\u062c\\u0648\\u0627\\u0644\\u064a\\u0646\", \"\\u062c\\u0648\\u0627\\u0644\\u064a\\u0646\", \"\\u062c\\u0648\\u0627\\u0644\\u064a\\u0646\", \"\\u062c\\u0648\\u0627\\u0644\\u064a\\u0646\", \"\\u062d\\u0627\\u064a\\u0644\", \"\\u062d\\u062c\\u0647\", \"\\u062d\\u062c\\u0647\", \"\\u062d\\u062c\\u0647\", \"\\u062d\\u062c\\u0647\", \"\\u062d\\u062c\\u0647\", \"\\u062d\\u062c\\u0647\", \"\\u062d\\u062c\\u0647\", \"\\u062d\\u062f\\u064a\\u062f\", \"\\u062d\\u062f\\u064a\\u062f\", \"\\u062d\\u062f\\u064a\\u062f\", \"\\u062d\\u062f\\u064a\\u062f\", \"\\u062d\\u062f\\u064a\\u062f\", \"\\u062d\\u062f\\u064a\\u062f\", \"\\u062d\\u062f\\u064a\\u062f\", \"\\u062d\\u062f\\u064a\\u062f\", \"\\u062d\\u062f\\u064a\\u062f\", \"\\u062d\\u062f\\u064a\\u062f\", \"\\u062d\\u0641\\u0644\\u0627\\u062a\", \"\\u062d\\u0641\\u0644\\u0627\\u062a\", \"\\u062d\\u0641\\u0644\\u0627\\u062a\", \"\\u062d\\u0641\\u0644\\u0627\\u062a\", \"\\u062d\\u0641\\u0644\\u0627\\u062a\", \"\\u062d\\u0641\\u0644\\u0627\\u062a\", \"\\u062d\\u0641\\u0644\\u0627\\u062a\", \"\\u062d\\u0641\\u0644\\u0627\\u062a\", \"\\u062d\\u0641\\u0644\\u0627\\u062a\", \"\\u062d\\u0641\\u0644\\u0627\\u062a\", \"\\u062d\\u0641\\u0644\\u0647\", \"\\u062d\\u0641\\u0644\\u0647\", \"\\u062d\\u0641\\u0644\\u0647\", \"\\u062d\\u0641\\u0644\\u0647\", \"\\u062d\\u0641\\u0644\\u0647\", \"\\u062d\\u0641\\u0644\\u0647\", \"\\u062d\\u0641\\u0644\\u0647\", \"\\u062d\\u0645\\u0627\\u0633\", \"\\u062d\\u0645\\u0627\\u0633\", \"\\u062d\\u0645\\u0627\\u0633\", \"\\u062d\\u0645\\u0627\\u0633\", \"\\u062d\\u0645\\u0627\\u0633\", \"\\u062d\\u0645\\u0627\\u0633\", \"\\u062d\\u0645\\u0627\\u0633\", \"\\u062d\\u0645\\u0627\\u0633\", \"\\u062d\\u0645\\u0627\\u0633\\u0643\\u0645\", \"\\u062d\\u0645\\u0627\\u0633\\u0643\\u0645\", \"\\u062d\\u064a\\u062f\", \"\\u062e\\u0627\\u0635\", \"\\u062e\\u0627\\u0635\", \"\\u062e\\u0627\\u0635\", \"\\u062e\\u0627\\u0635\", \"\\u062e\\u0627\\u0635\", \"\\u062e\\u0627\\u0635\", \"\\u062e\\u0627\\u0635\", \"\\u062e\\u0627\\u0635\", \"\\u062e\\u0627\\u0635\", \"\\u062e\\u0627\\u0635\", \"\\u062e\\u0627\\u0635\\u0647\", \"\\u062e\\u0627\\u0635\\u0647\", \"\\u062e\\u0627\\u0635\\u0647\", \"\\u062e\\u0627\\u0635\\u0647\", \"\\u062e\\u0627\\u0635\\u0647\", \"\\u062e\\u0627\\u0635\\u0647\", \"\\u062e\\u0627\\u0635\\u0647\", \"\\u062e\\u0627\\u0635\\u0647\", \"\\u062e\\u0627\\u0635\\u0647\", \"\\u062e\\u0627\\u0635\\u0647\", \"\\u062e\\u0627\\u0644\\u062f\", \"\\u062e\\u0627\\u0644\\u062f\", \"\\u062e\\u0627\\u0644\\u062f\", \"\\u062e\\u0627\\u0644\\u062f\", \"\\u062e\\u0627\\u0644\\u062f\", \"\\u062e\\u0627\\u0644\\u062f\", \"\\u062e\\u0627\\u0644\\u062f\", \"\\u062e\\u0627\\u0644\\u062f\", \"\\u062e\\u0627\\u0644\\u062f\", \"\\u062e\\u0627\\u0644\\u062f\", \"\\u062e\\u062f\\u0645\\u0627\\u062a\", \"\\u062e\\u062f\\u0645\\u0627\\u062a\", \"\\u062e\\u062f\\u0645\\u0627\\u062a\", \"\\u062e\\u062f\\u0645\\u0627\\u062a\", \"\\u062e\\u062f\\u0645\\u0627\\u062a\", \"\\u062e\\u062f\\u0645\\u0627\\u062a\", \"\\u062e\\u062f\\u0645\\u0627\\u062a\", \"\\u062e\\u062f\\u0645\\u0627\\u062a\", \"\\u062e\\u062f\\u0645\\u0627\\u062a\", \"\\u062e\\u062f\\u0645\\u0627\\u062a\", \"\\u062e\\u0634\\u0628\\u064a\", \"\\u062e\\u0634\\u0628\\u064a\", \"\\u062e\\u0634\\u0628\\u064a\", \"\\u062e\\u0634\\u0628\\u064a\", \"\\u062e\\u0634\\u0628\\u064a\", \"\\u062e\\u0634\\u0628\\u064a\", \"\\u062e\\u0634\\u0628\\u064a\", \"\\u062e\\u0634\\u0628\\u064a\", \"\\u062e\\u0634\\u0628\\u064a\", \"\\u062e\\u0634\\u0628\\u064a\", \"\\u062e\\u0644\\u0635\", \"\\u062e\\u064a\\u0627\\u0644\\u064a\\u0647\", \"\\u062e\\u064a\\u0627\\u0644\\u064a\\u0647\", \"\\u062e\\u064a\\u0627\\u0644\\u064a\\u0647\", \"\\u062e\\u064a\\u0627\\u0644\\u064a\\u0647\", \"\\u062e\\u064a\\u0627\\u0644\\u064a\\u0647\", \"\\u062e\\u064a\\u0627\\u0644\\u064a\\u0647\", \"\\u062e\\u064a\\u0627\\u0644\\u064a\\u0647\", \"\\u062e\\u064a\\u0627\\u0644\\u064a\\u0647\", \"\\u062e\\u064a\\u0627\\u0644\\u064a\\u0647\", \"\\u062e\\u064a\\u0627\\u0644\\u064a\\u0647\", \"\\u062f\\u062e\\u0646\\u0647\", \"\\u062f\\u062e\\u0646\\u0647\", \"\\u062f\\u062e\\u0646\\u0647\", \"\\u062f\\u062e\\u0646\\u0647\", \"\\u062f\\u062e\\u0646\\u0647\", \"\\u062f\\u062e\\u0646\\u0647\", \"\\u062f\\u062e\\u0646\\u0647\", \"\\u062f\\u062e\\u0646\\u0647\", \"\\u062f\\u062e\\u0646\\u0647\", \"\\u0631\\u062a\\u0648\\u064a\\u062a\", \"\\u0631\\u062a\\u0648\\u064a\\u062a\", \"\\u0631\\u062a\\u0648\\u064a\\u062a\", \"\\u0631\\u062a\\u0648\\u064a\\u062a\", \"\\u0631\\u062a\\u0648\\u064a\\u062a\", \"\\u0631\\u062a\\u0648\\u064a\\u062a\", \"\\u0631\\u062a\\u0648\\u064a\\u062a\", \"\\u0631\\u062a\\u0648\\u064a\\u062a\", \"\\u0631\\u062a\\u0648\\u064a\\u062a\", \"\\u0631\\u062a\\u0648\\u064a\\u062a\", \"\\u0631\\u0634\\u0627\", \"\\u0631\\u0634\\u0627\", \"\\u0631\\u0634\\u0627\", \"\\u0631\\u0634\\u0627\", \"\\u0631\\u0646\\u0627\", \"\\u0631\\u064a\\u0627\\u0636\", \"\\u0631\\u064a\\u0627\\u0636\", \"\\u0631\\u064a\\u0627\\u0636\", \"\\u0631\\u064a\\u0627\\u0636\", \"\\u0631\\u064a\\u0627\\u0636\", \"\\u0631\\u064a\\u0627\\u0636\", \"\\u0631\\u064a\\u0627\\u0636\", \"\\u0631\\u064a\\u0627\\u0636\", \"\\u0631\\u064a\\u0627\\u0636\", \"\\u0631\\u064a\\u0627\\u0636\", \"\\u0632\\u0645\\u0627\\u0646\", \"\\u0632\\u0645\\u0627\\u0646\", \"\\u0632\\u0645\\u0627\\u0646\", \"\\u0632\\u0645\\u0627\\u0646\", \"\\u0632\\u0645\\u0627\\u0646\", \"\\u0632\\u0645\\u0627\\u0646\", \"\\u0632\\u0645\\u0627\\u0646\", \"\\u0632\\u0645\\u0627\\u0646\", \"\\u0632\\u0645\\u0627\\u0646\", \"\\u0632\\u0645\\u0627\\u0646\", \"\\u0633\\u062f\\u0627\\u062f\", \"\\u0633\\u062f\\u0627\\u062f\", \"\\u0633\\u062f\\u0627\\u062f\", \"\\u0633\\u062f\\u0627\\u062f\", \"\\u0633\\u062f\\u0627\\u062f\", \"\\u0633\\u062f\\u0627\\u062f\", \"\\u0633\\u062f\\u0627\\u062f\", \"\\u0633\\u062f\\u0627\\u062f\", \"\\u0633\\u062f\\u0627\\u062f\", \"\\u0633\\u062f\\u0627\\u062f\", \"\\u0633\\u0639\\u064a\\u062f\", \"\\u0633\\u0639\\u064a\\u062f\", \"\\u0633\\u0639\\u064a\\u062f\", \"\\u0633\\u0639\\u064a\\u062f\", \"\\u0633\\u0639\\u064a\\u062f\", \"\\u0633\\u0639\\u064a\\u062f\", \"\\u0633\\u0639\\u064a\\u062f\", \"\\u0633\\u0639\\u064a\\u062f\", \"\\u0633\\u0639\\u064a\\u062f\", \"\\u0633\\u0639\\u064a\\u062f\", \"\\u0633\\u0641\\u0627\\u0631\\u064a\", \"\\u0633\\u0641\\u0627\\u0631\\u064a\", \"\\u0633\\u0641\\u0627\\u0631\\u064a\", \"\\u0633\\u0641\\u0627\\u0631\\u064a\", \"\\u0633\\u0641\\u0627\\u0631\\u064a\", \"\\u0633\\u0641\\u0627\\u0631\\u064a\", \"\\u0633\\u0641\\u0627\\u0631\\u064a\", \"\\u0633\\u0641\\u0627\\u0631\\u064a\", \"\\u0633\\u0641\\u0627\\u0631\\u064a\", \"\\u0633\\u0641\\u0627\\u0631\\u064a\", \"\\u0633\\u0644\\u0627\\u0645\", \"\\u0633\\u0645\\u0647\", \"\\u0633\\u0645\\u0647\", \"\\u0633\\u0645\\u0647\", \"\\u0633\\u0645\\u0647\", \"\\u0633\\u0645\\u0647\", \"\\u0633\\u0645\\u0647\", \"\\u0633\\u0645\\u0647\", \"\\u0633\\u0645\\u0647\", \"\\u0633\\u0645\\u0647\", \"\\u0633\\u0645\\u0647\", \"\\u0633\\u064a\\u062a\\u0645\", \"\\u0633\\u064a\\u062a\\u0645\", \"\\u0633\\u064a\\u062a\\u0645\", \"\\u0633\\u064a\\u062a\\u0645\", \"\\u0633\\u064a\\u062a\\u0645\", \"\\u0633\\u064a\\u062a\\u0645\", \"\\u0633\\u064a\\u062a\\u0645\", \"\\u0633\\u064a\\u062a\\u0645\", \"\\u0633\\u064a\\u062a\\u0645\", \"\\u0633\\u064a\\u062a\\u0645\", \"\\u0633\\u064a\\u062a\\u064a\", \"\\u0633\\u064a\\u062a\\u064a\", \"\\u0633\\u064a\\u062a\\u064a\", \"\\u0633\\u064a\\u062a\\u064a\", \"\\u0633\\u064a\\u062a\\u064a\", \"\\u0633\\u064a\\u062a\\u064a\", \"\\u0633\\u064a\\u062a\\u064a\", \"\\u0633\\u064a\\u062a\\u064a\", \"\\u0633\\u064a\\u062a\\u064a\", \"\\u0633\\u064a\\u062a\\u064a\", \"\\u0633\\u064a\\u062f\\u062a\\u064a\", \"\\u0633\\u064a\\u062f\\u062a\\u064a\", \"\\u0633\\u064a\\u062f\\u062a\\u064a\", \"\\u0633\\u064a\\u062f\\u062a\\u064a\", \"\\u0633\\u064a\\u062f\\u062a\\u064a\", \"\\u0633\\u064a\\u062f\\u062a\\u064a\", \"\\u0633\\u064a\\u062f\\u062a\\u064a\", \"\\u0633\\u064a\\u062f\\u062a\\u064a\", \"\\u0633\\u064a\\u062f\\u062a\\u064a\", \"\\u0633\\u064a\\u062f\\u062a\\u064a\", \"\\u0634\\u0627\\u0631\\u0643\", \"\\u0634\\u0627\\u0631\\u0643\", \"\\u0634\\u0627\\u0631\\u0643\", \"\\u0634\\u0627\\u0631\\u0643\", \"\\u0634\\u0627\\u0631\\u0643\", \"\\u0634\\u0627\\u0631\\u0643\", \"\\u0634\\u0627\\u0631\\u0643\", \"\\u0634\\u0627\\u0631\\u0643\", \"\\u0634\\u0627\\u0631\\u0643\", \"\\u0634\\u0627\\u0631\\u0643\", \"\\u0634\\u0627\\u0644\\u064a\\u0647\", \"\\u0634\\u0627\\u0647\\u062f\", \"\\u0634\\u0628\\u064a\\u0647\", \"\\u0634\\u0628\\u064a\\u0647\", \"\\u0634\\u0628\\u064a\\u0647\", \"\\u0634\\u0628\\u064a\\u0647\", \"\\u0634\\u0628\\u064a\\u0647\", \"\\u0634\\u0628\\u064a\\u0647\", \"\\u0634\\u0628\\u064a\\u0647\", \"\\u0634\\u0628\\u064a\\u0647\", \"\\u0634\\u0628\\u064a\\u0647\", \"\\u0634\\u0628\\u064a\\u0647\", \"\\u0634\\u062e\\u0635\", \"\\u0634\\u062e\\u0635\", \"\\u0634\\u062e\\u0635\", \"\\u0634\\u062e\\u0635\", \"\\u0634\\u062e\\u0635\", \"\\u0634\\u062e\\u0635\", \"\\u0634\\u062e\\u0635\", \"\\u0634\\u062e\\u0635\", \"\\u0634\\u062e\\u0635\", \"\\u0634\\u062e\\u0635\", \"\\u0634\\u0631\\u0643\\u0647\", \"\\u0634\\u0631\\u0643\\u0647\", \"\\u0634\\u0631\\u0643\\u0647\", \"\\u0634\\u0631\\u0643\\u0647\", \"\\u0634\\u0631\\u0643\\u0647\", \"\\u0634\\u0631\\u0643\\u0647\", \"\\u0634\\u0631\\u0643\\u0647\", \"\\u0634\\u0631\\u0643\\u0647\", \"\\u0634\\u0631\\u0643\\u0647\", \"\\u0634\\u0631\\u0643\\u0647\", \"\\u0634\\u064a\\u0621\", \"\\u0634\\u064a\\u0621\", \"\\u0634\\u064a\\u0621\", \"\\u0634\\u064a\\u0621\", \"\\u0634\\u064a\\u0621\", \"\\u0634\\u064a\\u0621\", \"\\u0634\\u064a\\u0621\", \"\\u0634\\u064a\\u0621\", \"\\u0634\\u064a\\u0621\", \"\\u0634\\u064a\\u0621\", \"\\u0635\\u0627\\u062d\\u0628\\u0647\", \"\\u0635\\u062f\\u0631\\u0643\", \"\\u0635\\u062f\\u0631\\u0643\", \"\\u0635\\u062f\\u0642\", \"\\u0635\\u062f\\u0642\", \"\\u0635\\u062f\\u0642\", \"\\u0635\\u062f\\u0642\", \"\\u0635\\u062f\\u0642\", \"\\u0635\\u062f\\u0642\", \"\\u0635\\u062f\\u0642\", \"\\u0635\\u062f\\u0642\", \"\\u0635\\u062f\\u0642\", \"\\u0635\\u062f\\u0642\", \"\\u0635\\u0631\\u0627\\u062d\\u0647\", \"\\u0635\\u0631\\u0627\\u062d\\u0647\", \"\\u0635\\u0631\\u0627\\u062d\\u0647\", \"\\u0635\\u0631\\u0627\\u062d\\u0647\", \"\\u0635\\u0631\\u0627\\u062d\\u0647\", \"\\u0635\\u0631\\u0627\\u062d\\u0647\", \"\\u0635\\u0631\\u0627\\u062d\\u0647\", \"\\u0635\\u0631\\u0627\\u062d\\u0647\", \"\\u0635\\u0631\\u0627\\u062d\\u0647\", \"\\u0635\\u0631\\u0627\\u062d\\u0647\", \"\\u0637\\u0627\\u0648\\u0644\\u062a\\u0643\", \"\\u0637\\u0627\\u0648\\u0644\\u062a\\u0643\", \"\\u0637\\u0627\\u0648\\u0644\\u062a\\u0643\", \"\\u0637\\u0627\\u0648\\u0644\\u062a\\u0643\", \"\\u0637\\u0627\\u0648\\u0644\\u062a\\u0643\", \"\\u0637\\u0627\\u0648\\u0644\\u062a\\u0643\", \"\\u0637\\u0627\\u0648\\u0644\\u062a\\u0643\", \"\\u0637\\u0627\\u0648\\u0644\\u062a\\u0643\", \"\\u0637\\u0627\\u0648\\u0644\\u062a\\u0643\", \"\\u0637\\u0627\\u0648\\u0644\\u062a\\u0643\", \"\\u0637\\u0631\\u0628\", \"\\u0637\\u0642\\u0645\", \"\\u0637\\u0642\\u0645\", \"\\u0637\\u0642\\u0645\", \"\\u0637\\u0642\\u0645\", \"\\u0637\\u0642\\u0645\", \"\\u0637\\u0642\\u0645\", \"\\u0637\\u0642\\u0645\", \"\\u0637\\u0642\\u0645\", \"\\u0637\\u0642\\u0645\", \"\\u0637\\u0642\\u0645\", \"\\u0637\\u0644\\u0627\\u0644\", \"\\u0637\\u0644\\u0627\\u0644\", \"\\u0637\\u0644\\u0627\\u0644\", \"\\u0637\\u0644\\u0627\\u0644\", \"\\u0637\\u0644\\u0627\\u0644\", \"\\u0637\\u0644\\u0627\\u0644\", \"\\u0637\\u0644\\u0627\\u0644\", \"\\u0637\\u0644\\u0627\\u0644\", \"\\u0637\\u0644\\u0627\\u0644\", \"\\u0637\\u0644\\u0627\\u0644\", \"\\u0637\\u064a\\u0631\\u0627\\u0646\", \"\\u0637\\u064a\\u0631\\u0627\\u0646\", \"\\u0637\\u064a\\u0631\\u0627\\u0646\", \"\\u0637\\u064a\\u0631\\u0627\\u0646\", \"\\u0637\\u064a\\u0631\\u0627\\u0646\", \"\\u0637\\u064a\\u0631\\u0627\\u0646\", \"\\u0637\\u064a\\u0631\\u0627\\u0646\", \"\\u0637\\u064a\\u0631\\u0627\\u0646\", \"\\u0637\\u064a\\u0631\\u0627\\u0646\", \"\\u0637\\u064a\\u0631\\u0627\\u0646\", \"\\u0639\\u0627\\u0644\\u0645\\u0637\\u0631\", \"\\u0639\\u0627\\u0644\\u0645\\u0637\\u0631\", \"\\u0639\\u0627\\u0644\\u0645\\u0637\\u0631\", \"\\u0639\\u0627\\u0644\\u0645\\u0637\\u0631\", \"\\u0639\\u0627\\u0644\\u0645\\u0637\\u0631\", \"\\u0639\\u0627\\u0644\\u0645\\u0637\\u0631\", \"\\u0639\\u0627\\u0644\\u0645\\u0637\\u0631\", \"\\u0639\\u0627\\u0644\\u0645\\u0637\\u0631\", \"\\u0639\\u0627\\u0644\\u0645\\u0637\\u0631\", \"\\u0639\\u0627\\u0644\\u0645\\u0637\\u0631\", \"\\u0639\\u0627\\u0644\\u0645\\u064a\\u0647\", \"\\u0639\\u0627\\u0644\\u064a\", \"\\u0639\\u0627\\u0644\\u064a\", \"\\u0639\\u0627\\u0644\\u064a\", \"\\u0639\\u0627\\u0644\\u064a\", \"\\u0639\\u0627\\u0644\\u064a\", \"\\u0639\\u0627\\u0644\\u064a\", \"\\u0639\\u0627\\u0644\\u064a\", \"\\u0639\\u0627\\u0644\\u064a\", \"\\u0639\\u0627\\u0644\\u064a\", \"\\u0639\\u0628\\u062f\\u0647\", \"\\u0639\\u0628\\u062f\\u0647\", \"\\u0639\\u0628\\u062f\\u0647\", \"\\u0639\\u0628\\u062f\\u0647\", \"\\u0639\\u0628\\u062f\\u0647\", \"\\u0639\\u0628\\u062f\\u0647\", \"\\u0639\\u0628\\u062f\\u0647\", \"\\u0639\\u062f\\u0646\", \"\\u0639\\u062f\\u0646\", \"\\u0639\\u062f\\u0646\", \"\\u0639\\u062f\\u0646\", \"\\u0639\\u062f\\u0646\", \"\\u0639\\u062f\\u0646\", \"\\u0639\\u062f\\u0646\", \"\\u0639\\u062f\\u0646\", \"\\u0639\\u062f\\u0646\", \"\\u0639\\u0631\\u0628\\u064a\", \"\\u0639\\u0631\\u0628\\u064a\", \"\\u0639\\u0631\\u0628\\u064a\", \"\\u0639\\u0631\\u0628\\u064a\", \"\\u0639\\u0631\\u0628\\u064a\", \"\\u0639\\u0631\\u0628\\u064a\", \"\\u0639\\u0631\\u0628\\u064a\", \"\\u0639\\u0631\\u0628\\u064a\", \"\\u0639\\u0631\\u0628\\u064a\", \"\\u0639\\u0631\\u0636\", \"\\u0639\\u0631\\u0636\", \"\\u0639\\u0631\\u0636\", \"\\u0639\\u0631\\u0636\", \"\\u0639\\u0631\\u0636\", \"\\u0639\\u0631\\u0636\", \"\\u0639\\u0631\\u0636\", \"\\u0639\\u0631\\u0636\", \"\\u0639\\u0631\\u0636\", \"\\u0639\\u0631\\u0636\", \"\\u0639\\u0631\\u0648\\u0633\\u0647\", \"\\u0639\\u0631\\u0648\\u0633\\u0647\", \"\\u0639\\u0631\\u0648\\u0633\\u0647\", \"\\u0639\\u0631\\u0648\\u0633\\u0647\", \"\\u0639\\u0631\\u0648\\u0633\\u0647\", \"\\u0639\\u0634\\u0642\\u0646\\u0627\", \"\\u0639\\u0634\\u0642\\u0646\\u0627\", \"\\u0639\\u0634\\u0642\\u0646\\u0627\", \"\\u0639\\u0634\\u0642\\u0646\\u0627\", \"\\u0639\\u0634\\u0642\\u0646\\u0627\", \"\\u0639\\u0634\\u0642\\u0646\\u0627\", \"\\u0639\\u0634\\u0642\\u0646\\u0627\", \"\\u0639\\u0634\\u0642\\u0646\\u0627\", \"\\u0639\\u0634\\u0642\\u0646\\u0627\", \"\\u0639\\u0634\\u0642\\u0646\\u0627\", \"\\u0639\\u0637\\u0648\", \"\\u0639\\u0644\\u0645\\u0627\", \"\\u0639\\u0644\\u0645\\u0627\", \"\\u0639\\u0644\\u0645\\u0627\", \"\\u0639\\u0644\\u0645\\u0627\", \"\\u0639\\u0644\\u0645\\u0627\", \"\\u0639\\u0644\\u0645\\u0627\", \"\\u0639\\u0644\\u0645\\u0627\", \"\\u0639\\u0644\\u0645\\u0627\", \"\\u0639\\u0644\\u0645\\u0627\", \"\\u0639\\u0644\\u0645\\u0627\", \"\\u0639\\u0646\\u062f\\u0647\\u0645\", \"\\u0639\\u0646\\u062f\\u0647\\u0645\", \"\\u0639\\u0646\\u062f\\u0647\\u0645\", \"\\u0639\\u0646\\u062f\\u0647\\u0645\", \"\\u0639\\u0646\\u062f\\u0647\\u0645\", \"\\u0639\\u0646\\u062f\\u0647\\u0645\", \"\\u0639\\u0646\\u062f\\u0647\\u0645\", \"\\u0639\\u0646\\u062f\\u0647\\u0645\", \"\\u0639\\u0646\\u062f\\u0647\\u0645\", \"\\u0639\\u0646\\u062f\\u0647\\u0645\", \"\\u0641\\u0627\\u0626\\u0632\", \"\\u0641\\u0627\\u0626\\u0632\", \"\\u0641\\u0627\\u0626\\u0632\", \"\\u0641\\u0627\\u0626\\u0632\", \"\\u0641\\u0627\\u0626\\u0632\", \"\\u0641\\u0627\\u0626\\u0632\", \"\\u0641\\u0627\\u0626\\u0632\", \"\\u0641\\u0627\\u0626\\u0632\", \"\\u0641\\u0627\\u0626\\u0632\", \"\\u0641\\u0627\\u0626\\u0632\", \"\\u0641\\u062e\\u0631\", \"\\u0641\\u062e\\u0631\", \"\\u0641\\u062e\\u0631\", \"\\u0641\\u062e\\u0631\", \"\\u0641\\u062e\\u0631\", \"\\u0641\\u062e\\u0631\", \"\\u0641\\u062e\\u0631\", \"\\u0641\\u062e\\u0631\", \"\\u0641\\u062e\\u0631\", \"\\u0641\\u062e\\u0631\", \"\\u0641\\u0631\\u064a\\u062f\\u0647\", \"\\u0641\\u0631\\u064a\\u062f\\u0647\", \"\\u0641\\u0631\\u064a\\u062f\\u0647\", \"\\u0641\\u0631\\u064a\\u062f\\u0647\", \"\\u0641\\u0631\\u064a\\u062f\\u0647\", \"\\u0641\\u0631\\u064a\\u062f\\u0647\", \"\\u0641\\u0631\\u064a\\u062f\\u0647\", \"\\u0641\\u0631\\u064a\\u062f\\u0647\", \"\\u0641\\u0631\\u064a\\u062f\\u0647\", \"\\u0641\\u0631\\u064a\\u062f\\u0647\", \"\\u0641\\u0639\\u0627\\u0644\\u064a\\u0627\\u062a\", \"\\u0641\\u0639\\u0627\\u0644\\u064a\\u0627\\u062a\", \"\\u0641\\u0639\\u0627\\u0644\\u064a\\u0627\\u062a\", \"\\u0641\\u0639\\u0627\\u0644\\u064a\\u0627\\u062a\", \"\\u0641\\u0639\\u0627\\u0644\\u064a\\u0627\\u062a\", \"\\u0641\\u0639\\u0627\\u0644\\u064a\\u0627\\u062a\", \"\\u0641\\u0639\\u0627\\u0644\\u064a\\u0627\\u062a\", \"\\u0641\\u0639\\u0627\\u0644\\u064a\\u0627\\u062a\", \"\\u0641\\u0639\\u0627\\u0644\\u064a\\u0627\\u062a\", \"\\u0641\\u0639\\u0627\\u0644\\u064a\\u0627\\u062a\", \"\\u0641\\u0639\\u0627\\u0644\\u064a\\u0647\", \"\\u0641\\u0639\\u0627\\u0644\\u064a\\u0647\", \"\\u0641\\u0639\\u0627\\u0644\\u064a\\u0647\", \"\\u0641\\u0639\\u0627\\u0644\\u064a\\u0647\", \"\\u0641\\u0639\\u0627\\u0644\\u064a\\u0647\", \"\\u0641\\u0639\\u0627\\u0644\\u064a\\u0647\", \"\\u0641\\u0639\\u0627\\u0644\\u064a\\u0647\", \"\\u0641\\u0639\\u0627\\u0644\\u064a\\u0647\", \"\\u0641\\u0639\\u0627\\u0644\\u064a\\u0647\", \"\\u0641\\u0639\\u0627\\u0644\\u064a\\u0647\", \"\\u0641\\u0646\", \"\\u0641\\u0646\", \"\\u0641\\u0646\", \"\\u0641\\u0646\", \"\\u0641\\u0646\", \"\\u0641\\u0646\", \"\\u0641\\u0646\", \"\\u0641\\u0646\", \"\\u0641\\u0646\", \"\\u0641\\u0646\", \"\\u0641\\u0648\\u0627\\u0632\\u064a\\u0631\", \"\\u0641\\u0648\\u0627\\u0632\\u064a\\u0631\", \"\\u0641\\u0648\\u0627\\u0632\\u064a\\u0631\", \"\\u0641\\u0648\\u0627\\u0632\\u064a\\u0631\", \"\\u0641\\u0648\\u0627\\u0632\\u064a\\u0631\", \"\\u0641\\u0648\\u0627\\u0632\\u064a\\u0631\", \"\\u0641\\u0648\\u0627\\u0632\\u064a\\u0631\", \"\\u0641\\u0648\\u0627\\u0632\\u064a\\u0631\", \"\\u0641\\u0648\\u0627\\u0632\\u064a\\u0631\", \"\\u0641\\u0648\\u0627\\u0632\\u064a\\u0631\", \"\\u0641\\u064a\\u062f\\u064a\\u0648\\u0647\\u0627\\u062a\", \"\\u0641\\u064a\\u062f\\u064a\\u0648\\u0647\\u0627\\u062a\", \"\\u0641\\u064a\\u062f\\u064a\\u0648\\u0647\\u0627\\u062a\", \"\\u0641\\u064a\\u062f\\u064a\\u0648\\u0647\\u0627\\u062a\", \"\\u0641\\u064a\\u062f\\u064a\\u0648\\u0647\\u0627\\u062a\", \"\\u0641\\u064a\\u062f\\u064a\\u0648\\u0647\\u0627\\u062a\", \"\\u0641\\u064a\\u062f\\u064a\\u0648\\u0647\\u0627\\u062a\", \"\\u0641\\u064a\\u062f\\u064a\\u0648\\u0647\\u0627\\u062a\", \"\\u0641\\u064a\\u062f\\u064a\\u0648\\u0647\\u0627\\u062a\", \"\\u0641\\u064a\\u0633\\u0628\\u0648\\u0643\", \"\\u0641\\u064a\\u0633\\u0628\\u0648\\u0643\", \"\\u0641\\u064a\\u0633\\u0628\\u0648\\u0643\", \"\\u0641\\u064a\\u0633\\u0628\\u0648\\u0643\", \"\\u0641\\u064a\\u0633\\u0628\\u0648\\u0643\", \"\\u0641\\u064a\\u0633\\u0628\\u0648\\u0643\", \"\\u0641\\u064a\\u0633\\u0628\\u0648\\u0643\", \"\\u0641\\u064a\\u0633\\u0628\\u0648\\u0643\", \"\\u0642\\u062a\\u0627\\u0644\", \"\\u0642\\u0631\\u0648\\u0636\", \"\\u0642\\u0631\\u0648\\u0636\", \"\\u0642\\u0631\\u0648\\u0636\", \"\\u0642\\u0631\\u0648\\u0636\", \"\\u0642\\u0631\\u0648\\u0636\", \"\\u0642\\u0631\\u0648\\u0636\", \"\\u0642\\u0631\\u0648\\u0636\", \"\\u0642\\u0631\\u0648\\u0636\", \"\\u0642\\u0631\\u0648\\u0636\", \"\\u0642\\u0631\\u0648\\u0636\", \"\\u0642\\u0635\\u0647\", \"\\u0642\\u0635\\u0647\", \"\\u0642\\u0635\\u0647\", \"\\u0642\\u0635\\u0647\", \"\\u0643\\u0627\\u0633\", \"\\u0643\\u0627\\u0633\", \"\\u0643\\u0627\\u0633\", \"\\u0643\\u0627\\u0633\", \"\\u0643\\u0627\\u0633\", \"\\u0643\\u0627\\u0633\", \"\\u0643\\u0627\\u0633\", \"\\u0643\\u0627\\u0633\", \"\\u0643\\u0627\\u0633\", \"\\u0643\\u0627\\u0633\", \"\\u0643\\u0627\\u0634\", \"\\u0643\\u0627\\u0634\", \"\\u0643\\u0627\\u0634\", \"\\u0643\\u0627\\u0634\", \"\\u0643\\u0627\\u0634\", \"\\u0643\\u0627\\u0634\", \"\\u0643\\u0627\\u0634\", \"\\u0643\\u0627\\u0634\", \"\\u0643\\u0627\\u0634\", \"\\u0643\\u0627\\u0634\", \"\\u0643\\u0627\\u0645\\u0644\", \"\\u0643\\u0631\\u064a\\u0633\\u062a\\u0627\\u0644\", \"\\u0643\\u0631\\u064a\\u0633\\u062a\\u0627\\u0644\", \"\\u0643\\u0631\\u064a\\u0633\\u062a\\u0627\\u0644\", \"\\u0643\\u0631\\u064a\\u0633\\u062a\\u0627\\u0644\", \"\\u0643\\u0631\\u064a\\u0633\\u062a\\u0627\\u0644\", \"\\u0643\\u0631\\u064a\\u0633\\u062a\\u0627\\u0644\", \"\\u0643\\u0631\\u064a\\u0633\\u062a\\u0627\\u0644\", \"\\u0643\\u0631\\u064a\\u0633\\u062a\\u0627\\u0644\", \"\\u0643\\u0631\\u064a\\u0633\\u062a\\u0627\\u0644\", \"\\u0643\\u0631\\u064a\\u0633\\u062a\\u0627\\u0644\", \"\\u0644\\u0627\\u0648\\u0646\\u062c\", \"\\u0644\\u0627\\u0648\\u0646\\u062c\", \"\\u0644\\u0627\\u0648\\u0646\\u062c\", \"\\u0644\\u0627\\u0648\\u0646\\u062c\", \"\\u0644\\u0627\\u0648\\u0646\\u062c\", \"\\u0644\\u0627\\u0648\\u0646\\u062c\", \"\\u0644\\u0627\\u0648\\u0646\\u062c\", \"\\u0644\\u0627\\u0648\\u0646\\u062c\", \"\\u0644\\u0627\\u0648\\u0646\\u062c\", \"\\u0644\\u0627\\u0648\\u0646\\u062c\", \"\\u0644\\u062a\\u0631\\u0641\\u064a\\u0647\", \"\\u0644\\u062a\\u0631\\u0641\\u064a\\u0647\", \"\\u0644\\u062d\\u062c\\u0632\", \"\\u0644\\u062d\\u062c\\u0632\", \"\\u0644\\u062d\\u062c\\u0632\", \"\\u0644\\u062d\\u062c\\u0632\", \"\\u0644\\u062d\\u062c\\u0632\", \"\\u0644\\u062d\\u062c\\u0632\", \"\\u0644\\u062d\\u062c\\u0632\", \"\\u0644\\u062d\\u062c\\u0632\", \"\\u0644\\u062d\\u0641\\u0644\", \"\\u0644\\u062d\\u0641\\u0644\", \"\\u0644\\u062d\\u0641\\u0644\", \"\\u0644\\u062d\\u0641\\u0644\", \"\\u0644\\u062d\\u0641\\u0644\", \"\\u0644\\u062d\\u0641\\u0644\", \"\\u0644\\u062d\\u0641\\u0644\", \"\\u0644\\u062d\\u0641\\u0644\", \"\\u0644\\u062d\\u0641\\u0644\", \"\\u0644\\u062d\\u0641\\u0644\", \"\\u0644\\u0635\\u0642\\u0648\\u0631\", \"\\u0644\\u0635\\u0642\\u0648\\u0631\", \"\\u0644\\u0635\\u0642\\u0648\\u0631\", \"\\u0644\\u0635\\u0642\\u0648\\u0631\", \"\\u0644\\u0635\\u0642\\u0648\\u0631\", \"\\u0644\\u0635\\u0642\\u0648\\u0631\", \"\\u0644\\u0635\\u0642\\u0648\\u0631\", \"\\u0644\\u0635\\u0642\\u0648\\u0631\", \"\\u0644\\u0637\\u0628\\u064a\\u0639\\u0647\", \"\\u0644\\u0637\\u0628\\u064a\\u0639\\u0647\", \"\\u0644\\u0637\\u0628\\u064a\\u0639\\u0647\", \"\\u0644\\u0637\\u0628\\u064a\\u0639\\u0647\", \"\\u0644\\u0637\\u0628\\u064a\\u0639\\u0647\", \"\\u0644\\u0637\\u0628\\u064a\\u0639\\u0647\", \"\\u0644\\u0637\\u0628\\u064a\\u0639\\u0647\", \"\\u0644\\u0637\\u0628\\u064a\\u0639\\u0647\", \"\\u0644\\u0641\\u0626\\u0647\", \"\\u0644\\u0641\\u0646\\u0627\\u0646\\u0647\", \"\\u0644\\u0641\\u0646\\u0627\\u0646\\u0647\", \"\\u0644\\u0641\\u0646\\u0627\\u0646\\u0647\", \"\\u0644\\u0641\\u0646\\u0627\\u0646\\u0647\", \"\\u0644\\u0641\\u0646\\u0627\\u0646\\u0647\", \"\\u0644\\u0641\\u0646\\u0627\\u0646\\u0647\", \"\\u0644\\u0641\\u0646\\u0627\\u0646\\u0647\", \"\\u0644\\u0641\\u0646\\u0627\\u0646\\u0647\", \"\\u0644\\u0641\\u0646\\u0627\\u0646\\u0647\", \"\\u0644\\u0643\\u0644\", \"\\u0644\\u0643\\u0644\", \"\\u0644\\u0643\\u0644\", \"\\u0644\\u0643\\u0644\", \"\\u0644\\u0643\\u0644\", \"\\u0644\\u0643\\u0644\", \"\\u0644\\u0643\\u0644\", \"\\u0644\\u0643\\u0644\", \"\\u0644\\u0643\\u0644\", \"\\u0644\\u0643\\u0644\", \"\\u0644\\u0645\\u0633\\u0631\\u062d\\u064a\\u0647\", \"\\u0644\\u0645\\u0633\\u0631\\u062d\\u064a\\u0647\", \"\\u0644\\u0645\\u0633\\u0631\\u062d\\u064a\\u0647\", \"\\u0644\\u0645\\u0633\\u0631\\u062d\\u064a\\u0647\", \"\\u0644\\u0645\\u0633\\u0631\\u062d\\u064a\\u0647\", \"\\u0644\\u0645\\u0633\\u0631\\u062d\\u064a\\u0647\", \"\\u0644\\u0645\\u0633\\u0631\\u062d\\u064a\\u0647\", \"\\u0644\\u0645\\u0633\\u0631\\u062d\\u064a\\u0647\", \"\\u0644\\u0645\\u0633\\u0631\\u062d\\u064a\\u0647\", \"\\u0644\\u0645\\u0633\\u0631\\u062d\\u064a\\u0647\", \"\\u0644\\u0648\\u0642\\u0648\", \"\\u0644\\u0648\\u0642\\u0648\", \"\\u0644\\u064a\\u0644\", \"\\u0644\\u064a\\u0644\", \"\\u0644\\u064a\\u0644\", \"\\u0644\\u064a\\u0644\", \"\\u0644\\u064a\\u0644\", \"\\u0644\\u064a\\u0644\", \"\\u0644\\u064a\\u0644\", \"\\u0644\\u064a\\u0644\", \"\\u0644\\u064a\\u0644\", \"\\u0644\\u064a\\u0644\", \"\\u0644\\u064a\\u0647\", \"\\u0644\\u064a\\u0647\", \"\\u0644\\u064a\\u0647\", \"\\u0644\\u064a\\u0647\", \"\\u0644\\u064a\\u0647\", \"\\u0644\\u064a\\u0647\", \"\\u0645\\u0627\\u0647\\u0648\", \"\\u0645\\u0627\\u0647\\u0648\", \"\\u0645\\u0627\\u0647\\u0648\", \"\\u0645\\u0627\\u0647\\u0648\", \"\\u0645\\u0627\\u0647\\u0648\", \"\\u0645\\u0627\\u0647\\u0648\", \"\\u0645\\u0627\\u0647\\u0648\", \"\\u0645\\u0627\\u0647\\u0648\", \"\\u0645\\u0627\\u0647\\u0648\", \"\\u0645\\u0627\\u0647\\u0648\", \"\\u0645\\u0628\\u0647\\u0631\", \"\\u0645\\u0628\\u0647\\u0631\", \"\\u0645\\u0628\\u0647\\u0631\", \"\\u0645\\u0628\\u0647\\u0631\", \"\\u0645\\u0628\\u0647\\u0631\", \"\\u0645\\u0628\\u0647\\u0631\", \"\\u0645\\u0628\\u0647\\u0631\", \"\\u0645\\u0628\\u0647\\u0631\", \"\\u0645\\u0628\\u0647\\u0631\", \"\\u0645\\u0628\\u0647\\u0631\", \"\\u0645\\u062a\\u0627\\u0628\\u0639\\u064a\\u0646\", \"\\u0645\\u062a\\u0627\\u0628\\u0639\\u064a\\u0646\", \"\\u0645\\u062a\\u0627\\u0628\\u0639\\u064a\\u0646\", \"\\u0645\\u062a\\u0627\\u0628\\u0639\\u064a\\u0646\", \"\\u0645\\u062a\\u0627\\u0628\\u0639\\u064a\\u0646\", \"\\u0645\\u062a\\u0627\\u0628\\u0639\\u064a\\u0646\", \"\\u0645\\u062a\\u0627\\u0628\\u0639\\u064a\\u0646\", \"\\u0645\\u062a\\u0627\\u0628\\u0639\\u064a\\u0646\", \"\\u0645\\u062a\\u0627\\u0628\\u0639\\u064a\\u0646\", \"\\u0645\\u062a\\u0627\\u0628\\u0639\\u064a\\u0646\", \"\\u0645\\u062a\\u062c\\u0631\", \"\\u0645\\u062a\\u062c\\u0631\", \"\\u0645\\u062a\\u062c\\u0631\", \"\\u0645\\u062a\\u062c\\u0631\", \"\\u0645\\u062a\\u062c\\u0631\", \"\\u0645\\u062a\\u062c\\u0631\", \"\\u0645\\u062a\\u062c\\u0631\", \"\\u0645\\u062a\\u062c\\u0631\", \"\\u0645\\u062a\\u062c\\u0631\", \"\\u0645\\u062a\\u062c\\u0631\", \"\\u0645\\u062a\\u064a\", \"\\u0645\\u062a\\u064a\", \"\\u0645\\u062a\\u064a\", \"\\u0645\\u062d\\u0645\\u062f\", \"\\u0645\\u062d\\u0645\\u062f\", \"\\u0645\\u062d\\u0645\\u062f\", \"\\u0645\\u062d\\u0645\\u062f\", \"\\u0645\\u062d\\u0645\\u062f\", \"\\u0645\\u062d\\u0645\\u062f\", \"\\u0645\\u062d\\u0645\\u062f\", \"\\u0645\\u062d\\u0645\\u062f\", \"\\u0645\\u062d\\u0645\\u062f\", \"\\u0645\\u062d\\u0645\\u062f\", \"\\u0645\\u0639\\u0631\\u0636\", \"\\u0645\\u0639\\u0631\\u0636\", \"\\u0645\\u0639\\u0631\\u0636\", \"\\u0645\\u0639\\u0631\\u0636\", \"\\u0645\\u0639\\u0631\\u0636\", \"\\u0645\\u0639\\u0631\\u0636\", \"\\u0645\\u0639\\u0631\\u0636\", \"\\u0645\\u0639\\u0631\\u0636\", \"\\u0645\\u0639\\u0631\\u0636\", \"\\u0645\\u0639\\u0631\\u0636\", \"\\u0645\\u0643\\u0627\\u0646\", \"\\u0645\\u0643\\u0627\\u0646\", \"\\u0645\\u0643\\u0627\\u0646\", \"\\u0645\\u0643\\u0627\\u0646\", \"\\u0645\\u0643\\u0627\\u0646\", \"\\u0645\\u0643\\u0627\\u0646\", \"\\u0645\\u0643\\u0627\\u0646\", \"\\u0645\\u0643\\u0627\\u0646\", \"\\u0645\\u0643\\u0627\\u0646\", \"\\u0645\\u0643\\u0627\\u0646\", \"\\u0645\\u0643\\u0627\\u0646\\u0643\", \"\\u0645\\u0643\\u0627\\u0646\\u0643\", \"\\u0645\\u0643\\u0627\\u0646\\u0643\", \"\\u0645\\u0643\\u0627\\u0646\\u0643\", \"\\u0645\\u0643\\u0627\\u0646\\u0643\", \"\\u0645\\u0643\\u0646\", \"\\u0645\\u0643\\u0646\", \"\\u0645\\u0643\\u0646\", \"\\u0645\\u0643\\u0646\", \"\\u0645\\u0643\\u0646\", \"\\u0645\\u0643\\u0646\", \"\\u0645\\u0643\\u0646\", \"\\u0645\\u0643\\u0646\", \"\\u0645\\u0643\\u0646\", \"\\u0645\\u0643\\u0646\", \"\\u0645\\u0644\\u0643\", \"\\u0645\\u0644\\u0643\", \"\\u0645\\u0644\\u0643\", \"\\u0645\\u0644\\u0643\", \"\\u0645\\u0644\\u0643\", \"\\u0645\\u0644\\u0643\", \"\\u0645\\u0644\\u0643\", \"\\u0645\\u0644\\u0643\", \"\\u0645\\u0644\\u0643\", \"\\u0645\\u0644\\u0643\", \"\\u0645\\u0646\\u0634\\u0646\", \"\\u0645\\u0646\\u0634\\u0646\", \"\\u0645\\u0646\\u0634\\u0646\", \"\\u0645\\u0646\\u0634\\u0646\", \"\\u0645\\u0646\\u0634\\u0646\", \"\\u0645\\u0646\\u0634\\u0646\", \"\\u0645\\u0646\\u0634\\u0646\", \"\\u0645\\u0646\\u0634\\u0646\", \"\\u0645\\u0646\\u0634\\u0646\", \"\\u0645\\u0646\\u0634\\u0646\", \"\\u0645\\u0646\\u0635\\u0648\\u0631\", \"\\u0645\\u0646\\u0635\\u0648\\u0631\", \"\\u0645\\u0646\\u0635\\u0648\\u0631\", \"\\u0645\\u0646\\u0635\\u0648\\u0631\", \"\\u0645\\u0646\\u0635\\u0648\\u0631\", \"\\u0645\\u0646\\u0635\\u0648\\u0631\", \"\\u0645\\u0646\\u0635\\u0648\\u0631\", \"\\u0645\\u0646\\u0635\\u0648\\u0631\", \"\\u0645\\u0646\\u0635\\u0648\\u0631\", \"\\u0645\\u0646\\u0635\\u0648\\u0631\", \"\\u0645\\u0646\\u0637\\u0642\\u0647\", \"\\u0645\\u0646\\u0637\\u0642\\u0647\", \"\\u0645\\u0646\\u0637\\u0642\\u0647\", \"\\u0645\\u0646\\u0637\\u0642\\u0647\", \"\\u0645\\u0646\\u0637\\u0642\\u0647\", \"\\u0645\\u0648\\u0627\\u0642\\u0639\", \"\\u0645\\u0648\\u0627\\u0642\\u0639\", \"\\u0645\\u0648\\u0627\\u0642\\u0639\", \"\\u0645\\u0648\\u0627\\u0642\\u0639\", \"\\u0645\\u0648\\u0627\\u0642\\u0639\", \"\\u0645\\u0648\\u0627\\u0642\\u0639\", \"\\u0645\\u0648\\u0627\\u0642\\u0639\", \"\\u0645\\u0648\\u0627\\u0642\\u0639\", \"\\u0645\\u0648\\u0627\\u0642\\u0639\", \"\\u0645\\u0648\\u0627\\u0642\\u0639\", \"\\u0645\\u0648\\u062b\\u0642\\u0645\\u0646\", \"\\u0645\\u0648\\u062b\\u0642\\u0645\\u0646\", \"\\u0645\\u0648\\u062b\\u0642\\u0645\\u0646\", \"\\u0645\\u0648\\u062b\\u0642\\u0645\\u0646\", \"\\u0645\\u0648\\u062b\\u0642\\u0645\\u0646\", \"\\u0645\\u0648\\u062b\\u0642\\u0645\\u0646\", \"\\u0645\\u0648\\u062b\\u0642\\u0645\\u0646\", \"\\u0645\\u0648\\u062b\\u0642\\u0645\\u0646\", \"\\u0645\\u0648\\u062b\\u0642\\u0645\\u0646\", \"\\u0645\\u0648\\u062f\\u064a\\u0644\", \"\\u0645\\u0648\\u062f\\u064a\\u0644\", \"\\u0645\\u0648\\u0633\\u0645\", \"\\u0645\\u0648\\u0633\\u0645\", \"\\u0645\\u0648\\u0633\\u0645\", \"\\u0645\\u0648\\u0633\\u0645\", \"\\u0645\\u0648\\u0633\\u0645\", \"\\u0645\\u0648\\u0633\\u0645\", \"\\u0645\\u0648\\u0633\\u0645\", \"\\u0645\\u0648\\u0633\\u0645\", \"\\u0645\\u0648\\u0633\\u0645\", \"\\u0645\\u0648\\u0633\\u0645\", \"\\u0645\\u0648\\u0642\\u0639\\u0646\\u0627\", \"\\u0645\\u064a\\u0632\", \"\\u0645\\u064a\\u0632\", \"\\u0645\\u064a\\u0632\", \"\\u0645\\u064a\\u0632\", \"\\u0645\\u064a\\u0632\", \"\\u0645\\u064a\\u0632\", \"\\u0645\\u064a\\u0632\", \"\\u0645\\u064a\\u0632\", \"\\u0645\\u064a\\u0632\", \"\\u0645\\u064a\\u0632\", \"\\u0645\\u064a\\u0646\", \"\\u0645\\u064a\\u0646\", \"\\u0645\\u064a\\u0646\", \"\\u0645\\u064a\\u0646\", \"\\u0645\\u064a\\u0646\", \"\\u0645\\u064a\\u0646\", \"\\u0645\\u064a\\u0646\", \"\\u0645\\u064a\\u0646\", \"\\u0645\\u064a\\u0646\", \"\\u0645\\u064a\\u0646\", \"\\u0646\\u0627\\u062f\\u0631\", \"\\u0646\\u0627\\u062f\\u0631\", \"\\u0646\\u0627\\u062f\\u0631\", \"\\u0646\\u0627\\u062f\\u0631\", \"\\u0646\\u0627\\u062f\\u0631\", \"\\u0646\\u0627\\u062f\\u0631\", \"\\u0646\\u0627\\u062f\\u0631\", \"\\u0646\\u0627\\u062f\\u0631\", \"\\u0646\\u0627\\u062f\\u0631\", \"\\u0646\\u0627\\u062f\\u0631\", \"\\u0646\\u0635\\u064a\\u0628\\u0643\", \"\\u0646\\u0635\\u064a\\u0628\\u0643\", \"\\u0646\\u0635\\u064a\\u0628\\u0643\", \"\\u0646\\u0635\\u064a\\u0628\\u0643\", \"\\u0646\\u0635\\u064a\\u0628\\u0643\", \"\\u0646\\u0635\\u064a\\u0628\\u0643\", \"\\u0646\\u0635\\u064a\\u0628\\u0643\", \"\\u0646\\u0635\\u064a\\u0628\\u0643\", \"\\u0646\\u0635\\u064a\\u0628\\u0643\", \"\\u0646\\u0635\\u064a\\u0628\\u0643\", \"\\u0647\\u062f\\u0627\\u064a\\u0627\", \"\\u0647\\u062f\\u0627\\u064a\\u0627\", \"\\u0647\\u062f\\u0627\\u064a\\u0627\", \"\\u0647\\u062f\\u0627\\u064a\\u0627\", \"\\u0647\\u062f\\u0627\\u064a\\u0627\", \"\\u0647\\u062f\\u0627\\u064a\\u0627\", \"\\u0647\\u062f\\u0627\\u064a\\u0627\", \"\\u0647\\u062f\\u0627\\u064a\\u0627\", \"\\u0647\\u062f\\u0627\\u064a\\u0627\", \"\\u0647\\u062f\\u0627\\u064a\\u0627\", \"\\u0647\\u062f\\u064a\\u062a\\u0643\", \"\\u0648\\u0627\\u062a\\u0633\\u0627\\u0628\", \"\\u0648\\u0627\\u062a\\u0633\\u0627\\u0628\", \"\\u0648\\u0627\\u062a\\u0633\\u0627\\u0628\", \"\\u0648\\u0627\\u062a\\u0633\\u0627\\u0628\", \"\\u0648\\u0627\\u062a\\u0633\\u0627\\u0628\", \"\\u0648\\u0627\\u062a\\u0633\\u0627\\u0628\", \"\\u0648\\u0627\\u062a\\u0633\\u0627\\u0628\", \"\\u0648\\u0627\\u062a\\u0633\\u0627\\u0628\", \"\\u0648\\u0627\\u062a\\u0633\\u0627\\u0628\", \"\\u0648\\u0627\\u062a\\u0633\\u0627\\u0628\", \"\\u0648\\u0627\\u0632\\u0646\", \"\\u0648\\u0627\\u0632\\u0646\", \"\\u0648\\u0627\\u0632\\u0646\", \"\\u0648\\u0627\\u0632\\u0646\", \"\\u0648\\u0627\\u0632\\u0646\", \"\\u0648\\u0627\\u0632\\u0646\", \"\\u0648\\u0627\\u0632\\u0646\", \"\\u0648\\u0627\\u0634\\u0643\\u0627\", \"\\u0648\\u0627\\u0634\\u0643\\u0627\\u0644\\u0647\", \"\\u0648\\u0627\\u0634\\u0643\\u0627\\u0644\\u0647\", \"\\u0648\\u0627\\u0644\\u0641\\u0646\", \"\\u0648\\u0627\\u0644\\u0641\\u0646\", \"\\u0648\\u0627\\u0644\\u0641\\u0646\", \"\\u0648\\u0627\\u0644\\u0641\\u0646\", \"\\u0648\\u0627\\u0644\\u0641\\u0646\", \"\\u0648\\u0627\\u0644\\u0641\\u0646\\u0627\\u0646\", \"\\u0648\\u0627\\u0644\\u0641\\u0646\\u0627\\u0646\", \"\\u0648\\u0627\\u0644\\u0641\\u0646\\u0627\\u0646\", \"\\u0648\\u0627\\u0644\\u0641\\u0646\\u0627\\u0646\", \"\\u0648\\u0627\\u0644\\u0641\\u0646\\u0627\\u0646\", \"\\u0648\\u0627\\u0644\\u0641\\u0646\\u0627\\u0646\", \"\\u0648\\u0627\\u0644\\u0641\\u0646\\u0627\\u0646\", \"\\u0648\\u0627\\u0644\\u0641\\u0646\\u0627\\u0646\", \"\\u0648\\u0627\\u0644\\u0641\\u0646\\u0627\\u0646\", \"\\u0648\\u062a\\u0627\\u0628\\u0639\", \"\\u0648\\u062a\\u0627\\u0628\\u0639\", \"\\u0648\\u062a\\u0627\\u0628\\u0639\", \"\\u0648\\u062a\\u0627\\u0628\\u0639\", \"\\u0648\\u062a\\u0627\\u0628\\u0639\", \"\\u0648\\u062a\\u0627\\u0628\\u0639\", \"\\u0648\\u062a\\u0627\\u0628\\u0639\", \"\\u0648\\u062a\\u0627\\u0628\\u0639\", \"\\u0648\\u062a\\u0627\\u0628\\u0639\", \"\\u0648\\u062a\\u0627\\u0628\\u0639\", \"\\u0648\\u062a\\u0631\\u0643\\u064a\\u0628\", \"\\u0648\\u062a\\u0631\\u0643\\u064a\\u0628\", \"\\u0648\\u062a\\u0631\\u0643\\u064a\\u0628\", \"\\u0648\\u062a\\u0631\\u0643\\u064a\\u0628\", \"\\u0648\\u062a\\u0631\\u0643\\u064a\\u0628\", \"\\u0648\\u062a\\u0631\\u0643\\u064a\\u0628\", \"\\u0648\\u062a\\u0631\\u0643\\u064a\\u0628\", \"\\u0648\\u062a\\u0631\\u0643\\u064a\\u0628\", \"\\u0648\\u062a\\u0631\\u0643\\u064a\\u0628\", \"\\u0648\\u062a\\u0631\\u0643\\u064a\\u0628\", \"\\u0648\\u0631\\u0648\\u062a\\u0627\\u0646\\u0627\", \"\\u0648\\u0631\\u0648\\u062a\\u0627\\u0646\\u0627\", \"\\u0648\\u0631\\u0648\\u062a\\u0627\\u0646\\u0627\", \"\\u0648\\u0631\\u0648\\u062a\\u0627\\u0646\\u0627\", \"\\u0648\\u0631\\u0648\\u062a\\u0627\\u0646\\u0627\", \"\\u0648\\u0631\\u0648\\u062a\\u0627\\u0646\\u0627\", \"\\u0648\\u0631\\u0648\\u062a\\u0627\\u0646\\u0627\", \"\\u0648\\u0631\\u0648\\u062a\\u0627\\u0646\\u0627\", \"\\u0648\\u0631\\u0648\\u062a\\u0627\\u0646\\u0627\", \"\\u0648\\u0631\\u0648\\u062a\\u0627\\u0646\\u0627\", \"\\u0648\\u0633\\u0639\", \"\\u0648\\u0633\\u0639\", \"\\u0648\\u0633\\u0639\", \"\\u0648\\u0639\\u0646\\u0627\\u0621\", \"\\u0648\\u0645\\u0627\\u0632\\u0627\\u0644\\u062a\", \"\\u0648\\u0645\\u0627\\u0632\\u0627\\u0644\\u062a\", \"\\u0648\\u0645\\u0627\\u0632\\u0627\\u0644\\u062a\", \"\\u0648\\u0645\\u0627\\u0632\\u0627\\u0644\\u062a\", \"\\u0648\\u0645\\u0627\\u0632\\u0627\\u0644\\u062a\", \"\\u0648\\u0645\\u0627\\u0632\\u0627\\u0644\\u062a\", \"\\u0648\\u0645\\u0627\\u0632\\u0627\\u0644\\u062a\", \"\\u0648\\u0645\\u0627\\u0632\\u0627\\u0644\\u062a\", \"\\u0648\\u0645\\u0627\\u0632\\u0627\\u0644\\u062a\", \"\\u0648\\u0645\\u0627\\u0632\\u0627\\u0644\\u062a\", \"\\u0648\\u064a\\u062d\\u0633\\u062f\\u0648\\u0646\\u0627\", \"\\u0648\\u064a\\u062d\\u0633\\u062f\\u0648\\u0646\\u0627\", \"\\u0648\\u064a\\u062d\\u0633\\u062f\\u0648\\u0646\\u0627\", \"\\u0648\\u064a\\u062d\\u0633\\u062f\\u0648\\u0646\\u0627\", \"\\u0648\\u064a\\u062d\\u0633\\u062f\\u0648\\u0646\\u0627\", \"\\u0648\\u064a\\u062d\\u0633\\u062f\\u0648\\u0646\\u0627\", \"\\u0648\\u064a\\u062d\\u0633\\u062f\\u0648\\u0646\\u0627\", \"\\u0648\\u064a\\u062d\\u0633\\u062f\\u0648\\u0646\\u0627\", \"\\u0648\\u064a\\u062d\\u0633\\u062f\\u0648\\u0646\\u0627\", \"\\u0648\\u064a\\u062d\\u0633\\u062f\\u0648\\u0646\\u0627\", \"\\u064a\\u0627\\u0631\\u0628\", \"\\u064a\\u0627\\u0631\\u064a\\u062a\", \"\\u064a\\u0627\\u0631\\u064a\\u062a\", \"\\u064a\\u0627\\u0631\\u064a\\u062a\", \"\\u064a\\u0627\\u0631\\u064a\\u062a\", \"\\u064a\\u0627\\u0631\\u064a\\u062a\", \"\\u064a\\u0627\\u0631\\u064a\\u062a\", \"\\u064a\\u0627\\u0631\\u064a\\u062a\", \"\\u064a\\u0627\\u0631\\u064a\\u062a\", \"\\u064a\\u0633\\u062a\\u0627\\u0647\\u0644\", \"\\u064a\\u0633\\u062a\\u0627\\u0647\\u0644\", \"\\u064a\\u0633\\u062a\\u0627\\u0647\\u0644\", \"\\u064a\\u0633\\u062a\\u0627\\u0647\\u0644\", \"\\u064a\\u0633\\u062a\\u0627\\u0647\\u0644\", \"\\u064a\\u0633\\u062a\\u0627\\u0647\\u0644\", \"\\u064a\\u0633\\u062a\\u0627\\u0647\\u0644\", \"\\u064a\\u0633\\u062a\\u0627\\u0647\\u0644\", \"\\u064a\\u0633\\u062a\\u0627\\u0647\\u0644\", \"\\u064a\\u0633\\u062a\\u0627\\u0647\\u0644\", \"\\u064a\\u0633\\u0645\\u0639\\u0646\\u0627\", \"\\u064a\\u0633\\u0645\\u0639\\u0646\\u0627\", \"\\u064a\\u0633\\u0645\\u0639\\u0646\\u0627\", \"\\u064a\\u0633\\u0645\\u0639\\u0646\\u0627\", \"\\u064a\\u0633\\u0645\\u0639\\u0646\\u0627\", \"\\u064a\\u0633\\u0645\\u0639\\u0646\\u0627\", \"\\u064a\\u0633\\u0645\\u0639\\u0646\\u0627\", \"\\u064a\\u0633\\u0645\\u0639\\u0646\\u0627\", \"\\u064a\\u0633\\u0645\\u0639\\u0646\\u0627\", \"\\u064a\\u0633\\u0645\\u0639\\u0646\\u0627\", \"\\u064a\\u0634\\u0639\\u0644\\u0627\\u0646\", \"\\u064a\\u0634\\u0639\\u0644\\u0627\\u0646\", \"\\u064a\\u0634\\u0639\\u0644\\u0627\\u0646\", \"\\u064a\\u0634\\u0639\\u0644\\u0627\\u0646\", \"\\u064a\\u0634\\u0639\\u0644\\u0627\\u0646\", \"\\u064a\\u0634\\u0639\\u0644\\u0627\\u0646\", \"\\u064a\\u0634\\u0639\\u0644\\u0627\\u0646\", \"\\u064a\\u0634\\u0639\\u0644\\u0627\\u0646\", \"\\u064a\\u0634\\u0639\\u0644\\u0627\\u0646\", \"\\u064a\\u0634\\u0639\\u0644\\u0627\\u0646\", \"\\u064a\\u0637\\u0631\\u0628\\u0646\\u0627\", \"\\u064a\\u0637\\u0631\\u0628\\u0646\\u0627\", \"\\u064a\\u0637\\u0631\\u0628\\u0646\\u0627\", \"\\u064a\\u0637\\u0631\\u0628\\u0646\\u0627\", \"\\u064a\\u0637\\u0631\\u0628\\u0646\\u0627\", \"\\u064a\\u0637\\u0631\\u0628\\u0646\\u0627\", \"\\u064a\\u0637\\u0631\\u0628\\u0646\\u0627\", \"\\u064a\\u0637\\u0631\\u0628\\u0646\\u0627\", \"\\u064a\\u0637\\u0631\\u0628\\u0646\\u0627\", \"\\u064a\\u0637\\u0631\\u0628\\u0646\\u0627\", \"\\u064a\\u0646\\u0627\\u0628\\u064a\\u0639\", \"\\u064a\\u0646\\u0627\\u0628\\u064a\\u0639\", \"\\u064a\\u0646\\u0627\\u0628\\u064a\\u0639\", \"\\u064a\\u0646\\u0627\\u0628\\u064a\\u0639\", \"\\u064a\\u0646\\u0627\\u0628\\u064a\\u0639\", \"\\u064a\\u0646\\u0627\\u0628\\u064a\\u0639\", \"\\u064a\\u0646\\u0627\\u0628\\u064a\\u0639\", \"\\u064a\\u0646\\u0627\\u0628\\u064a\\u0639\", \"\\u064a\\u0646\\u0627\\u0628\\u064a\\u0639\", \"\\u064a\\u0646\\u0627\\u0628\\u064a\\u0639\", \"\\u064a\\u0648\\u062c\\u062f\", \"\\u064a\\u0648\\u062c\\u062f\", \"\\u064a\\u0648\\u062c\\u062f\", \"\\u064a\\u0648\\u062c\\u062f\", \"\\u064a\\u0648\\u062c\\u062f\", \"\\u064a\\u0648\\u062c\\u062f\", \"\\u064a\\u0648\\u062c\\u062f\", \"\\u064a\\u0648\\u062c\\u062f\", \"\\u064a\\u0648\\u062c\\u062f\", \"\\u064a\\u0648\\u0645\\u0646\\u0627\", \"\\u064a\\u0648\\u0645\\u0646\\u0627\"]}, \"R\": 30, \"lambda.step\": 0.01, \"plot.opts\": {\"xlab\": \"PC1\", \"ylab\": \"PC2\"}, \"topic.order\": [6, 7, 8, 9, 5, 3, 2, 10, 1, 4]};\n",
       "\n",
       "function LDAvis_load_lib(url, callback){\n",
       "  var s = document.createElement('script');\n",
       "  s.src = url;\n",
       "  s.async = true;\n",
       "  s.onreadystatechange = s.onload = callback;\n",
       "  s.onerror = function(){console.warn(\"failed to load library \" + url);};\n",
       "  document.getElementsByTagName(\"head\")[0].appendChild(s);\n",
       "}\n",
       "\n",
       "if(typeof(LDAvis) !== \"undefined\"){\n",
       "   // already loaded: just create the visualization\n",
       "   !function(LDAvis){\n",
       "       new LDAvis(\"#\" + \"ldavis_el2167615896960708161082806501\", ldavis_el2167615896960708161082806501_data);\n",
       "   }(LDAvis);\n",
       "}else if(typeof define === \"function\" && define.amd){\n",
       "   // require.js is available: use it to load d3/LDAvis\n",
       "   require.config({paths: {d3: \"https://d3js.org/d3.v5\"}});\n",
       "   require([\"d3\"], function(d3){\n",
       "      window.d3 = d3;\n",
       "      LDAvis_load_lib(\"https://cdn.jsdelivr.net/gh/bmabey/pyLDAvis@3.3.1/pyLDAvis/js/ldavis.v3.0.0.js\", function(){\n",
       "        new LDAvis(\"#\" + \"ldavis_el2167615896960708161082806501\", ldavis_el2167615896960708161082806501_data);\n",
       "      });\n",
       "    });\n",
       "}else{\n",
       "    // require.js not available: dynamically load d3 & LDAvis\n",
       "    LDAvis_load_lib(\"https://d3js.org/d3.v5.js\", function(){\n",
       "         LDAvis_load_lib(\"https://cdn.jsdelivr.net/gh/bmabey/pyLDAvis@3.3.1/pyLDAvis/js/ldavis.v3.0.0.js\", function(){\n",
       "                 new LDAvis(\"#\" + \"ldavis_el2167615896960708161082806501\", ldavis_el2167615896960708161082806501_data);\n",
       "            })\n",
       "         });\n",
       "}\n",
       "</script>"
      ],
      "text/plain": [
       "PreparedData(topic_coordinates=              x         y  topics  cluster       Freq\n",
       "topic                                                \n",
       "5     -0.005929 -0.006519       1        1  10.056834\n",
       "6     -0.008774  0.006648       2        1  10.048946\n",
       "7      0.007500  0.003687       3        1  10.037147\n",
       "8     -0.005101 -0.002538       4        1  10.003915\n",
       "4      0.004875 -0.008292       5        1   9.994832\n",
       "2     -0.000349  0.003292       6        1   9.991169\n",
       "1      0.001297  0.002671       7        1   9.984384\n",
       "9      0.006168  0.002994       8        1   9.983791\n",
       "0     -0.001165 -0.000601       9        1   9.968072\n",
       "3      0.001480 -0.001341      10        1   9.930911, topic_info=         Term        Freq       Total Category  logprob  loglift\n",
       "27      هدايا  279.000000  279.000000  Default  30.0000  30.0000\n",
       "25     جوالين  278.000000  278.000000  Default  29.0000  29.0000\n",
       "1        موسم  439.000000  439.000000  Default  28.0000  28.0000\n",
       "23       علما  278.000000  278.000000  Default  27.0000  27.0000\n",
       "20      اليله  292.000000  292.000000  Default  26.0000  26.0000\n",
       "..        ...         ...         ...      ...      ...      ...\n",
       "90       رياض    5.488817   61.161776  Topic10  -5.4280  -0.1013\n",
       "5        اديل    4.765216   49.940468  Topic10  -5.5693  -0.0400\n",
       "89   بوليفارد    5.555960   64.400993  Topic10  -5.4158  -0.1407\n",
       "158      خالد    3.667859   36.130176  Topic10  -5.8311   0.0220\n",
       "392       طقم    3.363615   43.052321  Topic10  -5.9176  -0.2399\n",
       "\n",
       "[648 rows x 6 columns], token_table=      Topic      Freq   Term\n",
       "term                        \n",
       "92        1  0.080148   احجز\n",
       "92        2  0.080148   احجز\n",
       "92        3  0.080148   احجز\n",
       "92        4  0.080148   احجز\n",
       "92        5  0.080148   احجز\n",
       "...     ...       ...    ...\n",
       "576       7  0.129411   يوجد\n",
       "576       8  0.129411   يوجد\n",
       "576       9  0.129411   يوجد\n",
       "858       1  0.231718  يومنا\n",
       "858      10  0.231718  يومنا\n",
       "\n",
       "[1820 rows x 3 columns], R=30, lambda_step=0.01, plot_opts={'xlab': 'PC1', 'ylab': 'PC2'}, topic_order=[6, 7, 8, 9, 5, 3, 2, 10, 1, 4])"
      ]
     },
     "execution_count": 53,
     "metadata": {},
     "output_type": "execute_result"
    }
   ],
   "source": [
    "p"
   ]
  },
  {
   "cell_type": "markdown",
   "metadata": {},
   "source": [
    "# Thanks"
   ]
  }
 ],
 "metadata": {
  "extensions": {
   "jupyter_dashboards": {
    "activeView": "default_view",
    "version": 1,
    "views": {
     "default_view": {
      "cellMargin": 10,
      "defaultCellHeight": 40,
      "maxColumns": 12,
      "name": "active_view",
      "type": "grid"
     }
    }
   }
  },
  "kernelspec": {
   "display_name": "Python 3",
   "language": "python",
   "name": "python3"
  },
  "language_info": {
   "codemirror_mode": {
    "name": "ipython",
    "version": 3
   },
   "file_extension": ".py",
   "mimetype": "text/x-python",
   "name": "python",
   "nbconvert_exporter": "python",
   "pygments_lexer": "ipython3",
   "version": "3.8.5"
  }
 },
 "nbformat": 4,
 "nbformat_minor": 4
}
